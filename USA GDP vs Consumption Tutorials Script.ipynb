{
 "cells": [
  {
   "cell_type": "markdown",
   "metadata": {},
   "source": [
    "# Estimating Monthly USA GDP figures via Expenditure Approach and the Holt-Winters Model\n",
    "\n",
    "# Part 1: Introduction to the Theory, Codebook and Python Libraries\n",
    "\n",
    "Gross Domestic Product (GDP) is often thought of and calculated with an [Expenditure Approach](https://courses.lumenlearning.com/boundless-economics/chapter/measuring-output-using-gdp/) such that $$GDP=C+I+G+(X−M)$$ where  C  = Consumption,  I  = Investment,  G  = Government Spending, &  (X–M)  = Net Exports.\n",
    "\n",
    "The United States of America( USA)'s GDP (US GDP) is released quarterly by the [Bureau of Economic Analysis, U.S. Department of Commerce](http://product.datastream.com/browse/search.aspx?dsid=ZRQW955&AppGroup=DSAddin&q=USGDP...B&prev=99_GDP). The only aforementioned component of US GDP released on a monthly basis is C, [USA's Consumption Data](http://product.datastream.com/browse/search.aspx?dsid=ZRQW955&AppGroup=DSAddin&q=USPERCONB&prev=99_PERSONAL+CONSUMPTION+EXPENDITURES+(AR)&prev_csrc=12). Monthly figures of GDP figures are thus not available, and estimating such values have proven of interest in academia (Mitchell, Smith, Weale, Wright, and Salazar (2005)) and in practice.\n",
    "\n",
    "In this article, we will attempt to compute monthly US GDP estimates via the Holt-Winters (HW) method (resources on the HW model can be found [here](https://medium.com/datadriveninvestor/how-to-build-exponential-smoothing-models-using-python-simple-exponential-smoothing-holt-and-da371189e1a1) and - for academics - [here](https://otexts.com/fpp2/holt-winters.html)). We then put ourselves in the shoes of an analyst who only has quarterly GDP component data (C, I, G or (X-M)). She/He uses the latest quarterly releases of GDP component datawhich spans from 2007 (in this study) to last quarter (last month at the earliest). She/He then uses the [Holt-Winters method](https://medium.com/datadriveninvestor/how-to-build-exponential-smoothing-models-using-python-simple-exponential-smoothing-holt-and-da371189e1a1) model to compute a forecast for the current period (month).\n",
    "\n",
    "Accurate monthly GDP figures can be of great use in macroeconomic models going forward."
   ]
  },
  {
   "cell_type": "markdown",
   "metadata": {},
   "source": [
    "## Development Tools & Resources\n",
    "The example code demonstrating the use case is based on the following development tools and resources:\n",
    "\n",
    "- Refinitiv's [DataStream](https://www.refinitiv.com/en/products/datastream-macroeconomic-analysis) Web Services (DSWS): Access to DataStream data. A DataStream or Refinitiv Workspace IDentification (ID) will be needed to run the code bellow.\n",
    "- Python Environment:\n",
    "Tested with Python 3.7\n",
    "- Packages: [DatastreamDSWS](https://www.refinitiv.com/en/products/datastream-macroeconomic-analysis), [Numpy](https://numpy.org/), [Pandas](https://pandas.pydata.org/), [statsmodel](https://www.statsmodels.org/stable/index.html), [scipy](https://www.scipy.org/) and [Matplotlib](https://matplotlib.org/). The Python built in modules [os](https://docs.python.org/3/library/os.html), [warnings](https://docs.python.org/3/library/warnings.html?highlight=warnings#module-warnings), [statistics](https://docs.python.org/3/library/statistics.html), [datetime](https://docs.python.org/3/library/datetime.html) and [dateutil](https://dateutil.readthedocs.io/en/stable/) are also required."
   ]
  },
  {
   "cell_type": "markdown",
   "metadata": {},
   "source": [
    "$ \\\\ $\n",
    "## Import libraries"
   ]
  },
  {
   "cell_type": "code",
   "execution_count": 1,
   "metadata": {},
   "outputs": [
    {
     "name": "stdout",
     "output_type": "stream",
     "text": [
      "This code runs on Python version 3.7.7 in 64bit\n"
     ]
    }
   ],
   "source": [
    "# The ' from ... import ' structure here allows us to only import the\n",
    "# module ' python_version ' from the library ' platform ':\n",
    "import platform\n",
    "from platform import python_version\n",
    "print(\"This code runs on Python version \" + python_version() + \" in \" + platform.architecture()[0])"
   ]
  },
  {
   "cell_type": "code",
   "execution_count": 2,
   "metadata": {},
   "outputs": [],
   "source": [
    "import DatastreamDSWS as DSWS\n",
    "\n",
    "# We can use our Refinitiv's Datastream Web Socket (DSWS) API keys that allows us to be identified by Refinitiv's back-end services and enables us to request (and fetch) data:\n",
    "\n",
    "# The username and password is placed in a text file so that it may be used in this code without showing it itself.\n",
    "DSWS_username = open(\"Datastream_username.txt\",\"r\")\n",
    "DSWS_password = open(\"Datastream_password.txt\",\"r\")\n",
    "\n",
    "ds = DSWS.Datastream(username = str(DSWS_username.read()), password = str(DSWS_password.read()))\n",
    "\n",
    "# It is best to close the files we opened in order to make sure that we don't stop any other services/programs from accessing them if they need to.\n",
    "DSWS_username.close()\n",
    "DSWS_password.close() "
   ]
  },
  {
   "cell_type": "code",
   "execution_count": 3,
   "metadata": {},
   "outputs": [],
   "source": [
    "import datetime # datetime will allow us to manipulate Western World dates\n",
    "import dateutil # dateutil will allow us to manipulate dates in equations\n",
    "import warnings # warnings will allow us to manipulate warning messages (such as depreciation messages)"
   ]
  },
  {
   "cell_type": "code",
   "execution_count": 4,
   "metadata": {},
   "outputs": [
    {
     "name": "stdout",
     "output_type": "stream",
     "text": [
      "The numpy library imported in this code is version: 1.18.5\n",
      "The statsmodels library imported in this code is version: 0.11.1\n",
      "The scipy library imported in this code is version: 1.4.1\n"
     ]
    }
   ],
   "source": [
    "import statistics # This is a Python-built-in module/library, therefore it does not have a specific version number.\n",
    "import numpy\n",
    "import statsmodels\n",
    "from statsmodels.tsa.api import ExponentialSmoothing, SimpleExpSmoothing, Holt\n",
    "import scipy\n",
    "from scipy import stats\n",
    "for i,j in zip([\"numpy\", \"statsmodels\", \"scipy\"], [numpy, statsmodels, scipy]):\n",
    "    print(\"The \" + str(i) + \" library imported in this code is version: \" + j.__version__)"
   ]
  },
  {
   "cell_type": "code",
   "execution_count": 5,
   "metadata": {},
   "outputs": [
    {
     "name": "stdout",
     "output_type": "stream",
     "text": [
      "The pandas library imported in this code is version: 1.1.4\n"
     ]
    }
   ],
   "source": [
    "import pandas\n",
    "pandas.set_option('display.max_columns', None) # This line will ensure that all columns of our data-frames are always shown\n",
    "print(\"The pandas library imported in this code is version: \" + pandas.__version__)"
   ]
  },
  {
   "cell_type": "code",
   "execution_count": 6,
   "metadata": {},
   "outputs": [
    {
     "name": "stdout",
     "output_type": "stream",
     "text": [
      "The matplotlib library imported in this code is version: 3.3.3\n"
     ]
    }
   ],
   "source": [
    "import matplotlib\n",
    "import matplotlib.pyplot as plt\n",
    "print(\"The matplotlib library imported in this code is version: \"+ matplotlib.__version__)"
   ]
  },
  {
   "cell_type": "markdown",
   "metadata": {},
   "source": [
    "The cell below defines a function that appends our monthly data-frame with chosen data"
   ]
  },
  {
   "cell_type": "markdown",
   "metadata": {},
   "source": [
    "$$ \\\\ $$\n",
    "# Part 2: Introduction to Some Python Fundamentals and First Functions"
   ]
  },
  {
   "cell_type": "code",
   "execution_count": 7,
   "metadata": {},
   "outputs": [
    {
     "data": {
      "text/plain": [
       "str"
      ]
     },
     "execution_count": 7,
     "metadata": {},
     "output_type": "execute_result"
    }
   ],
   "source": [
    "# Object:\n",
    "test = \"Tea\"\n",
    "# Type of an object:\n",
    "type(test)"
   ]
  },
  {
   "cell_type": "code",
   "execution_count": 8,
   "metadata": {},
   "outputs": [
    {
     "name": "stdout",
     "output_type": "stream",
     "text": [
      "Tea\n"
     ]
    }
   ],
   "source": [
    "# Functions:\n",
    "print(test)"
   ]
  },
  {
   "cell_type": "code",
   "execution_count": 9,
   "metadata": {},
   "outputs": [
    {
     "name": "stdout",
     "output_type": "stream",
     "text": [
      "Tea\n"
     ]
    }
   ],
   "source": [
    "print(\"Tea\")"
   ]
  },
  {
   "cell_type": "code",
   "execution_count": 10,
   "metadata": {},
   "outputs": [
    {
     "data": {
      "text/plain": [
       "'91'"
      ]
     },
     "execution_count": 10,
     "metadata": {},
     "output_type": "execute_result"
    }
   ],
   "source": [
    "# Strings 1:\n",
    "\"9\" + \"1\""
   ]
  },
  {
   "cell_type": "code",
   "execution_count": 11,
   "metadata": {},
   "outputs": [],
   "source": [
    "# # Strings 2:\n",
    "# \"9\" - \"1\""
   ]
  },
  {
   "cell_type": "code",
   "execution_count": 12,
   "metadata": {},
   "outputs": [
    {
     "data": {
      "text/plain": [
       "8"
      ]
     },
     "execution_count": 12,
     "metadata": {},
     "output_type": "execute_result"
    }
   ],
   "source": [
    "# Numbers:\n",
    "9 - 1"
   ]
  },
  {
   "cell_type": "code",
   "execution_count": 13,
   "metadata": {},
   "outputs": [
    {
     "data": {
      "text/plain": [
       "float"
      ]
     },
     "execution_count": 13,
     "metadata": {},
     "output_type": "execute_result"
    }
   ],
   "source": [
    "type(float(1))"
   ]
  },
  {
   "cell_type": "code",
   "execution_count": 14,
   "metadata": {},
   "outputs": [
    {
     "data": {
      "text/plain": [
       "int"
      ]
     },
     "execution_count": 14,
     "metadata": {},
     "output_type": "execute_result"
    }
   ],
   "source": [
    "type(1)"
   ]
  },
  {
   "cell_type": "code",
   "execution_count": 15,
   "metadata": {},
   "outputs": [],
   "source": [
    "def Add_One(Number):\n",
    "    print(Number + 1)"
   ]
  },
  {
   "cell_type": "code",
   "execution_count": 16,
   "metadata": {},
   "outputs": [
    {
     "name": "stdout",
     "output_type": "stream",
     "text": [
      "9\n"
     ]
    }
   ],
   "source": [
    "Add_One(Number = 8)"
   ]
  },
  {
   "cell_type": "markdown",
   "metadata": {},
   "source": [
    "## Get Coding\n",
    "### Monthly Data\n",
    "#### [U.S.A.'s Consumption Data](http://product.datastream.com/browse/search.aspx?dsid=ZRQW955&AppGroup=DSAddin&q=USPERCONB&prev=99_PERSONAL+CONSUMPTION+EXPENDITURES+(AR)&prev_csrc=12)"
   ]
  },
  {
   "cell_type": "code",
   "execution_count": 17,
   "metadata": {},
   "outputs": [],
   "source": [
    "data = ds.get_data(tickers = 'USPERCONB', # this is the ticker for United States, Personal Outlays, Personal Consumption Expenditure, Overall, Total, Current Prices, AR, SA, USD\n",
    "                   fields = \"X\", # DataStream's default field is 'X'\n",
    "                   start = '1950-02-01',\n",
    "                   freq = 'M') * 1000000000"
   ]
  },
  {
   "cell_type": "code",
   "execution_count": 18,
   "metadata": {},
   "outputs": [
    {
     "data": {
      "text/html": [
       "<div>\n",
       "<style scoped>\n",
       "    .dataframe tbody tr th:only-of-type {\n",
       "        vertical-align: middle;\n",
       "    }\n",
       "\n",
       "    .dataframe tbody tr th {\n",
       "        vertical-align: top;\n",
       "    }\n",
       "\n",
       "    .dataframe thead tr th {\n",
       "        text-align: left;\n",
       "    }\n",
       "\n",
       "    .dataframe thead tr:last-of-type th {\n",
       "        text-align: right;\n",
       "    }\n",
       "</style>\n",
       "<table border=\"1\" class=\"dataframe\">\n",
       "  <thead>\n",
       "    <tr>\n",
       "      <th>Instrument</th>\n",
       "      <th>USPERCONB</th>\n",
       "    </tr>\n",
       "    <tr>\n",
       "      <th>Field</th>\n",
       "      <th>X</th>\n",
       "    </tr>\n",
       "    <tr>\n",
       "      <th>Dates</th>\n",
       "      <th></th>\n",
       "    </tr>\n",
       "  </thead>\n",
       "  <tbody>\n",
       "    <tr>\n",
       "      <th>1950-02-15</th>\n",
       "      <td>NaN</td>\n",
       "    </tr>\n",
       "    <tr>\n",
       "      <th>1950-03-15</th>\n",
       "      <td>NaN</td>\n",
       "    </tr>\n",
       "    <tr>\n",
       "      <th>1950-04-15</th>\n",
       "      <td>NaN</td>\n",
       "    </tr>\n",
       "    <tr>\n",
       "      <th>1950-05-15</th>\n",
       "      <td>NaN</td>\n",
       "    </tr>\n",
       "    <tr>\n",
       "      <th>1950-06-15</th>\n",
       "      <td>NaN</td>\n",
       "    </tr>\n",
       "    <tr>\n",
       "      <th>...</th>\n",
       "      <td>...</td>\n",
       "    </tr>\n",
       "    <tr>\n",
       "      <th>2020-09-15</th>\n",
       "      <td>1.458274e+13</td>\n",
       "    </tr>\n",
       "    <tr>\n",
       "      <th>2020-10-15</th>\n",
       "      <td>1.463014e+13</td>\n",
       "    </tr>\n",
       "    <tr>\n",
       "      <th>2020-11-15</th>\n",
       "      <td>1.456682e+13</td>\n",
       "    </tr>\n",
       "    <tr>\n",
       "      <th>2020-12-15</th>\n",
       "      <td>NaN</td>\n",
       "    </tr>\n",
       "    <tr>\n",
       "      <th>2021-01-15</th>\n",
       "      <td>NaN</td>\n",
       "    </tr>\n",
       "  </tbody>\n",
       "</table>\n",
       "<p>852 rows × 1 columns</p>\n",
       "</div>"
      ],
      "text/plain": [
       "Instrument     USPERCONB\n",
       "Field                  X\n",
       "Dates                   \n",
       "1950-02-15           NaN\n",
       "1950-03-15           NaN\n",
       "1950-04-15           NaN\n",
       "1950-05-15           NaN\n",
       "1950-06-15           NaN\n",
       "...                  ...\n",
       "2020-09-15  1.458274e+13\n",
       "2020-10-15  1.463014e+13\n",
       "2020-11-15  1.456682e+13\n",
       "2020-12-15           NaN\n",
       "2021-01-15           NaN\n",
       "\n",
       "[852 rows x 1 columns]"
      ]
     },
     "execution_count": 18,
     "metadata": {},
     "output_type": "execute_result"
    }
   ],
   "source": [
    "data"
   ]
  },
  {
   "cell_type": "code",
   "execution_count": 19,
   "metadata": {},
   "outputs": [
    {
     "data": {
      "text/html": [
       "<div>\n",
       "<style scoped>\n",
       "    .dataframe tbody tr th:only-of-type {\n",
       "        vertical-align: middle;\n",
       "    }\n",
       "\n",
       "    .dataframe tbody tr th {\n",
       "        vertical-align: top;\n",
       "    }\n",
       "\n",
       "    .dataframe thead tr th {\n",
       "        text-align: left;\n",
       "    }\n",
       "\n",
       "    .dataframe thead tr:last-of-type th {\n",
       "        text-align: right;\n",
       "    }\n",
       "</style>\n",
       "<table border=\"1\" class=\"dataframe\">\n",
       "  <thead>\n",
       "    <tr>\n",
       "      <th>Instrument</th>\n",
       "      <th>USPERCONB</th>\n",
       "    </tr>\n",
       "    <tr>\n",
       "      <th>Field</th>\n",
       "      <th>X</th>\n",
       "    </tr>\n",
       "    <tr>\n",
       "      <th>Dates</th>\n",
       "      <th></th>\n",
       "    </tr>\n",
       "  </thead>\n",
       "  <tbody>\n",
       "    <tr>\n",
       "      <th>1959-01-15</th>\n",
       "      <td>3.060910e+11</td>\n",
       "    </tr>\n",
       "    <tr>\n",
       "      <th>1959-02-15</th>\n",
       "      <td>3.095540e+11</td>\n",
       "    </tr>\n",
       "    <tr>\n",
       "      <th>1959-03-15</th>\n",
       "      <td>3.127020e+11</td>\n",
       "    </tr>\n",
       "    <tr>\n",
       "      <th>1959-04-15</th>\n",
       "      <td>3.121930e+11</td>\n",
       "    </tr>\n",
       "    <tr>\n",
       "      <th>1959-05-15</th>\n",
       "      <td>3.161300e+11</td>\n",
       "    </tr>\n",
       "    <tr>\n",
       "      <th>...</th>\n",
       "      <td>...</td>\n",
       "    </tr>\n",
       "    <tr>\n",
       "      <th>2020-07-15</th>\n",
       "      <td>1.422470e+13</td>\n",
       "    </tr>\n",
       "    <tr>\n",
       "      <th>2020-08-15</th>\n",
       "      <td>1.439717e+13</td>\n",
       "    </tr>\n",
       "    <tr>\n",
       "      <th>2020-09-15</th>\n",
       "      <td>1.458274e+13</td>\n",
       "    </tr>\n",
       "    <tr>\n",
       "      <th>2020-10-15</th>\n",
       "      <td>1.463014e+13</td>\n",
       "    </tr>\n",
       "    <tr>\n",
       "      <th>2020-11-15</th>\n",
       "      <td>1.456682e+13</td>\n",
       "    </tr>\n",
       "  </tbody>\n",
       "</table>\n",
       "<p>743 rows × 1 columns</p>\n",
       "</div>"
      ],
      "text/plain": [
       "Instrument     USPERCONB\n",
       "Field                  X\n",
       "Dates                   \n",
       "1959-01-15  3.060910e+11\n",
       "1959-02-15  3.095540e+11\n",
       "1959-03-15  3.127020e+11\n",
       "1959-04-15  3.121930e+11\n",
       "1959-05-15  3.161300e+11\n",
       "...                  ...\n",
       "2020-07-15  1.422470e+13\n",
       "2020-08-15  1.439717e+13\n",
       "2020-09-15  1.458274e+13\n",
       "2020-10-15  1.463014e+13\n",
       "2020-11-15  1.456682e+13\n",
       "\n",
       "[743 rows x 1 columns]"
      ]
     },
     "execution_count": 19,
     "metadata": {},
     "output_type": "execute_result"
    }
   ],
   "source": [
    "data.dropna()"
   ]
  },
  {
   "cell_type": "code",
   "execution_count": 20,
   "metadata": {},
   "outputs": [
    {
     "data": {
      "text/plain": [
       "Instrument  Field\n",
       "USPERCONB   X        4.882850e+11\n",
       "Name: 1966-10-15, dtype: float64"
      ]
     },
     "execution_count": 20,
     "metadata": {},
     "output_type": "execute_result"
    }
   ],
   "source": [
    "data.iloc[200]"
   ]
  },
  {
   "cell_type": "code",
   "execution_count": 21,
   "metadata": {},
   "outputs": [
    {
     "data": {
      "text/plain": [
       "Index(['1950-02-15', '1950-03-15', '1950-04-15', '1950-05-15', '1950-06-15',\n",
       "       '1950-07-15', '1950-08-15', '1950-09-15', '1950-10-15', '1950-11-15',\n",
       "       ...\n",
       "       '2020-04-15', '2020-05-15', '2020-06-15', '2020-07-15', '2020-08-15',\n",
       "       '2020-09-15', '2020-10-15', '2020-11-15', '2020-12-15', '2021-01-15'],\n",
       "      dtype='object', name='Dates', length=852)"
      ]
     },
     "execution_count": 21,
     "metadata": {},
     "output_type": "execute_result"
    }
   ],
   "source": [
    "data.index"
   ]
  },
  {
   "cell_type": "code",
   "execution_count": 22,
   "metadata": {},
   "outputs": [],
   "source": [
    "# The first 8 characters of the index is the ' yyyy-mm- ', onto which will be added '01'.\n",
    "data.index = data.index.astype(\"str\").str.slice_replace(8, repl = \"01\")"
   ]
  },
  {
   "cell_type": "code",
   "execution_count": 23,
   "metadata": {},
   "outputs": [
    {
     "data": {
      "text/html": [
       "<div>\n",
       "<style scoped>\n",
       "    .dataframe tbody tr th:only-of-type {\n",
       "        vertical-align: middle;\n",
       "    }\n",
       "\n",
       "    .dataframe tbody tr th {\n",
       "        vertical-align: top;\n",
       "    }\n",
       "\n",
       "    .dataframe thead tr th {\n",
       "        text-align: left;\n",
       "    }\n",
       "\n",
       "    .dataframe thead tr:last-of-type th {\n",
       "        text-align: right;\n",
       "    }\n",
       "</style>\n",
       "<table border=\"1\" class=\"dataframe\">\n",
       "  <thead>\n",
       "    <tr>\n",
       "      <th>Instrument</th>\n",
       "      <th>USPERCONB</th>\n",
       "    </tr>\n",
       "    <tr>\n",
       "      <th>Field</th>\n",
       "      <th>X</th>\n",
       "    </tr>\n",
       "    <tr>\n",
       "      <th>Dates</th>\n",
       "      <th></th>\n",
       "    </tr>\n",
       "  </thead>\n",
       "  <tbody>\n",
       "    <tr>\n",
       "      <th>1950-02-01</th>\n",
       "      <td>NaN</td>\n",
       "    </tr>\n",
       "    <tr>\n",
       "      <th>1950-03-01</th>\n",
       "      <td>NaN</td>\n",
       "    </tr>\n",
       "    <tr>\n",
       "      <th>1950-04-01</th>\n",
       "      <td>NaN</td>\n",
       "    </tr>\n",
       "    <tr>\n",
       "      <th>1950-05-01</th>\n",
       "      <td>NaN</td>\n",
       "    </tr>\n",
       "    <tr>\n",
       "      <th>1950-06-01</th>\n",
       "      <td>NaN</td>\n",
       "    </tr>\n",
       "    <tr>\n",
       "      <th>...</th>\n",
       "      <td>...</td>\n",
       "    </tr>\n",
       "    <tr>\n",
       "      <th>2020-09-01</th>\n",
       "      <td>1.458274e+13</td>\n",
       "    </tr>\n",
       "    <tr>\n",
       "      <th>2020-10-01</th>\n",
       "      <td>1.463014e+13</td>\n",
       "    </tr>\n",
       "    <tr>\n",
       "      <th>2020-11-01</th>\n",
       "      <td>1.456682e+13</td>\n",
       "    </tr>\n",
       "    <tr>\n",
       "      <th>2020-12-01</th>\n",
       "      <td>NaN</td>\n",
       "    </tr>\n",
       "    <tr>\n",
       "      <th>2021-01-01</th>\n",
       "      <td>NaN</td>\n",
       "    </tr>\n",
       "  </tbody>\n",
       "</table>\n",
       "<p>852 rows × 1 columns</p>\n",
       "</div>"
      ],
      "text/plain": [
       "Instrument     USPERCONB\n",
       "Field                  X\n",
       "Dates                   \n",
       "1950-02-01           NaN\n",
       "1950-03-01           NaN\n",
       "1950-04-01           NaN\n",
       "1950-05-01           NaN\n",
       "1950-06-01           NaN\n",
       "...                  ...\n",
       "2020-09-01  1.458274e+13\n",
       "2020-10-01  1.463014e+13\n",
       "2020-11-01  1.456682e+13\n",
       "2020-12-01           NaN\n",
       "2021-01-01           NaN\n",
       "\n",
       "[852 rows x 1 columns]"
      ]
     },
     "execution_count": 23,
     "metadata": {},
     "output_type": "execute_result"
    }
   ],
   "source": [
    "data"
   ]
  },
  {
   "cell_type": "markdown",
   "metadata": {},
   "source": [
    "#### Set this up programatically:"
   ]
  },
  {
   "cell_type": "code",
   "execution_count": 24,
   "metadata": {},
   "outputs": [],
   "source": [
    "# This function will put Refinitiv's DataStream data into a Pandas Dafaframe and normalise it to the 1st of the month it was collected in.\n",
    "def Translate_to_First_of_the_Month(data, dataname):\n",
    "    \n",
    "    # The first 8 characters of the index is the ' yyyy-mm- ', onto which will be added '01'.\n",
    "    data.index = data.index.astype(\"str\").str.slice_replace(8, repl = \"01\")\n",
    "    \n",
    "    # This line resets the index to a pandas datetime format\n",
    "    data.index = pandas.to_datetime(data.index)\n",
    "    \n",
    "    # This line renames the column as specified in the function\n",
    "    data.columns = [dataname]\n",
    "    return data"
   ]
  },
  {
   "cell_type": "code",
   "execution_count": 25,
   "metadata": {},
   "outputs": [],
   "source": [
    "# Add what we've got to our Data Frame:\n",
    "df = pandas.DataFrame([])\n",
    "df = pandas.merge(df, Translate_to_First_of_the_Month(data = data, dataname = \"Consumption (monthly data)\"),\n",
    "                  how = \"outer\", left_index = True, right_index=True)"
   ]
  },
  {
   "cell_type": "code",
   "execution_count": 26,
   "metadata": {},
   "outputs": [
    {
     "data": {
      "text/html": [
       "<div>\n",
       "<style scoped>\n",
       "    .dataframe tbody tr th:only-of-type {\n",
       "        vertical-align: middle;\n",
       "    }\n",
       "\n",
       "    .dataframe tbody tr th {\n",
       "        vertical-align: top;\n",
       "    }\n",
       "\n",
       "    .dataframe thead th {\n",
       "        text-align: right;\n",
       "    }\n",
       "</style>\n",
       "<table border=\"1\" class=\"dataframe\">\n",
       "  <thead>\n",
       "    <tr style=\"text-align: right;\">\n",
       "      <th></th>\n",
       "      <th>Consumption (monthly data)</th>\n",
       "    </tr>\n",
       "    <tr>\n",
       "      <th>Dates</th>\n",
       "      <th></th>\n",
       "    </tr>\n",
       "  </thead>\n",
       "  <tbody>\n",
       "    <tr>\n",
       "      <th>1950-02-01</th>\n",
       "      <td>NaN</td>\n",
       "    </tr>\n",
       "    <tr>\n",
       "      <th>1950-03-01</th>\n",
       "      <td>NaN</td>\n",
       "    </tr>\n",
       "    <tr>\n",
       "      <th>1950-04-01</th>\n",
       "      <td>NaN</td>\n",
       "    </tr>\n",
       "    <tr>\n",
       "      <th>1950-05-01</th>\n",
       "      <td>NaN</td>\n",
       "    </tr>\n",
       "    <tr>\n",
       "      <th>1950-06-01</th>\n",
       "      <td>NaN</td>\n",
       "    </tr>\n",
       "    <tr>\n",
       "      <th>...</th>\n",
       "      <td>...</td>\n",
       "    </tr>\n",
       "    <tr>\n",
       "      <th>2020-09-01</th>\n",
       "      <td>1.458274e+13</td>\n",
       "    </tr>\n",
       "    <tr>\n",
       "      <th>2020-10-01</th>\n",
       "      <td>1.463014e+13</td>\n",
       "    </tr>\n",
       "    <tr>\n",
       "      <th>2020-11-01</th>\n",
       "      <td>1.456682e+13</td>\n",
       "    </tr>\n",
       "    <tr>\n",
       "      <th>2020-12-01</th>\n",
       "      <td>NaN</td>\n",
       "    </tr>\n",
       "    <tr>\n",
       "      <th>2021-01-01</th>\n",
       "      <td>NaN</td>\n",
       "    </tr>\n",
       "  </tbody>\n",
       "</table>\n",
       "<p>852 rows × 1 columns</p>\n",
       "</div>"
      ],
      "text/plain": [
       "            Consumption (monthly data)\n",
       "Dates                                 \n",
       "1950-02-01                         NaN\n",
       "1950-03-01                         NaN\n",
       "1950-04-01                         NaN\n",
       "1950-05-01                         NaN\n",
       "1950-06-01                         NaN\n",
       "...                                ...\n",
       "2020-09-01                1.458274e+13\n",
       "2020-10-01                1.463014e+13\n",
       "2020-11-01                1.456682e+13\n",
       "2020-12-01                         NaN\n",
       "2021-01-01                         NaN\n",
       "\n",
       "[852 rows x 1 columns]"
      ]
     },
     "execution_count": 26,
     "metadata": {},
     "output_type": "execute_result"
    }
   ],
   "source": [
    "df"
   ]
  },
  {
   "cell_type": "code",
   "execution_count": 27,
   "metadata": {},
   "outputs": [],
   "source": [
    "df = pandas.DataFrame([])\n",
    "def Add_to_df(data, dataname):\n",
    "    \n",
    "    # The ' global df ' allows the function to take the pre-deffined variable ' df ' for granted and work from there\n",
    "    global df\n",
    "    \n",
    "    DS_Data_monthly = Translate_to_First_of_the_Month(data, dataname)\n",
    "    \n",
    "    # Note that the bellow is (purposefully) different to ' df[dataname] =  DS_Data_monthly'\n",
    "    df = pandas.merge(df, DS_Data_monthly,\n",
    "                      how = \"outer\",\n",
    "                      left_index = True,\n",
    "                      right_index=True)"
   ]
  },
  {
   "cell_type": "code",
   "execution_count": 28,
   "metadata": {},
   "outputs": [],
   "source": [
    "Add_to_df(data = ds.get_data(tickers = 'USPERCONB', # this is the ticker for United States, Personal Outlays, Personal Consumption Expenditure, Overall, Total, Current Prices, AR, SA, USD\n",
    "                             fields = \"X\", # DataStream's default field is 'X'\n",
    "                             start = '1950-02-01',\n",
    "                             freq = 'M') * 1000000000, # This data is given in units of 1000000000\n",
    "          dataname = \"Consumption (monthly data)\")"
   ]
  },
  {
   "cell_type": "code",
   "execution_count": 29,
   "metadata": {},
   "outputs": [
    {
     "data": {
      "text/html": [
       "<div>\n",
       "<style scoped>\n",
       "    .dataframe tbody tr th:only-of-type {\n",
       "        vertical-align: middle;\n",
       "    }\n",
       "\n",
       "    .dataframe tbody tr th {\n",
       "        vertical-align: top;\n",
       "    }\n",
       "\n",
       "    .dataframe thead th {\n",
       "        text-align: right;\n",
       "    }\n",
       "</style>\n",
       "<table border=\"1\" class=\"dataframe\">\n",
       "  <thead>\n",
       "    <tr style=\"text-align: right;\">\n",
       "      <th></th>\n",
       "      <th>Consumption (monthly data)</th>\n",
       "    </tr>\n",
       "    <tr>\n",
       "      <th>Dates</th>\n",
       "      <th></th>\n",
       "    </tr>\n",
       "  </thead>\n",
       "  <tbody>\n",
       "    <tr>\n",
       "      <th>1950-02-01</th>\n",
       "      <td>NaN</td>\n",
       "    </tr>\n",
       "    <tr>\n",
       "      <th>1950-03-01</th>\n",
       "      <td>NaN</td>\n",
       "    </tr>\n",
       "    <tr>\n",
       "      <th>1950-04-01</th>\n",
       "      <td>NaN</td>\n",
       "    </tr>\n",
       "    <tr>\n",
       "      <th>1950-05-01</th>\n",
       "      <td>NaN</td>\n",
       "    </tr>\n",
       "    <tr>\n",
       "      <th>1950-06-01</th>\n",
       "      <td>NaN</td>\n",
       "    </tr>\n",
       "    <tr>\n",
       "      <th>...</th>\n",
       "      <td>...</td>\n",
       "    </tr>\n",
       "    <tr>\n",
       "      <th>2020-09-01</th>\n",
       "      <td>1.458274e+13</td>\n",
       "    </tr>\n",
       "    <tr>\n",
       "      <th>2020-10-01</th>\n",
       "      <td>1.463014e+13</td>\n",
       "    </tr>\n",
       "    <tr>\n",
       "      <th>2020-11-01</th>\n",
       "      <td>1.456682e+13</td>\n",
       "    </tr>\n",
       "    <tr>\n",
       "      <th>2020-12-01</th>\n",
       "      <td>NaN</td>\n",
       "    </tr>\n",
       "    <tr>\n",
       "      <th>2021-01-01</th>\n",
       "      <td>NaN</td>\n",
       "    </tr>\n",
       "  </tbody>\n",
       "</table>\n",
       "<p>852 rows × 1 columns</p>\n",
       "</div>"
      ],
      "text/plain": [
       "            Consumption (monthly data)\n",
       "Dates                                 \n",
       "1950-02-01                         NaN\n",
       "1950-03-01                         NaN\n",
       "1950-04-01                         NaN\n",
       "1950-05-01                         NaN\n",
       "1950-06-01                         NaN\n",
       "...                                ...\n",
       "2020-09-01                1.458274e+13\n",
       "2020-10-01                1.463014e+13\n",
       "2020-11-01                1.456682e+13\n",
       "2020-12-01                         NaN\n",
       "2021-01-01                         NaN\n",
       "\n",
       "[852 rows x 1 columns]"
      ]
     },
     "execution_count": 29,
     "metadata": {},
     "output_type": "execute_result"
    }
   ],
   "source": [
    "df"
   ]
  },
  {
   "cell_type": "markdown",
   "metadata": {},
   "source": [
    "$$ \\\\ $$\n",
    "# Part 3: Setup Quarterly data sets"
   ]
  },
  {
   "cell_type": "code",
   "execution_count": 30,
   "metadata": {},
   "outputs": [],
   "source": [
    "data = ds.get_data(tickers = \"USGFCF..B\", # Investment\n",
    "                   fields = \"X\", # DataStream's default field is 'X'\n",
    "                   start = '1950-02-01', # end\n",
    "                   freq = 'M') * 1000000000"
   ]
  },
  {
   "cell_type": "code",
   "execution_count": 31,
   "metadata": {},
   "outputs": [
    {
     "data": {
      "text/plain": [
       "range(0, 4)"
      ]
     },
     "execution_count": 31,
     "metadata": {},
     "output_type": "execute_result"
    }
   ],
   "source": [
    "# range:\n",
    "range(0, 4)"
   ]
  },
  {
   "cell_type": "code",
   "execution_count": 32,
   "metadata": {},
   "outputs": [
    {
     "name": "stdout",
     "output_type": "stream",
     "text": [
      "1\n",
      "2\n",
      "3\n"
     ]
    }
   ],
   "source": [
    "for i in range(1,4):\n",
    "    print(i)"
   ]
  },
  {
   "cell_type": "code",
   "execution_count": 33,
   "metadata": {},
   "outputs": [
    {
     "data": {
      "text/plain": [
       "285"
      ]
     },
     "execution_count": 33,
     "metadata": {},
     "output_type": "execute_result"
    }
   ],
   "source": [
    "# length:\n",
    "len(data)"
   ]
  },
  {
   "cell_type": "code",
   "execution_count": 34,
   "metadata": {},
   "outputs": [],
   "source": [
    "data_proper = []\n",
    "data_full_index = []"
   ]
  },
  {
   "cell_type": "code",
   "execution_count": 35,
   "metadata": {},
   "outputs": [],
   "source": [
    "data_proper, data_full_index = [], []"
   ]
  },
  {
   "cell_type": "code",
   "execution_count": 36,
   "metadata": {},
   "outputs": [
    {
     "data": {
      "text/plain": [
       "[5]"
      ]
     },
     "execution_count": 36,
     "metadata": {},
     "output_type": "execute_result"
    }
   ],
   "source": [
    "data_proper.append(5)\n",
    "data_proper"
   ]
  },
  {
   "cell_type": "code",
   "execution_count": 37,
   "metadata": {},
   "outputs": [
    {
     "data": {
      "text/plain": [
       "Instrument  Field\n",
       "USGFCF..B   X        4.472500e+10\n",
       "Name: 1950-02-15, dtype: float64"
      ]
     },
     "execution_count": 37,
     "metadata": {},
     "output_type": "execute_result"
    }
   ],
   "source": [
    "# reminder 1:\n",
    "number = 0\n",
    "data.iloc[number]"
   ]
  },
  {
   "cell_type": "code",
   "execution_count": 38,
   "metadata": {},
   "outputs": [
    {
     "data": {
      "text/plain": [
       "pandas.core.series.Series"
      ]
     },
     "execution_count": 38,
     "metadata": {},
     "output_type": "execute_result"
    }
   ],
   "source": [
    "type(data.iloc[number])"
   ]
  },
  {
   "cell_type": "code",
   "execution_count": 39,
   "metadata": {},
   "outputs": [
    {
     "data": {
      "text/plain": [
       "44725000000.0"
      ]
     },
     "execution_count": 39,
     "metadata": {},
     "output_type": "execute_result"
    }
   ],
   "source": [
    "# reminder 2:\n",
    "float(data.iloc[number])"
   ]
  },
  {
   "cell_type": "code",
   "execution_count": 40,
   "metadata": {},
   "outputs": [],
   "source": [
    "for number in range(1, len(data)):\n",
    "    data_proper.append(float(data.iloc[number]))\n",
    "# data_proper"
   ]
  },
  {
   "cell_type": "code",
   "execution_count": 41,
   "metadata": {},
   "outputs": [
    {
     "data": {
      "text/plain": [
       "list"
      ]
     },
     "execution_count": 41,
     "metadata": {},
     "output_type": "execute_result"
    }
   ],
   "source": [
    "type(data_proper)"
   ]
  },
  {
   "cell_type": "code",
   "execution_count": 42,
   "metadata": {},
   "outputs": [
    {
     "data": {
      "text/plain": [
       "54465000000.0"
      ]
     },
     "execution_count": 42,
     "metadata": {},
     "output_type": "execute_result"
    }
   ],
   "source": [
    "data_proper[2]"
   ]
  },
  {
   "cell_type": "code",
   "execution_count": 43,
   "metadata": {},
   "outputs": [
    {
     "data": {
      "text/plain": [
       "[]"
      ]
     },
     "execution_count": 43,
     "metadata": {},
     "output_type": "execute_result"
    }
   ],
   "source": [
    "# reset list to be empty\n",
    "data_proper = []\n",
    "data_proper"
   ]
  },
  {
   "cell_type": "code",
   "execution_count": 44,
   "metadata": {},
   "outputs": [
    {
     "data": {
      "text/plain": [
       "[44725000000.0,\n",
       " 49458000000.0,\n",
       " 54465000000.0,\n",
       " 54397000000.0,\n",
       " 54196000000.0,\n",
       " 52591000000.0,\n",
       " 52241000000.0,\n",
       " 52365000000.0,\n",
       " 53400000000.0,\n",
       " 54528000000.0,\n",
       " 51646000000.0,\n",
       " 55463000000.0,\n",
       " 57773000000.0,\n",
       " 58538000000.0,\n",
       " 59104000000.0,\n",
       " 58452000000.0,\n",
       " 57683000000.0,\n",
       " 58827000000.0,\n",
       " 61062000000.0,\n",
       " 62455000000.0,\n",
       " 64899000000.0,\n",
       " 68068000000.0,\n",
       " 70452000000.0,\n",
       " 71650000000.0,\n",
       " 71904000000.0,\n",
       " 73435000000.0,\n",
       " 74698000000.0,\n",
       " 74902000000.0,\n",
       " 75566000000.0,\n",
       " 75250000000.0,\n",
       " 76530000000.0,\n",
       " 75563000000.0,\n",
       " 70739000000.0,\n",
       " 69300000000.0,\n",
       " 70452000000.0,\n",
       " 74766000000.0,\n",
       " 79290000000.0,\n",
       " 82093000000.0,\n",
       " 83222000000.0,\n",
       " 82404000000.0,\n",
       " 85276000000.0,\n",
       " 83872000000.0,\n",
       " 82057000000.0,\n",
       " 81775000000.0,\n",
       " 80926000000.0,\n",
       " 82316000000.0,\n",
       " 84261000000.0,\n",
       " 86935000000.0,\n",
       " 88666000000.0,\n",
       " 91262000000.0,\n",
       " 91972000000.0,\n",
       " 91604000000.0,\n",
       " 92821000000.0,\n",
       " 96814000000.0,\n",
       " 98896000000.0,\n",
       " 102125000000.0,\n",
       " 105350000000.0,\n",
       " 106062000000.0,\n",
       " 107939000000.0,\n",
       " 109968000000.0,\n",
       " 114998000000.0,\n",
       " 118484000000.0,\n",
       " 121945000000.0,\n",
       " 126168000000.0,\n",
       " 130328000000.0,\n",
       " 131185000000.0,\n",
       " 131342000000.00002,\n",
       " 129351000000.0,\n",
       " 127388000000.0,\n",
       " 131154000000.0,\n",
       " 133571000000.0,\n",
       " 139220000000.0,\n",
       " 143850000000.0,\n",
       " 144862000000.0,\n",
       " 148003000000.0,\n",
       " 154754000000.0,\n",
       " 160899000000.0,\n",
       " 163499000000.0,\n",
       " 167370000000.0,\n",
       " 165787000000.0,\n",
       " 166289000000.0,\n",
       " 166374000000.0,\n",
       " 168821000000.0,\n",
       " 170738000000.0,\n",
       " 177241000000.0,\n",
       " 186455000000.0,\n",
       " 191870000000.0,\n",
       " 198706000000.0,\n",
       " 209741000000.0,\n",
       " 214800000000.0,\n",
       " 219375000000.0,\n",
       " 232224000000.0,\n",
       " 243763000000.0,\n",
       " 249990000000.0,\n",
       " 254574000000.0,\n",
       " 255865000000.0,\n",
       " 255842000000.0,\n",
       " 259975000000.00003,\n",
       " 265434000000.00003,\n",
       " 260892999999.99997,\n",
       " 254335000000.0,\n",
       " 257235000000.0,\n",
       " 266579000000.0,\n",
       " 275888000000.0,\n",
       " 289945000000.0,\n",
       " 299855000000.0,\n",
       " 307501000000.0,\n",
       " 327132000000.0,\n",
       " 345491000000.0,\n",
       " 370233000000.0,\n",
       " 383251000000.0,\n",
       " 398179000000.0,\n",
       " 409346000000.0,\n",
       " 446328000000.0,\n",
       " 467401000000.0,\n",
       " 487269000000.0,\n",
       " 501957000000.0,\n",
       " 511892000000.0,\n",
       " 533490000000.0,\n",
       " 539323000000.0,\n",
       " 544663000000.0,\n",
       " 511544000000.0,\n",
       " 528927000000.0,\n",
       " 560590000000.0,\n",
       " 580626000000.0,\n",
       " 598129000000.0,\n",
       " 608337000000.0,\n",
       " 618589000000.0,\n",
       " 609784000000.0,\n",
       " 597786000000.0,\n",
       " 587157000000.0,\n",
       " 589062000000.0,\n",
       " 600580000000.0,\n",
       " 621454000000.0,\n",
       " 656472000000.0,\n",
       " 694564000000.0,\n",
       " 717890000000.0,\n",
       " 749573000000.0,\n",
       " 767514000000.0,\n",
       " 783762000000.0,\n",
       " 793636000000.0,\n",
       " 805394000000.0,\n",
       " 805854000000.0,\n",
       " 826426000000.0,\n",
       " 833060000000.0,\n",
       " 839574000000.0,\n",
       " 842851000000.0,\n",
       " 854822000000.0,\n",
       " 843222000000.0,\n",
       " 858064000000.0,\n",
       " 875449000000.0,\n",
       " 883376000000.0,\n",
       " 891613000000.0,\n",
       " 914877000000.0,\n",
       " 923828000000.0,\n",
       " 943605000000.0,\n",
       " 957350000000.0,\n",
       " 964790000000.0,\n",
       " 986635000000.0,\n",
       " 979257000000.0,\n",
       " 996884000000.0,\n",
       " 981020000000.0,\n",
       " 978919000000.0,\n",
       " 958787000000.0,\n",
       " 940088000000.0,\n",
       " 944575000000.0,\n",
       " 946633000000.0,\n",
       " 947655000000.0,\n",
       " 956571000000.0,\n",
       " 989875000000.0,\n",
       " 1003650000000.0,\n",
       " 1036617999999.9999,\n",
       " 1047888999999.9999,\n",
       " 1070375000000.0,\n",
       " 1089253999999.9999,\n",
       " 1136530000000.0,\n",
       " 1156312000000.0,\n",
       " 1183538000000.0,\n",
       " 1198526000000.0,\n",
       " 1232424000000.0,\n",
       " 1266407000000.0,\n",
       " 1270229000000.0,\n",
       " 1291922000000.0,\n",
       " 1316705000000.0,\n",
       " 1348472000000.0,\n",
       " 1387867000000.0,\n",
       " 1423280000000.0,\n",
       " 1445403000000.0,\n",
       " 1472659000000.0,\n",
       " 1501843000000.0,\n",
       " 1557316000000.0,\n",
       " 1566877000000.0,\n",
       " 1607224000000.0,\n",
       " 1658434000000.0,\n",
       " 1689202000000.0,\n",
       " 1736947000000.0,\n",
       " 1769668000000.0,\n",
       " 1813230000000.0,\n",
       " 1853219000000.0,\n",
       " 1868855000000.0,\n",
       " 1934493000000.0,\n",
       " 1985342000000.0,\n",
       " 2002736000000.0,\n",
       " 2012884000000.0,\n",
       " 2001963000000.0,\n",
       " 1984593000000.0,\n",
       " 1975026000000.0,\n",
       " 1930920000000.0,\n",
       " 1912366000000.0,\n",
       " 1912113000000.0,\n",
       " 1907764000000.0,\n",
       " 1909528000000.0,\n",
       " 1934140000000.0,\n",
       " 1978873000000.0,\n",
       " 2043866000000.0,\n",
       " 2094966000000.0,\n",
       " 2108027000000.0,\n",
       " 2188618000000.0,\n",
       " 2254106000000.0,\n",
       " 2317993000000.0,\n",
       " 2383590000000.0,\n",
       " 2447639000000.0,\n",
       " 2518722000000.0,\n",
       " 2558875000000.0,\n",
       " 2631526000000.0,\n",
       " 2633739000000.0,\n",
       " 2630666000000.0,\n",
       " 2631930000000.0,\n",
       " 2642923000000.0,\n",
       " 2656992000000.0,\n",
       " 2641047000000.0,\n",
       " 2615279000000.0,\n",
       " 2580374000000.0,\n",
       " 2562847000000.0,\n",
       " 2514067000000.0,\n",
       " 2370130000000.0,\n",
       " 2165873999999.9998,\n",
       " 2059650999999.9998,\n",
       " 2045422000000.0,\n",
       " 2050795000000.0,\n",
       " 2039398000000.0,\n",
       " 2112087000000.0,\n",
       " 2123598000000.0,\n",
       " 2171138000000.0,\n",
       " 2173885000000.0002,\n",
       " 2236305000000.0,\n",
       " 2334873000000.0,\n",
       " 2400138000000.0,\n",
       " 2487473000000.0,\n",
       " 2545458000000.0,\n",
       " 2559690000000.0,\n",
       " 2609548000000.0,\n",
       " 2655966000000.0,\n",
       " 2687519000000.0,\n",
       " 2743781000000.0,\n",
       " 2798665000000.0,\n",
       " 2846963000000.0,\n",
       " 2934034000000.0,\n",
       " 3008181000000.0,\n",
       " 3051671000000.0,\n",
       " 3069402000000.0,\n",
       " 3095820000000.0,\n",
       " 3124874000000.0,\n",
       " 3111409000000.0,\n",
       " 3116615000000.0,\n",
       " 3141039000000.0,\n",
       " 3171870000000.0,\n",
       " 3210434000000.0,\n",
       " 3278450000000.0,\n",
       " 3309238000000.0,\n",
       " 3333781000000.0,\n",
       " 3417812000000.0,\n",
       " 3510466000000.0,\n",
       " 3570215000000.0,\n",
       " 3593345000000.0,\n",
       " 3626543000000.0,\n",
       " 3674180000000.0,\n",
       " 3686598000000.0,\n",
       " 3718480000000.0,\n",
       " 3729231000000.0,\n",
       " 3727988000000.0,\n",
       " 3426959000000.0,\n",
       " 3689047000000.0,\n",
       " nan,\n",
       " nan]"
      ]
     },
     "execution_count": 44,
     "metadata": {},
     "output_type": "execute_result"
    }
   ],
   "source": [
    "data_proper = []\n",
    "[data_proper.append(float(data.iloc[number])) for number in range(0, len(data))]\n",
    "data_proper"
   ]
  },
  {
   "cell_type": "code",
   "execution_count": 45,
   "metadata": {},
   "outputs": [
    {
     "data": {
      "text/plain": [
       "[44725000000.0,\n",
       " 49458000000.0,\n",
       " 54465000000.0,\n",
       " 54397000000.0,\n",
       " 54196000000.0,\n",
       " 52591000000.0,\n",
       " 52241000000.0,\n",
       " 52365000000.0,\n",
       " 53400000000.0,\n",
       " 54528000000.0,\n",
       " 51646000000.0,\n",
       " 55463000000.0,\n",
       " 57773000000.0,\n",
       " 58538000000.0,\n",
       " 59104000000.0,\n",
       " 58452000000.0,\n",
       " 57683000000.0,\n",
       " 58827000000.0,\n",
       " 61062000000.0,\n",
       " 62455000000.0,\n",
       " 64899000000.0,\n",
       " 68068000000.0,\n",
       " 70452000000.0,\n",
       " 71650000000.0,\n",
       " 71904000000.0,\n",
       " 73435000000.0,\n",
       " 74698000000.0,\n",
       " 74902000000.0,\n",
       " 75566000000.0,\n",
       " 75250000000.0,\n",
       " 76530000000.0,\n",
       " 75563000000.0,\n",
       " 70739000000.0,\n",
       " 69300000000.0,\n",
       " 70452000000.0,\n",
       " 74766000000.0,\n",
       " 79290000000.0,\n",
       " 82093000000.0,\n",
       " 83222000000.0,\n",
       " 82404000000.0,\n",
       " 85276000000.0,\n",
       " 83872000000.0,\n",
       " 82057000000.0,\n",
       " 81775000000.0,\n",
       " 80926000000.0,\n",
       " 82316000000.0,\n",
       " 84261000000.0,\n",
       " 86935000000.0,\n",
       " 88666000000.0,\n",
       " 91262000000.0,\n",
       " 91972000000.0,\n",
       " 91604000000.0,\n",
       " 92821000000.0,\n",
       " 96814000000.0,\n",
       " 98896000000.0,\n",
       " 102125000000.0,\n",
       " 105350000000.0,\n",
       " 106062000000.0,\n",
       " 107939000000.0,\n",
       " 109968000000.0,\n",
       " 114998000000.0,\n",
       " 118484000000.0,\n",
       " 121945000000.0,\n",
       " 126168000000.0,\n",
       " 130328000000.0,\n",
       " 131185000000.0,\n",
       " 131342000000.00002,\n",
       " 129351000000.0,\n",
       " 127388000000.0,\n",
       " 131154000000.0,\n",
       " 133571000000.0,\n",
       " 139220000000.0,\n",
       " 143850000000.0,\n",
       " 144862000000.0,\n",
       " 148003000000.0,\n",
       " 154754000000.0,\n",
       " 160899000000.0,\n",
       " 163499000000.0,\n",
       " 167370000000.0,\n",
       " 165787000000.0,\n",
       " 166289000000.0,\n",
       " 166374000000.0,\n",
       " 168821000000.0,\n",
       " 170738000000.0,\n",
       " 177241000000.0,\n",
       " 186455000000.0,\n",
       " 191870000000.0,\n",
       " 198706000000.0,\n",
       " 209741000000.0,\n",
       " 214800000000.0,\n",
       " 219375000000.0,\n",
       " 232224000000.0,\n",
       " 243763000000.0,\n",
       " 249990000000.0,\n",
       " 254574000000.0,\n",
       " 255865000000.0,\n",
       " 255842000000.0,\n",
       " 259975000000.00003,\n",
       " 265434000000.00003,\n",
       " 260892999999.99997,\n",
       " 254335000000.0,\n",
       " 257235000000.0,\n",
       " 266579000000.0,\n",
       " 275888000000.0,\n",
       " 289945000000.0,\n",
       " 299855000000.0,\n",
       " 307501000000.0,\n",
       " 327132000000.0,\n",
       " 345491000000.0,\n",
       " 370233000000.0,\n",
       " 383251000000.0,\n",
       " 398179000000.0,\n",
       " 409346000000.0,\n",
       " 446328000000.0,\n",
       " 467401000000.0,\n",
       " 487269000000.0,\n",
       " 501957000000.0,\n",
       " 511892000000.0,\n",
       " 533490000000.0,\n",
       " 539323000000.0,\n",
       " 544663000000.0,\n",
       " 511544000000.0,\n",
       " 528927000000.0,\n",
       " 560590000000.0,\n",
       " 580626000000.0,\n",
       " 598129000000.0,\n",
       " 608337000000.0,\n",
       " 618589000000.0,\n",
       " 609784000000.0,\n",
       " 597786000000.0,\n",
       " 587157000000.0,\n",
       " 589062000000.0,\n",
       " 600580000000.0,\n",
       " 621454000000.0,\n",
       " 656472000000.0,\n",
       " 694564000000.0,\n",
       " 717890000000.0,\n",
       " 749573000000.0,\n",
       " 767514000000.0,\n",
       " 783762000000.0,\n",
       " 793636000000.0,\n",
       " 805394000000.0,\n",
       " 805854000000.0,\n",
       " 826426000000.0,\n",
       " 833060000000.0,\n",
       " 839574000000.0,\n",
       " 842851000000.0,\n",
       " 854822000000.0,\n",
       " 843222000000.0,\n",
       " 858064000000.0,\n",
       " 875449000000.0,\n",
       " 883376000000.0,\n",
       " 891613000000.0,\n",
       " 914877000000.0,\n",
       " 923828000000.0,\n",
       " 943605000000.0,\n",
       " 957350000000.0,\n",
       " 964790000000.0,\n",
       " 986635000000.0,\n",
       " 979257000000.0,\n",
       " 996884000000.0,\n",
       " 981020000000.0,\n",
       " 978919000000.0,\n",
       " 958787000000.0,\n",
       " 940088000000.0,\n",
       " 944575000000.0,\n",
       " 946633000000.0,\n",
       " 947655000000.0,\n",
       " 956571000000.0,\n",
       " 989875000000.0,\n",
       " 1003650000000.0,\n",
       " 1036617999999.9999,\n",
       " 1047888999999.9999,\n",
       " 1070375000000.0,\n",
       " 1089253999999.9999,\n",
       " 1136530000000.0,\n",
       " 1156312000000.0,\n",
       " 1183538000000.0,\n",
       " 1198526000000.0,\n",
       " 1232424000000.0,\n",
       " 1266407000000.0,\n",
       " 1270229000000.0,\n",
       " 1291922000000.0,\n",
       " 1316705000000.0,\n",
       " 1348472000000.0,\n",
       " 1387867000000.0,\n",
       " 1423280000000.0,\n",
       " 1445403000000.0,\n",
       " 1472659000000.0,\n",
       " 1501843000000.0,\n",
       " 1557316000000.0,\n",
       " 1566877000000.0,\n",
       " 1607224000000.0,\n",
       " 1658434000000.0,\n",
       " 1689202000000.0,\n",
       " 1736947000000.0,\n",
       " 1769668000000.0,\n",
       " 1813230000000.0,\n",
       " 1853219000000.0,\n",
       " 1868855000000.0,\n",
       " 1934493000000.0,\n",
       " 1985342000000.0,\n",
       " 2002736000000.0,\n",
       " 2012884000000.0,\n",
       " 2001963000000.0,\n",
       " 1984593000000.0,\n",
       " 1975026000000.0,\n",
       " 1930920000000.0,\n",
       " 1912366000000.0,\n",
       " 1912113000000.0,\n",
       " 1907764000000.0,\n",
       " 1909528000000.0,\n",
       " 1934140000000.0,\n",
       " 1978873000000.0,\n",
       " 2043866000000.0,\n",
       " 2094966000000.0,\n",
       " 2108027000000.0,\n",
       " 2188618000000.0,\n",
       " 2254106000000.0,\n",
       " 2317993000000.0,\n",
       " 2383590000000.0,\n",
       " 2447639000000.0,\n",
       " 2518722000000.0,\n",
       " 2558875000000.0,\n",
       " 2631526000000.0,\n",
       " 2633739000000.0,\n",
       " 2630666000000.0,\n",
       " 2631930000000.0,\n",
       " 2642923000000.0,\n",
       " 2656992000000.0,\n",
       " 2641047000000.0,\n",
       " 2615279000000.0,\n",
       " 2580374000000.0,\n",
       " 2562847000000.0,\n",
       " 2514067000000.0,\n",
       " 2370130000000.0,\n",
       " 2165873999999.9998,\n",
       " 2059650999999.9998,\n",
       " 2045422000000.0,\n",
       " 2050795000000.0,\n",
       " 2039398000000.0,\n",
       " 2112087000000.0,\n",
       " 2123598000000.0,\n",
       " 2171138000000.0,\n",
       " 2173885000000.0002,\n",
       " 2236305000000.0,\n",
       " 2334873000000.0,\n",
       " 2400138000000.0,\n",
       " 2487473000000.0,\n",
       " 2545458000000.0,\n",
       " 2559690000000.0,\n",
       " 2609548000000.0,\n",
       " 2655966000000.0,\n",
       " 2687519000000.0,\n",
       " 2743781000000.0,\n",
       " 2798665000000.0,\n",
       " 2846963000000.0,\n",
       " 2934034000000.0,\n",
       " 3008181000000.0,\n",
       " 3051671000000.0,\n",
       " 3069402000000.0,\n",
       " 3095820000000.0,\n",
       " 3124874000000.0,\n",
       " 3111409000000.0,\n",
       " 3116615000000.0,\n",
       " 3141039000000.0,\n",
       " 3171870000000.0,\n",
       " 3210434000000.0,\n",
       " 3278450000000.0,\n",
       " 3309238000000.0,\n",
       " 3333781000000.0,\n",
       " 3417812000000.0,\n",
       " 3510466000000.0,\n",
       " 3570215000000.0,\n",
       " 3593345000000.0,\n",
       " 3626543000000.0,\n",
       " 3674180000000.0,\n",
       " 3686598000000.0,\n",
       " 3718480000000.0,\n",
       " 3729231000000.0,\n",
       " 3727988000000.0,\n",
       " 3426959000000.0,\n",
       " 3689047000000.0,\n",
       " nan,\n",
       " nan]"
      ]
     },
     "execution_count": 45,
     "metadata": {},
     "output_type": "execute_result"
    }
   ],
   "source": [
    "data_proper = []\n",
    "[data_proper.append(float(data.iloc[j])) for j in range(0, len(data))]\n",
    "data_proper"
   ]
  },
  {
   "cell_type": "code",
   "execution_count": 46,
   "metadata": {},
   "outputs": [
    {
     "data": {
      "text/plain": [
       "[49458000000.0, 49458000000.0, 49458000000.0]"
      ]
     },
     "execution_count": 46,
     "metadata": {},
     "output_type": "execute_result"
    }
   ],
   "source": [
    "data_proper = []\n",
    "[data_proper.append(float(data.iloc[j])) for j in [1,1,1]]\n",
    "data_proper"
   ]
  },
  {
   "cell_type": "code",
   "execution_count": 47,
   "metadata": {},
   "outputs": [
    {
     "data": {
      "text/plain": [
       "'1950-05-15'"
      ]
     },
     "execution_count": 47,
     "metadata": {},
     "output_type": "execute_result"
    }
   ],
   "source": [
    "# Manipulating Dates 1:\n",
    "str(data.index[1])"
   ]
  },
  {
   "cell_type": "code",
   "execution_count": 48,
   "metadata": {},
   "outputs": [
    {
     "data": {
      "text/plain": [
       "'1950-05-01'"
      ]
     },
     "execution_count": 48,
     "metadata": {},
     "output_type": "execute_result"
    }
   ],
   "source": [
    "# Manipulating Dates 2:\n",
    "str(data.index[1])[0:8] + \"01\""
   ]
  },
  {
   "cell_type": "code",
   "execution_count": 49,
   "metadata": {},
   "outputs": [
    {
     "data": {
      "text/plain": [
       "datetime.datetime(1950, 5, 15, 0, 0)"
      ]
     },
     "execution_count": 49,
     "metadata": {},
     "output_type": "execute_result"
    }
   ],
   "source": [
    "# Manipulating Dates 3:\n",
    "datetime.datetime.strptime(str(data.index[1]), \"%Y-%m-%d\")"
   ]
  },
  {
   "cell_type": "code",
   "execution_count": 50,
   "metadata": {},
   "outputs": [
    {
     "data": {
      "text/plain": [
       "datetime.datetime(1950, 5, 1, 0, 0)"
      ]
     },
     "execution_count": 50,
     "metadata": {},
     "output_type": "execute_result"
    }
   ],
   "source": [
    "# Manipulating Dates 4:\n",
    "datetime.datetime.strptime(str(data.index[1])[0:8] + \"01\", \"%Y-%m-%d\")"
   ]
  },
  {
   "cell_type": "code",
   "execution_count": 51,
   "metadata": {},
   "outputs": [
    {
     "data": {
      "text/plain": [
       "datetime.datetime(1950, 6, 1, 0, 0)"
      ]
     },
     "execution_count": 51,
     "metadata": {},
     "output_type": "execute_result"
    }
   ],
   "source": [
    "# Manipulating Dates 5:\n",
    "datetime.datetime.strptime(str(data.index[1])[0:8] + \"01\", \"%Y-%m-%d\") + dateutil.relativedelta.relativedelta(months =+ 1)"
   ]
  },
  {
   "cell_type": "code",
   "execution_count": 52,
   "metadata": {},
   "outputs": [
    {
     "data": {
      "text/plain": [
       "[datetime.datetime(1950, 5, 1, 0, 0),\n",
       " datetime.datetime(1950, 6, 1, 0, 0),\n",
       " datetime.datetime(1950, 7, 1, 0, 0)]"
      ]
     },
     "execution_count": 52,
     "metadata": {},
     "output_type": "execute_result"
    }
   ],
   "source": [
    "data_full_index = [] # Create empty list\n",
    "\n",
    "for j in range(0,3):\n",
    "    data_full_index.append(datetime.datetime.strptime(str(data.index[1])[0:8] + \"01\", \"%Y-%m-%d\") + dateutil.relativedelta.relativedelta(months =+ j))\n",
    "\n",
    "data_full_index"
   ]
  },
  {
   "cell_type": "code",
   "execution_count": 53,
   "metadata": {},
   "outputs": [
    {
     "data": {
      "text/plain": [
       "[datetime.datetime(1950, 5, 1, 0, 0),\n",
       " datetime.datetime(1950, 6, 1, 0, 0),\n",
       " datetime.datetime(1950, 7, 1, 0, 0)]"
      ]
     },
     "execution_count": 53,
     "metadata": {},
     "output_type": "execute_result"
    }
   ],
   "source": [
    "data_full_index = [] # Create empty list\n",
    "[data_full_index.append(datetime.datetime.strptime(str(data.index[1])[0:8] + \"01\", \"%Y-%m-%d\") + dateutil.relativedelta.relativedelta(months =+ j)) for j in range(0,3)]\n",
    "data_full_index"
   ]
  },
  {
   "cell_type": "code",
   "execution_count": 54,
   "metadata": {},
   "outputs": [],
   "source": [
    "data = ds.get_data(tickers = \"USGFCF..B\", fields = \"X\", start = '1950-02-01', freq = 'M') * 1000000000 # reset ' data '"
   ]
  },
  {
   "cell_type": "code",
   "execution_count": 55,
   "metadata": {},
   "outputs": [
    {
     "data": {
      "text/html": [
       "<div>\n",
       "<style scoped>\n",
       "    .dataframe tbody tr th:only-of-type {\n",
       "        vertical-align: middle;\n",
       "    }\n",
       "\n",
       "    .dataframe tbody tr th {\n",
       "        vertical-align: top;\n",
       "    }\n",
       "\n",
       "    .dataframe thead th {\n",
       "        text-align: right;\n",
       "    }\n",
       "</style>\n",
       "<table border=\"1\" class=\"dataframe\">\n",
       "  <thead>\n",
       "    <tr style=\"text-align: right;\">\n",
       "      <th></th>\n",
       "      <th>Investment</th>\n",
       "    </tr>\n",
       "  </thead>\n",
       "  <tbody>\n",
       "    <tr>\n",
       "      <th>1950-02-01</th>\n",
       "      <td>4.472500e+10</td>\n",
       "    </tr>\n",
       "    <tr>\n",
       "      <th>1950-03-01</th>\n",
       "      <td>4.472500e+10</td>\n",
       "    </tr>\n",
       "    <tr>\n",
       "      <th>1950-04-01</th>\n",
       "      <td>4.472500e+10</td>\n",
       "    </tr>\n",
       "    <tr>\n",
       "      <th>1950-05-01</th>\n",
       "      <td>4.945800e+10</td>\n",
       "    </tr>\n",
       "    <tr>\n",
       "      <th>1950-06-01</th>\n",
       "      <td>4.945800e+10</td>\n",
       "    </tr>\n",
       "    <tr>\n",
       "      <th>...</th>\n",
       "      <td>...</td>\n",
       "    </tr>\n",
       "    <tr>\n",
       "      <th>2020-12-01</th>\n",
       "      <td>NaN</td>\n",
       "    </tr>\n",
       "    <tr>\n",
       "      <th>2021-01-01</th>\n",
       "      <td>NaN</td>\n",
       "    </tr>\n",
       "    <tr>\n",
       "      <th>2021-02-01</th>\n",
       "      <td>NaN</td>\n",
       "    </tr>\n",
       "    <tr>\n",
       "      <th>2021-03-01</th>\n",
       "      <td>NaN</td>\n",
       "    </tr>\n",
       "    <tr>\n",
       "      <th>2021-04-01</th>\n",
       "      <td>NaN</td>\n",
       "    </tr>\n",
       "  </tbody>\n",
       "</table>\n",
       "<p>855 rows × 1 columns</p>\n",
       "</div>"
      ],
      "text/plain": [
       "              Investment\n",
       "1950-02-01  4.472500e+10\n",
       "1950-03-01  4.472500e+10\n",
       "1950-04-01  4.472500e+10\n",
       "1950-05-01  4.945800e+10\n",
       "1950-06-01  4.945800e+10\n",
       "...                  ...\n",
       "2020-12-01           NaN\n",
       "2021-01-01           NaN\n",
       "2021-02-01           NaN\n",
       "2021-03-01           NaN\n",
       "2021-04-01           NaN\n",
       "\n",
       "[855 rows x 1 columns]"
      ]
     },
     "execution_count": 55,
     "metadata": {},
     "output_type": "execute_result"
    }
   ],
   "source": [
    "data_proper, data_full_index = [], []\n",
    "for i in range(0, len(data)):\n",
    "    [data_proper.append(float(data.iloc[j])) for j in [i,i,i]]\n",
    "    [data_full_index.append(datetime.datetime.strptime(str(data.index[i])[0:8] + \"01\", \"%Y-%m-%d\") + dateutil.relativedelta.relativedelta(months =+ j)) for j in range(0,3)]\n",
    "\n",
    "data = pandas.DataFrame(data = data_proper, columns = [\"Investment\"], index = data_full_index)\n",
    "\n",
    "data.index = pandas.to_datetime(data.index)\n",
    "data"
   ]
  },
  {
   "cell_type": "code",
   "execution_count": 56,
   "metadata": {},
   "outputs": [],
   "source": [
    "# Our data is released quarterly, so we have to shape it into a monthly database. The function below will allow for this:\n",
    "def Quarterly_To_Monthly(data, dataname, deflator = False):\n",
    "    \n",
    "    data_proper, data_full_index = [], []\n",
    "    \n",
    "    if deflator == True:\n",
    "        for i in range(0, len(data.dropna())):\n",
    "            [data_proper.append(float(data.dropna().iloc[j])) for j in [i,i,i]]\n",
    "            [data_full_index.append(datetime.datetime.strptime(str(data.dropna().index[i])[0:8] + \"01\", \"%Y-%m-%d\") + dateutil.relativedelta.relativedelta(months =+ j)) for j in range(0,3)]\n",
    "        data = pandas.DataFrame(data = [1 / (i / data_proper[-1]) for i in data_proper], columns = [\"Investment\"], index = data_full_index)\n",
    "    \n",
    "    else:\n",
    "        for i in range(0, len(data)):\n",
    "            [data_proper.append(float(data.iloc[j])) for j in [i,i,i]]\n",
    "            [data_full_index.append(datetime.datetime.strptime(str(data.index[i])[0:8] + \"01\", \"%Y-%m-%d\") + dateutil.relativedelta.relativedelta(months =+ j)) for j in range(0,3)]\n",
    "        data = pandas.DataFrame(data = data_proper, columns = [dataname], index = data_full_index)\n",
    "    \n",
    "    data.index = pandas.to_datetime(data.index)\n",
    "    \n",
    "    return data"
   ]
  },
  {
   "cell_type": "code",
   "execution_count": 57,
   "metadata": {},
   "outputs": [
    {
     "name": "stdout",
     "output_type": "stream",
     "text": [
      "Help on function Quarterly_To_Monthly in module __main__:\n",
      "\n",
      "Quarterly_To_Monthly(data, dataname, deflator=False)\n",
      "    # Our data is released quarterly, so we have to shape it into a monthly database. The function below will allow for this:\n",
      "\n"
     ]
    }
   ],
   "source": [
    "help(Quarterly_To_Monthly)"
   ]
  },
  {
   "cell_type": "code",
   "execution_count": 58,
   "metadata": {},
   "outputs": [],
   "source": [
    "# Our data is released quarterly, so we have to shape it into a monthly database. The function below will allow for this:\n",
    "def Quarterly_To_Monthly(data, dataname, deflator = False):\n",
    "    \"\"\"Quarterly data can sometimes be recorded in a monthly data-frames.\n",
    "    This function returns a pandas data-frame in which inter-quarterly cells are populatd.\n",
    "    \n",
    "    data (pandas.DataFrame): a pandas data-frame of the quarterly data\n",
    "    that is wanted in a monthly pandas data-frame\n",
    "    \n",
    "    dataname (str): a string of the name wanted for the column of returned data-frame\n",
    "    \n",
    "    deflator (bool): Set to False by default. If the data passed is an inflator,\n",
    "    setting ' deflator ' to True will inverse it)\n",
    "    \"\"\"\n",
    "    \n",
    "    data_proper, data_full_index = [], []\n",
    "    \n",
    "    if deflator == True:\n",
    "        for i in range(0, len(data.dropna())):\n",
    "            [data_proper.append(float(data.dropna().iloc[j])) for j in [i,i,i]]\n",
    "            [data_full_index.append(datetime.datetime.strptime(str(data.dropna().index[i])[0:8] + \"01\", \"%Y-%m-%d\") + dateutil.relativedelta.relativedelta(months =+ j)) for j in range(0,3)]\n",
    "        data = pandas.DataFrame(data = [1 / (i / data_proper[-1]) for i in data_proper], columns = [\"Investment\"], index = data_full_index)\n",
    "    \n",
    "    else:\n",
    "        for i in range(0, len(data)):\n",
    "            [data_proper.append(float(data.iloc[j])) for j in [i,i,i]]\n",
    "            [data_full_index.append(datetime.datetime.strptime(str(data.index[i])[0:8] + \"01\", \"%Y-%m-%d\") + dateutil.relativedelta.relativedelta(months =+ j)) for j in range(0,3)]\n",
    "        data = pandas.DataFrame(data = data_proper, columns = [dataname], index = data_full_index)\n",
    "    \n",
    "    data.index = pandas.to_datetime(data.index)\n",
    "    \n",
    "    return data"
   ]
  },
  {
   "cell_type": "code",
   "execution_count": 59,
   "metadata": {},
   "outputs": [
    {
     "name": "stdout",
     "output_type": "stream",
     "text": [
      "Help on function Quarterly_To_Monthly in module __main__:\n",
      "\n",
      "Quarterly_To_Monthly(data, dataname, deflator=False)\n",
      "    Quarterly data can sometimes be recorded in a monthly data-frames.\n",
      "    This function returns a pandas data-frame in which inter-quarterly cells are populatd.\n",
      "    \n",
      "    data (pandas.DataFrame): a pandas data-frame of the quarterly data\n",
      "    that is wanted in a monthly pandas data-frame\n",
      "    \n",
      "    dataname (str): a string of the name wanted for the column of returned data-frame\n",
      "    \n",
      "    deflator (bool): Set to False by default. If the data passed is an inflator,\n",
      "    setting ' deflator ' to True will inverse it)\n",
      "\n"
     ]
    }
   ],
   "source": [
    "help(Quarterly_To_Monthly)"
   ]
  },
  {
   "cell_type": "code",
   "execution_count": 60,
   "metadata": {},
   "outputs": [
    {
     "data": {
      "text/html": [
       "<div>\n",
       "<style scoped>\n",
       "    .dataframe tbody tr th:only-of-type {\n",
       "        vertical-align: middle;\n",
       "    }\n",
       "\n",
       "    .dataframe tbody tr th {\n",
       "        vertical-align: top;\n",
       "    }\n",
       "\n",
       "    .dataframe thead tr th {\n",
       "        text-align: left;\n",
       "    }\n",
       "\n",
       "    .dataframe thead tr:last-of-type th {\n",
       "        text-align: right;\n",
       "    }\n",
       "</style>\n",
       "<table border=\"1\" class=\"dataframe\">\n",
       "  <thead>\n",
       "    <tr>\n",
       "      <th>Instrument</th>\n",
       "      <th>USGFCF..B</th>\n",
       "    </tr>\n",
       "    <tr>\n",
       "      <th>Field</th>\n",
       "      <th>X</th>\n",
       "    </tr>\n",
       "    <tr>\n",
       "      <th>Dates</th>\n",
       "      <th></th>\n",
       "    </tr>\n",
       "  </thead>\n",
       "  <tbody>\n",
       "    <tr>\n",
       "      <th>1950-02-15</th>\n",
       "      <td>4.472500e+10</td>\n",
       "    </tr>\n",
       "    <tr>\n",
       "      <th>1950-05-15</th>\n",
       "      <td>4.945800e+10</td>\n",
       "    </tr>\n",
       "    <tr>\n",
       "      <th>1950-08-15</th>\n",
       "      <td>5.446500e+10</td>\n",
       "    </tr>\n",
       "    <tr>\n",
       "      <th>1950-11-15</th>\n",
       "      <td>5.439700e+10</td>\n",
       "    </tr>\n",
       "    <tr>\n",
       "      <th>1951-02-15</th>\n",
       "      <td>5.419600e+10</td>\n",
       "    </tr>\n",
       "    <tr>\n",
       "      <th>...</th>\n",
       "      <td>...</td>\n",
       "    </tr>\n",
       "    <tr>\n",
       "      <th>2020-02-15</th>\n",
       "      <td>3.727988e+12</td>\n",
       "    </tr>\n",
       "    <tr>\n",
       "      <th>2020-05-15</th>\n",
       "      <td>3.426959e+12</td>\n",
       "    </tr>\n",
       "    <tr>\n",
       "      <th>2020-08-15</th>\n",
       "      <td>3.689047e+12</td>\n",
       "    </tr>\n",
       "    <tr>\n",
       "      <th>2020-11-15</th>\n",
       "      <td>NaN</td>\n",
       "    </tr>\n",
       "    <tr>\n",
       "      <th>2021-02-15</th>\n",
       "      <td>NaN</td>\n",
       "    </tr>\n",
       "  </tbody>\n",
       "</table>\n",
       "<p>285 rows × 1 columns</p>\n",
       "</div>"
      ],
      "text/plain": [
       "Instrument     USGFCF..B\n",
       "Field                  X\n",
       "Dates                   \n",
       "1950-02-15  4.472500e+10\n",
       "1950-05-15  4.945800e+10\n",
       "1950-08-15  5.446500e+10\n",
       "1950-11-15  5.439700e+10\n",
       "1951-02-15  5.419600e+10\n",
       "...                  ...\n",
       "2020-02-15  3.727988e+12\n",
       "2020-05-15  3.426959e+12\n",
       "2020-08-15  3.689047e+12\n",
       "2020-11-15           NaN\n",
       "2021-02-15           NaN\n",
       "\n",
       "[285 rows x 1 columns]"
      ]
     },
     "execution_count": 60,
     "metadata": {},
     "output_type": "execute_result"
    }
   ],
   "source": [
    "multiplier = 1000000000\n",
    "ticker = \"USGFCF..B\"\n",
    "data_name = \"Investment\"\n",
    "field = \"X\"\n",
    "dsdata = ds.get_data(tickers = ticker, fields = field, start = '1950-02-01', freq = 'M') * multiplier\n",
    "dsdata"
   ]
  },
  {
   "cell_type": "code",
   "execution_count": 61,
   "metadata": {},
   "outputs": [],
   "source": [
    "# Adding data for every quarter in our df:\n",
    "Add_to_df(data = dsdata.copy(), dataname = data_name + \" (quarterly data)\")"
   ]
  },
  {
   "cell_type": "code",
   "execution_count": 62,
   "metadata": {},
   "outputs": [
    {
     "data": {
      "text/html": [
       "<div>\n",
       "<style scoped>\n",
       "    .dataframe tbody tr th:only-of-type {\n",
       "        vertical-align: middle;\n",
       "    }\n",
       "\n",
       "    .dataframe tbody tr th {\n",
       "        vertical-align: top;\n",
       "    }\n",
       "\n",
       "    .dataframe thead th {\n",
       "        text-align: right;\n",
       "    }\n",
       "</style>\n",
       "<table border=\"1\" class=\"dataframe\">\n",
       "  <thead>\n",
       "    <tr style=\"text-align: right;\">\n",
       "      <th></th>\n",
       "      <th>Investment (quarterly data)</th>\n",
       "    </tr>\n",
       "  </thead>\n",
       "  <tbody>\n",
       "    <tr>\n",
       "      <th>1950-02-01</th>\n",
       "      <td>4.472500e+10</td>\n",
       "    </tr>\n",
       "    <tr>\n",
       "      <th>1950-03-01</th>\n",
       "      <td>4.472500e+10</td>\n",
       "    </tr>\n",
       "    <tr>\n",
       "      <th>1950-04-01</th>\n",
       "      <td>4.472500e+10</td>\n",
       "    </tr>\n",
       "    <tr>\n",
       "      <th>1950-05-01</th>\n",
       "      <td>4.945800e+10</td>\n",
       "    </tr>\n",
       "    <tr>\n",
       "      <th>1950-06-01</th>\n",
       "      <td>4.945800e+10</td>\n",
       "    </tr>\n",
       "    <tr>\n",
       "      <th>...</th>\n",
       "      <td>...</td>\n",
       "    </tr>\n",
       "    <tr>\n",
       "      <th>2020-12-01</th>\n",
       "      <td>NaN</td>\n",
       "    </tr>\n",
       "    <tr>\n",
       "      <th>2021-01-01</th>\n",
       "      <td>NaN</td>\n",
       "    </tr>\n",
       "    <tr>\n",
       "      <th>2021-02-01</th>\n",
       "      <td>NaN</td>\n",
       "    </tr>\n",
       "    <tr>\n",
       "      <th>2021-03-01</th>\n",
       "      <td>NaN</td>\n",
       "    </tr>\n",
       "    <tr>\n",
       "      <th>2021-04-01</th>\n",
       "      <td>NaN</td>\n",
       "    </tr>\n",
       "  </tbody>\n",
       "</table>\n",
       "<p>855 rows × 1 columns</p>\n",
       "</div>"
      ],
      "text/plain": [
       "            Investment (quarterly data)\n",
       "1950-02-01                 4.472500e+10\n",
       "1950-03-01                 4.472500e+10\n",
       "1950-04-01                 4.472500e+10\n",
       "1950-05-01                 4.945800e+10\n",
       "1950-06-01                 4.945800e+10\n",
       "...                                 ...\n",
       "2020-12-01                          NaN\n",
       "2021-01-01                          NaN\n",
       "2021-02-01                          NaN\n",
       "2021-03-01                          NaN\n",
       "2021-04-01                          NaN\n",
       "\n",
       "[855 rows x 1 columns]"
      ]
     },
     "execution_count": 62,
     "metadata": {},
     "output_type": "execute_result"
    }
   ],
   "source": [
    "Quarterly_To_Monthly(dsdata.copy(), dataname = data_name + \" (quarterly data)\", deflator = False)"
   ]
  },
  {
   "cell_type": "code",
   "execution_count": 63,
   "metadata": {},
   "outputs": [],
   "source": [
    "# Adding quarterly data for every month in our df:\n",
    "Add_to_df(data = Quarterly_To_Monthly(dsdata.copy(), dataname = data_name + \" (quarterly data)\", deflator = False),\n",
    "          dataname = data_name + \" (monthly step data)\")"
   ]
  },
  {
   "cell_type": "code",
   "execution_count": 64,
   "metadata": {},
   "outputs": [],
   "source": [
    "def Collect_Quarterly_Data(ticker, data_name, field = \"X\", start = \"1950-02-01\", freq = \"M\",\n",
    "                           multiplier = 1):\n",
    "    \"\"\" This function was created specifically for this script/article. It decreases the\n",
    "    number of repeated code lines collecting data in several forms in our df.\n",
    "    \n",
    "    ticker (str/list): string of the one DataStream ticker or list of multiple DataStream\n",
    "    tickers to be collected.\n",
    "    \n",
    "    field (str): Set to \"X\" by default. Field to be collected fo rthe ticker(s) in question.\n",
    "    \n",
    "    start (str): Set to \"1950-02-01\" by default. This is the date at which the data is to be\n",
    "    collected from on DataStream.\n",
    "    \n",
    "    freq (str): Set to \"M\" by default. This is the frequency at which you would like the\n",
    "    data to be collected from DataStream. \"M\" for monthly, \"Q\" for quarterly, \"A\" for \n",
    "    annually, et cetera. If ' freq ' is set to a higher frequency than is available on\n",
    "    DataSream, the highest possible one will be used (exempli gratia: if asking for \"M\"\n",
    "    when only \"Q\" data is available, data will be collected as if freq = \"Q\").\n",
    "    \n",
    "    multiplier (int/float): Set to ' 1 ' by default. Our collected data will be multiplied\n",
    "    by this multiplier.\n",
    "    \"\"\"\n",
    "    \n",
    "    # Only DataStream requests returning numbers are meant to be ask for in this function.\n",
    "    # The following try loop will account for the case where DataStream returns something\n",
    "    # else (or somenthing else is asked of it):\n",
    "    try:\n",
    "        # The multiplier can only be used if data in ' dsdata ' is numeric\n",
    "        dsdata = ds.get_data(tickers = ticker, fields = field,\n",
    "                             start = '1950-02-01', freq = 'M') * multiplier\n",
    "    except:\n",
    "        dsdata = ds.get_data(tickers = ticker, fields = field,\n",
    "                             start = '1950-02-01', freq = 'M')\n",
    "    \n",
    "    # Adding data for every quarter in our df:\n",
    "    Add_to_df(data = dsdata.copy(), dataname = data_name + \" (quarterly data)\")\n",
    "    \n",
    "    # Adding quarterly data for every month in our df:\n",
    "    Add_to_df(data = Quarterly_To_Monthly(dsdata.copy(),\n",
    "                                          dataname = data_name + \" (quarterly data)\",\n",
    "                                          deflator = False),\n",
    "              dataname = data_name + \" (monthly step data)\")"
   ]
  },
  {
   "cell_type": "markdown",
   "metadata": {},
   "source": [
    "### [U.S.A.'s Government Investment](http://product.datastream.com/browse/search.aspx?dsid=ZRQW955&AppGroup=DSAddin&q=USCNGOV.B&prev=99_government+consumption+expenditures+and+gross+investment&nav_category=12)"
   ]
  },
  {
   "cell_type": "code",
   "execution_count": 65,
   "metadata": {},
   "outputs": [],
   "source": [
    "Collect_Quarterly_Data(ticker = \"USCNGOV.B\", data_name = \"Government Investment\", multiplier = 1000000000)"
   ]
  },
  {
   "cell_type": "markdown",
   "metadata": {},
   "source": [
    "### [U.S.A.'s Net Exports of Goods and Services](http://product.datastream.com/browse/search.aspx?dsid=ZRQW955&AppGroup=DSAddin&q=USBALGSVB&prev=99_Net+Exports+of+Goods+and+Services&nav_category=12)"
   ]
  },
  {
   "cell_type": "code",
   "execution_count": 66,
   "metadata": {},
   "outputs": [],
   "source": [
    "Collect_Quarterly_Data(ticker = \"USBALGSVB\", data_name = \"Net Exports\", multiplier = 1000000000)"
   ]
  },
  {
   "cell_type": "markdown",
   "metadata": {},
   "source": [
    "$$ \\\\ $$\n",
    "# Part 4: Second Functions and Graphs"
   ]
  },
  {
   "cell_type": "markdown",
   "metadata": {},
   "source": [
    "$$ \\\\ $$\n",
    "### G.D.P. Component Sum"
   ]
  },
  {
   "cell_type": "code",
   "execution_count": 67,
   "metadata": {},
   "outputs": [
    {
     "data": {
      "text/html": [
       "<div>\n",
       "<style scoped>\n",
       "    .dataframe tbody tr th:only-of-type {\n",
       "        vertical-align: middle;\n",
       "    }\n",
       "\n",
       "    .dataframe tbody tr th {\n",
       "        vertical-align: top;\n",
       "    }\n",
       "\n",
       "    .dataframe thead th {\n",
       "        text-align: right;\n",
       "    }\n",
       "</style>\n",
       "<table border=\"1\" class=\"dataframe\">\n",
       "  <thead>\n",
       "    <tr style=\"text-align: right;\">\n",
       "      <th></th>\n",
       "    </tr>\n",
       "  </thead>\n",
       "  <tbody>\n",
       "  </tbody>\n",
       "</table>\n",
       "</div>"
      ],
      "text/plain": [
       "Empty DataFrame\n",
       "Columns: []\n",
       "Index: []"
      ]
     },
     "execution_count": 67,
     "metadata": {},
     "output_type": "execute_result"
    }
   ],
   "source": [
    "# Adding Columns to Pandas Dataframes:\n",
    "test = pandas.DataFrame([])\n",
    "test"
   ]
  },
  {
   "cell_type": "code",
   "execution_count": 68,
   "metadata": {},
   "outputs": [
    {
     "name": "stdout",
     "output_type": "stream",
     "text": [
      "a\n",
      "b\n",
      "c\n",
      "d\n",
      "e\n",
      "f\n"
     ]
    }
   ],
   "source": [
    "for i in range(ord('a'), ord('g')):\n",
    "    print(chr(i))"
   ]
  },
  {
   "cell_type": "code",
   "execution_count": 69,
   "metadata": {},
   "outputs": [
    {
     "data": {
      "text/html": [
       "<div>\n",
       "<style scoped>\n",
       "    .dataframe tbody tr th:only-of-type {\n",
       "        vertical-align: middle;\n",
       "    }\n",
       "\n",
       "    .dataframe tbody tr th {\n",
       "        vertical-align: top;\n",
       "    }\n",
       "\n",
       "    .dataframe thead th {\n",
       "        text-align: right;\n",
       "    }\n",
       "</style>\n",
       "<table border=\"1\" class=\"dataframe\">\n",
       "  <thead>\n",
       "    <tr style=\"text-align: right;\">\n",
       "      <th></th>\n",
       "      <th>Test Column</th>\n",
       "    </tr>\n",
       "  </thead>\n",
       "  <tbody>\n",
       "    <tr>\n",
       "      <th>0</th>\n",
       "      <td>a</td>\n",
       "    </tr>\n",
       "    <tr>\n",
       "      <th>1</th>\n",
       "      <td>b</td>\n",
       "    </tr>\n",
       "    <tr>\n",
       "      <th>2</th>\n",
       "      <td>c</td>\n",
       "    </tr>\n",
       "    <tr>\n",
       "      <th>3</th>\n",
       "      <td>d</td>\n",
       "    </tr>\n",
       "    <tr>\n",
       "      <th>4</th>\n",
       "      <td>e</td>\n",
       "    </tr>\n",
       "    <tr>\n",
       "      <th>5</th>\n",
       "      <td>f</td>\n",
       "    </tr>\n",
       "  </tbody>\n",
       "</table>\n",
       "</div>"
      ],
      "text/plain": [
       "  Test Column\n",
       "0           a\n",
       "1           b\n",
       "2           c\n",
       "3           d\n",
       "4           e\n",
       "5           f"
      ]
     },
     "execution_count": 69,
     "metadata": {},
     "output_type": "execute_result"
    }
   ],
   "source": [
    "test[\"Test Column\"] = [chr(i) for i in range(ord('a'), ord('g'))]\n",
    "test"
   ]
  },
  {
   "cell_type": "code",
   "execution_count": 70,
   "metadata": {},
   "outputs": [
    {
     "data": {
      "text/html": [
       "<div>\n",
       "<style scoped>\n",
       "    .dataframe tbody tr th:only-of-type {\n",
       "        vertical-align: middle;\n",
       "    }\n",
       "\n",
       "    .dataframe tbody tr th {\n",
       "        vertical-align: top;\n",
       "    }\n",
       "\n",
       "    .dataframe thead th {\n",
       "        text-align: right;\n",
       "    }\n",
       "</style>\n",
       "<table border=\"1\" class=\"dataframe\">\n",
       "  <thead>\n",
       "    <tr style=\"text-align: right;\">\n",
       "      <th></th>\n",
       "      <th>Consumption (monthly data)</th>\n",
       "      <th>Investment (quarterly data)</th>\n",
       "      <th>Investment (monthly step data)</th>\n",
       "      <th>Government Investment (quarterly data)</th>\n",
       "      <th>Government Investment (monthly step data)</th>\n",
       "      <th>Net Exports (quarterly data)</th>\n",
       "      <th>Net Exports (monthly step data)</th>\n",
       "    </tr>\n",
       "  </thead>\n",
       "  <tbody>\n",
       "    <tr>\n",
       "      <th>1950-02-01</th>\n",
       "      <td>NaN</td>\n",
       "      <td>4.472500e+10</td>\n",
       "      <td>4.472500e+10</td>\n",
       "      <td>4.895600e+10</td>\n",
       "      <td>4.895600e+10</td>\n",
       "      <td>2.203000e+09</td>\n",
       "      <td>2.203000e+09</td>\n",
       "    </tr>\n",
       "    <tr>\n",
       "      <th>1950-03-01</th>\n",
       "      <td>NaN</td>\n",
       "      <td>NaN</td>\n",
       "      <td>4.472500e+10</td>\n",
       "      <td>NaN</td>\n",
       "      <td>4.895600e+10</td>\n",
       "      <td>NaN</td>\n",
       "      <td>2.203000e+09</td>\n",
       "    </tr>\n",
       "    <tr>\n",
       "      <th>1950-04-01</th>\n",
       "      <td>NaN</td>\n",
       "      <td>NaN</td>\n",
       "      <td>4.472500e+10</td>\n",
       "      <td>NaN</td>\n",
       "      <td>4.895600e+10</td>\n",
       "      <td>NaN</td>\n",
       "      <td>2.203000e+09</td>\n",
       "    </tr>\n",
       "    <tr>\n",
       "      <th>1950-05-01</th>\n",
       "      <td>NaN</td>\n",
       "      <td>4.945800e+10</td>\n",
       "      <td>4.945800e+10</td>\n",
       "      <td>4.964300e+10</td>\n",
       "      <td>4.964300e+10</td>\n",
       "      <td>1.643000e+09</td>\n",
       "      <td>1.643000e+09</td>\n",
       "    </tr>\n",
       "    <tr>\n",
       "      <th>1950-06-01</th>\n",
       "      <td>NaN</td>\n",
       "      <td>NaN</td>\n",
       "      <td>4.945800e+10</td>\n",
       "      <td>NaN</td>\n",
       "      <td>4.964300e+10</td>\n",
       "      <td>NaN</td>\n",
       "      <td>1.643000e+09</td>\n",
       "    </tr>\n",
       "    <tr>\n",
       "      <th>...</th>\n",
       "      <td>...</td>\n",
       "      <td>...</td>\n",
       "      <td>...</td>\n",
       "      <td>...</td>\n",
       "      <td>...</td>\n",
       "      <td>...</td>\n",
       "      <td>...</td>\n",
       "    </tr>\n",
       "    <tr>\n",
       "      <th>2020-12-01</th>\n",
       "      <td>NaN</td>\n",
       "      <td>NaN</td>\n",
       "      <td>NaN</td>\n",
       "      <td>NaN</td>\n",
       "      <td>NaN</td>\n",
       "      <td>NaN</td>\n",
       "      <td>NaN</td>\n",
       "    </tr>\n",
       "    <tr>\n",
       "      <th>2021-01-01</th>\n",
       "      <td>NaN</td>\n",
       "      <td>NaN</td>\n",
       "      <td>NaN</td>\n",
       "      <td>NaN</td>\n",
       "      <td>NaN</td>\n",
       "      <td>NaN</td>\n",
       "      <td>NaN</td>\n",
       "    </tr>\n",
       "    <tr>\n",
       "      <th>2021-02-01</th>\n",
       "      <td>NaN</td>\n",
       "      <td>NaN</td>\n",
       "      <td>NaN</td>\n",
       "      <td>NaN</td>\n",
       "      <td>NaN</td>\n",
       "      <td>NaN</td>\n",
       "      <td>NaN</td>\n",
       "    </tr>\n",
       "    <tr>\n",
       "      <th>2021-03-01</th>\n",
       "      <td>NaN</td>\n",
       "      <td>NaN</td>\n",
       "      <td>NaN</td>\n",
       "      <td>NaN</td>\n",
       "      <td>NaN</td>\n",
       "      <td>NaN</td>\n",
       "      <td>NaN</td>\n",
       "    </tr>\n",
       "    <tr>\n",
       "      <th>2021-04-01</th>\n",
       "      <td>NaN</td>\n",
       "      <td>NaN</td>\n",
       "      <td>NaN</td>\n",
       "      <td>NaN</td>\n",
       "      <td>NaN</td>\n",
       "      <td>NaN</td>\n",
       "      <td>NaN</td>\n",
       "    </tr>\n",
       "  </tbody>\n",
       "</table>\n",
       "<p>855 rows × 7 columns</p>\n",
       "</div>"
      ],
      "text/plain": [
       "            Consumption (monthly data)  Investment (quarterly data)  \\\n",
       "1950-02-01                         NaN                 4.472500e+10   \n",
       "1950-03-01                         NaN                          NaN   \n",
       "1950-04-01                         NaN                          NaN   \n",
       "1950-05-01                         NaN                 4.945800e+10   \n",
       "1950-06-01                         NaN                          NaN   \n",
       "...                                ...                          ...   \n",
       "2020-12-01                         NaN                          NaN   \n",
       "2021-01-01                         NaN                          NaN   \n",
       "2021-02-01                         NaN                          NaN   \n",
       "2021-03-01                         NaN                          NaN   \n",
       "2021-04-01                         NaN                          NaN   \n",
       "\n",
       "            Investment (monthly step data)  \\\n",
       "1950-02-01                    4.472500e+10   \n",
       "1950-03-01                    4.472500e+10   \n",
       "1950-04-01                    4.472500e+10   \n",
       "1950-05-01                    4.945800e+10   \n",
       "1950-06-01                    4.945800e+10   \n",
       "...                                    ...   \n",
       "2020-12-01                             NaN   \n",
       "2021-01-01                             NaN   \n",
       "2021-02-01                             NaN   \n",
       "2021-03-01                             NaN   \n",
       "2021-04-01                             NaN   \n",
       "\n",
       "            Government Investment (quarterly data)  \\\n",
       "1950-02-01                            4.895600e+10   \n",
       "1950-03-01                                     NaN   \n",
       "1950-04-01                                     NaN   \n",
       "1950-05-01                            4.964300e+10   \n",
       "1950-06-01                                     NaN   \n",
       "...                                            ...   \n",
       "2020-12-01                                     NaN   \n",
       "2021-01-01                                     NaN   \n",
       "2021-02-01                                     NaN   \n",
       "2021-03-01                                     NaN   \n",
       "2021-04-01                                     NaN   \n",
       "\n",
       "            Government Investment (monthly step data)  \\\n",
       "1950-02-01                               4.895600e+10   \n",
       "1950-03-01                               4.895600e+10   \n",
       "1950-04-01                               4.895600e+10   \n",
       "1950-05-01                               4.964300e+10   \n",
       "1950-06-01                               4.964300e+10   \n",
       "...                                               ...   \n",
       "2020-12-01                                        NaN   \n",
       "2021-01-01                                        NaN   \n",
       "2021-02-01                                        NaN   \n",
       "2021-03-01                                        NaN   \n",
       "2021-04-01                                        NaN   \n",
       "\n",
       "            Net Exports (quarterly data)  Net Exports (monthly step data)  \n",
       "1950-02-01                  2.203000e+09                     2.203000e+09  \n",
       "1950-03-01                           NaN                     2.203000e+09  \n",
       "1950-04-01                           NaN                     2.203000e+09  \n",
       "1950-05-01                  1.643000e+09                     1.643000e+09  \n",
       "1950-06-01                           NaN                     1.643000e+09  \n",
       "...                                  ...                              ...  \n",
       "2020-12-01                           NaN                              NaN  \n",
       "2021-01-01                           NaN                              NaN  \n",
       "2021-02-01                           NaN                              NaN  \n",
       "2021-03-01                           NaN                              NaN  \n",
       "2021-04-01                           NaN                              NaN  \n",
       "\n",
       "[855 rows x 7 columns]"
      ]
     },
     "execution_count": 70,
     "metadata": {},
     "output_type": "execute_result"
    }
   ],
   "source": [
    "df"
   ]
  },
  {
   "cell_type": "code",
   "execution_count": 71,
   "metadata": {},
   "outputs": [],
   "source": [
    "df[\"GDP Component Sum (quarterly data)\"] = df.dropna()[\"Consumption (monthly data)\"] + df.dropna()[\"Investment (quarterly data)\"] + df.dropna()[\"Government Investment (quarterly data)\"] + df.dropna()[\"Net Exports (quarterly data)\"]"
   ]
  },
  {
   "cell_type": "code",
   "execution_count": 72,
   "metadata": {},
   "outputs": [
    {
     "data": {
      "text/html": [
       "<div>\n",
       "<style scoped>\n",
       "    .dataframe tbody tr th:only-of-type {\n",
       "        vertical-align: middle;\n",
       "    }\n",
       "\n",
       "    .dataframe tbody tr th {\n",
       "        vertical-align: top;\n",
       "    }\n",
       "\n",
       "    .dataframe thead th {\n",
       "        text-align: right;\n",
       "    }\n",
       "</style>\n",
       "<table border=\"1\" class=\"dataframe\">\n",
       "  <thead>\n",
       "    <tr style=\"text-align: right;\">\n",
       "      <th></th>\n",
       "      <th>Consumption (monthly data)</th>\n",
       "      <th>Investment (quarterly data)</th>\n",
       "      <th>Investment (monthly step data)</th>\n",
       "      <th>Government Investment (quarterly data)</th>\n",
       "      <th>Government Investment (monthly step data)</th>\n",
       "      <th>Net Exports (quarterly data)</th>\n",
       "      <th>Net Exports (monthly step data)</th>\n",
       "      <th>GDP Component Sum (quarterly data)</th>\n",
       "    </tr>\n",
       "  </thead>\n",
       "  <tbody>\n",
       "    <tr>\n",
       "      <th>1950-02-01</th>\n",
       "      <td>NaN</td>\n",
       "      <td>4.472500e+10</td>\n",
       "      <td>4.472500e+10</td>\n",
       "      <td>4.895600e+10</td>\n",
       "      <td>4.895600e+10</td>\n",
       "      <td>2.203000e+09</td>\n",
       "      <td>2.203000e+09</td>\n",
       "      <td>NaN</td>\n",
       "    </tr>\n",
       "    <tr>\n",
       "      <th>1950-03-01</th>\n",
       "      <td>NaN</td>\n",
       "      <td>NaN</td>\n",
       "      <td>4.472500e+10</td>\n",
       "      <td>NaN</td>\n",
       "      <td>4.895600e+10</td>\n",
       "      <td>NaN</td>\n",
       "      <td>2.203000e+09</td>\n",
       "      <td>NaN</td>\n",
       "    </tr>\n",
       "    <tr>\n",
       "      <th>1950-04-01</th>\n",
       "      <td>NaN</td>\n",
       "      <td>NaN</td>\n",
       "      <td>4.472500e+10</td>\n",
       "      <td>NaN</td>\n",
       "      <td>4.895600e+10</td>\n",
       "      <td>NaN</td>\n",
       "      <td>2.203000e+09</td>\n",
       "      <td>NaN</td>\n",
       "    </tr>\n",
       "    <tr>\n",
       "      <th>1950-05-01</th>\n",
       "      <td>NaN</td>\n",
       "      <td>4.945800e+10</td>\n",
       "      <td>4.945800e+10</td>\n",
       "      <td>4.964300e+10</td>\n",
       "      <td>4.964300e+10</td>\n",
       "      <td>1.643000e+09</td>\n",
       "      <td>1.643000e+09</td>\n",
       "      <td>NaN</td>\n",
       "    </tr>\n",
       "    <tr>\n",
       "      <th>1950-06-01</th>\n",
       "      <td>NaN</td>\n",
       "      <td>NaN</td>\n",
       "      <td>4.945800e+10</td>\n",
       "      <td>NaN</td>\n",
       "      <td>4.964300e+10</td>\n",
       "      <td>NaN</td>\n",
       "      <td>1.643000e+09</td>\n",
       "      <td>NaN</td>\n",
       "    </tr>\n",
       "    <tr>\n",
       "      <th>...</th>\n",
       "      <td>...</td>\n",
       "      <td>...</td>\n",
       "      <td>...</td>\n",
       "      <td>...</td>\n",
       "      <td>...</td>\n",
       "      <td>...</td>\n",
       "      <td>...</td>\n",
       "      <td>...</td>\n",
       "    </tr>\n",
       "    <tr>\n",
       "      <th>2020-12-01</th>\n",
       "      <td>NaN</td>\n",
       "      <td>NaN</td>\n",
       "      <td>NaN</td>\n",
       "      <td>NaN</td>\n",
       "      <td>NaN</td>\n",
       "      <td>NaN</td>\n",
       "      <td>NaN</td>\n",
       "      <td>NaN</td>\n",
       "    </tr>\n",
       "    <tr>\n",
       "      <th>2021-01-01</th>\n",
       "      <td>NaN</td>\n",
       "      <td>NaN</td>\n",
       "      <td>NaN</td>\n",
       "      <td>NaN</td>\n",
       "      <td>NaN</td>\n",
       "      <td>NaN</td>\n",
       "      <td>NaN</td>\n",
       "      <td>NaN</td>\n",
       "    </tr>\n",
       "    <tr>\n",
       "      <th>2021-02-01</th>\n",
       "      <td>NaN</td>\n",
       "      <td>NaN</td>\n",
       "      <td>NaN</td>\n",
       "      <td>NaN</td>\n",
       "      <td>NaN</td>\n",
       "      <td>NaN</td>\n",
       "      <td>NaN</td>\n",
       "      <td>NaN</td>\n",
       "    </tr>\n",
       "    <tr>\n",
       "      <th>2021-03-01</th>\n",
       "      <td>NaN</td>\n",
       "      <td>NaN</td>\n",
       "      <td>NaN</td>\n",
       "      <td>NaN</td>\n",
       "      <td>NaN</td>\n",
       "      <td>NaN</td>\n",
       "      <td>NaN</td>\n",
       "      <td>NaN</td>\n",
       "    </tr>\n",
       "    <tr>\n",
       "      <th>2021-04-01</th>\n",
       "      <td>NaN</td>\n",
       "      <td>NaN</td>\n",
       "      <td>NaN</td>\n",
       "      <td>NaN</td>\n",
       "      <td>NaN</td>\n",
       "      <td>NaN</td>\n",
       "      <td>NaN</td>\n",
       "      <td>NaN</td>\n",
       "    </tr>\n",
       "  </tbody>\n",
       "</table>\n",
       "<p>855 rows × 8 columns</p>\n",
       "</div>"
      ],
      "text/plain": [
       "            Consumption (monthly data)  Investment (quarterly data)  \\\n",
       "1950-02-01                         NaN                 4.472500e+10   \n",
       "1950-03-01                         NaN                          NaN   \n",
       "1950-04-01                         NaN                          NaN   \n",
       "1950-05-01                         NaN                 4.945800e+10   \n",
       "1950-06-01                         NaN                          NaN   \n",
       "...                                ...                          ...   \n",
       "2020-12-01                         NaN                          NaN   \n",
       "2021-01-01                         NaN                          NaN   \n",
       "2021-02-01                         NaN                          NaN   \n",
       "2021-03-01                         NaN                          NaN   \n",
       "2021-04-01                         NaN                          NaN   \n",
       "\n",
       "            Investment (monthly step data)  \\\n",
       "1950-02-01                    4.472500e+10   \n",
       "1950-03-01                    4.472500e+10   \n",
       "1950-04-01                    4.472500e+10   \n",
       "1950-05-01                    4.945800e+10   \n",
       "1950-06-01                    4.945800e+10   \n",
       "...                                    ...   \n",
       "2020-12-01                             NaN   \n",
       "2021-01-01                             NaN   \n",
       "2021-02-01                             NaN   \n",
       "2021-03-01                             NaN   \n",
       "2021-04-01                             NaN   \n",
       "\n",
       "            Government Investment (quarterly data)  \\\n",
       "1950-02-01                            4.895600e+10   \n",
       "1950-03-01                                     NaN   \n",
       "1950-04-01                                     NaN   \n",
       "1950-05-01                            4.964300e+10   \n",
       "1950-06-01                                     NaN   \n",
       "...                                            ...   \n",
       "2020-12-01                                     NaN   \n",
       "2021-01-01                                     NaN   \n",
       "2021-02-01                                     NaN   \n",
       "2021-03-01                                     NaN   \n",
       "2021-04-01                                     NaN   \n",
       "\n",
       "            Government Investment (monthly step data)  \\\n",
       "1950-02-01                               4.895600e+10   \n",
       "1950-03-01                               4.895600e+10   \n",
       "1950-04-01                               4.895600e+10   \n",
       "1950-05-01                               4.964300e+10   \n",
       "1950-06-01                               4.964300e+10   \n",
       "...                                               ...   \n",
       "2020-12-01                                        NaN   \n",
       "2021-01-01                                        NaN   \n",
       "2021-02-01                                        NaN   \n",
       "2021-03-01                                        NaN   \n",
       "2021-04-01                                        NaN   \n",
       "\n",
       "            Net Exports (quarterly data)  Net Exports (monthly step data)  \\\n",
       "1950-02-01                  2.203000e+09                     2.203000e+09   \n",
       "1950-03-01                           NaN                     2.203000e+09   \n",
       "1950-04-01                           NaN                     2.203000e+09   \n",
       "1950-05-01                  1.643000e+09                     1.643000e+09   \n",
       "1950-06-01                           NaN                     1.643000e+09   \n",
       "...                                  ...                              ...   \n",
       "2020-12-01                           NaN                              NaN   \n",
       "2021-01-01                           NaN                              NaN   \n",
       "2021-02-01                           NaN                              NaN   \n",
       "2021-03-01                           NaN                              NaN   \n",
       "2021-04-01                           NaN                              NaN   \n",
       "\n",
       "            GDP Component Sum (quarterly data)  \n",
       "1950-02-01                                 NaN  \n",
       "1950-03-01                                 NaN  \n",
       "1950-04-01                                 NaN  \n",
       "1950-05-01                                 NaN  \n",
       "1950-06-01                                 NaN  \n",
       "...                                        ...  \n",
       "2020-12-01                                 NaN  \n",
       "2021-01-01                                 NaN  \n",
       "2021-02-01                                 NaN  \n",
       "2021-03-01                                 NaN  \n",
       "2021-04-01                                 NaN  \n",
       "\n",
       "[855 rows x 8 columns]"
      ]
     },
     "execution_count": 72,
     "metadata": {},
     "output_type": "execute_result"
    }
   ],
   "source": [
    "df"
   ]
  },
  {
   "cell_type": "code",
   "execution_count": 73,
   "metadata": {},
   "outputs": [],
   "source": [
    "df[\"GDP Component Sum (monthly step data)\"] = df[\"Consumption (monthly data)\"] + df[\"Investment (monthly step data)\"] + df[\"Government Investment (monthly step data)\"] + df[\"Net Exports (monthly step data)\"]"
   ]
  },
  {
   "cell_type": "markdown",
   "metadata": {},
   "source": [
    "#### Plotting"
   ]
  },
  {
   "cell_type": "code",
   "execution_count": 74,
   "metadata": {},
   "outputs": [
    {
     "name": "stderr",
     "output_type": "stream",
     "text": [
      "C:\\Users\\U6082174.TEN\\AppData\\Roaming\\Python\\Python37\\site-packages\\ipykernel_launcher.py:10: UserWarning: Matplotlib is currently using module://ipykernel.pylab.backend_inline, which is a non-GUI backend, so cannot show the figure.\n",
      "  # Remove the CWD from sys.path while we load stuff.\n"
     ]
    },
    {
     "data": {
      "image/png": "[encoded data removed]",
      "text/plain": [
       "<Figure size 432x288 with 1 Axes>"
      ]
     },
     "metadata": {
      "needs_background": "light"
     },
     "output_type": "display_data"
    }
   ],
   "source": [
    "# First create some toy data:\n",
    "x = numpy.linspace(0, 2*numpy.pi, 400)\n",
    "y = numpy.sin(x**2)\n",
    "\n",
    "# Create just a figure and only one subplot\n",
    "# Remember we did ' import matplotlib.pyplot as plt '\n",
    "fig, ax = plt.subplots() # Similar to ' data_proper, data_full_index = [], [] '\n",
    "ax.plot(x, y)\n",
    "ax.set_title('Simple plot')\n",
    "fig.show() # only here to stop ' Text(0.5, 1.0, 'Simple plot') ' from bieng printed"
   ]
  },
  {
   "cell_type": "code",
   "execution_count": 75,
   "metadata": {},
   "outputs": [
    {
     "name": "stderr",
     "output_type": "stream",
     "text": [
      "C:\\Users\\U6082174.TEN\\AppData\\Roaming\\Python\\Python37\\site-packages\\ipykernel_launcher.py:14: UserWarning: Matplotlib is currently using module://ipykernel.pylab.backend_inline, which is a non-GUI backend, so cannot show the figure.\n",
      "  \n"
     ]
    },
    {
     "data": {
      "image/png": "[encoded data removed]",
      "text/plain": [
       "<Figure size 432x288 with 1 Axes>"
      ]
     },
     "metadata": {
      "needs_background": "light"
     },
     "output_type": "display_data"
    }
   ],
   "source": [
    "# First create some toy data:\n",
    "x = numpy.linspace(0, 2*numpy.pi, 400)\n",
    "y = numpy.sin(x**2)\n",
    "\n",
    "# Create just a figure and only one subplot\n",
    "fig, ax = plt.subplots() # Similar to ' data_proper, data_full_index = [], [] '\n",
    "ax.plot(x, y)\n",
    "\n",
    "\n",
    "ax.set_facecolor(\"0.25\") # Dark-grey color\n",
    "\n",
    "\n",
    "ax.set_title('Simple plot')\n",
    "fig.show() # only here to stop ' Text(0.5, 1.0, 'Simple plot') ' from bieng printed"
   ]
  },
  {
   "cell_type": "code",
   "execution_count": 76,
   "metadata": {},
   "outputs": [
    {
     "name": "stderr",
     "output_type": "stream",
     "text": [
      "C:\\Users\\U6082174.TEN\\AppData\\Roaming\\Python\\Python37\\site-packages\\ipykernel_launcher.py:14: UserWarning: Matplotlib is currently using module://ipykernel.pylab.backend_inline, which is a non-GUI backend, so cannot show the figure.\n",
      "  \n"
     ]
    },
    {
     "data": {
      "image/png": "[encoded data removed]",
      "text/plain": [
       "<Figure size 864x288 with 1 Axes>"
      ]
     },
     "metadata": {},
     "output_type": "display_data"
    }
   ],
   "source": [
    "# First create some toy data:\n",
    "x = numpy.linspace(0, 2*numpy.pi, 400)\n",
    "y = numpy.sin(x**2)\n",
    "\n",
    "# Create just a figure and only one subplot\n",
    "\n",
    "\n",
    "fig, ax = plt.subplots(figsize = (12,4), facecolor = \"0.25\") # Similar to ' data_proper, data_full_index = [], [] '\n",
    "\n",
    "\n",
    "ax.plot(x, y)\n",
    "ax.set_facecolor(\"0.25\") # Dark-grey color\n",
    "ax.set_title('Simple plot')\n",
    "fig.show() # only here to stop ' Text(0.5, 1.0, 'Simple plot') ' from bieng printed"
   ]
  },
  {
   "cell_type": "code",
   "execution_count": 77,
   "metadata": {},
   "outputs": [
    {
     "name": "stderr",
     "output_type": "stream",
     "text": [
      "C:\\Users\\U6082174.TEN\\AppData\\Roaming\\Python\\Python37\\site-packages\\ipykernel_launcher.py:15: UserWarning: Matplotlib is currently using module://ipykernel.pylab.backend_inline, which is a non-GUI backend, so cannot show the figure.\n",
      "  from ipykernel import kernelapp as app\n"
     ]
    },
    {
     "data": {
      "image/png": "[encoded data removed]",
      "text/plain": [
       "<Figure size 864x288 with 1 Axes>"
      ]
     },
     "metadata": {},
     "output_type": "display_data"
    }
   ],
   "source": [
    "# First create some toy data:\n",
    "x = numpy.linspace(0, 2*numpy.pi, 400)\n",
    "y = numpy.sin(x**2)\n",
    "\n",
    "# Create just a figure and only one subplot\n",
    "fig, ax = plt.subplots(figsize = (12,4), facecolor = \"0.25\") # Similar to ' data_proper, data_full_index = [], [] '\n",
    "ax.plot(x, y)\n",
    "ax.set_facecolor(\"0.25\") # Dark-grey color\n",
    "ax.set_title('Simple plot')\n",
    "\n",
    "\n",
    "ax.tick_params(axis = 'both', colors = 'w')\n",
    "\n",
    "\n",
    "fig.show() # only here to stop ' Text(0.5, 1.0, 'Simple plot') ' from bieng printed"
   ]
  },
  {
   "cell_type": "code",
   "execution_count": 78,
   "metadata": {},
   "outputs": [
    {
     "name": "stderr",
     "output_type": "stream",
     "text": [
      "C:\\Users\\U6082174.TEN\\AppData\\Roaming\\Python\\Python37\\site-packages\\ipykernel_launcher.py:17: UserWarning: Matplotlib is currently using module://ipykernel.pylab.backend_inline, which is a non-GUI backend, so cannot show the figure.\n"
     ]
    },
    {
     "data": {
      "image/png": "[encoded data removed]",
      "text/plain": [
       "<Figure size 864x288 with 1 Axes>"
      ]
     },
     "metadata": {},
     "output_type": "display_data"
    }
   ],
   "source": [
    "# First create some toy data:\n",
    "x = numpy.linspace(0, 2*numpy.pi, 400)\n",
    "y = numpy.sin(x**2)\n",
    "\n",
    "# Create just a figure and only one subplot\n",
    "fig, ax = plt.subplots(figsize = (12,4), facecolor = \"0.25\") # Similar to ' data_proper, data_full_index = [], [] '\n",
    "ax.plot(x, y)\n",
    "ax.set_facecolor(\"0.25\") # Dark-grey color\n",
    "ax.set_title('Simple plot')\n",
    "ax.tick_params(axis = 'both', colors = 'w')\n",
    "\n",
    "\n",
    "ax.set_title(\"Simple\\nPlot\", color = 'w')\n",
    "plt.ylabel(\"USD ($)\", color = 'w')\n",
    "ax.set_xlabel(\"Year\", color = 'w')\n",
    "\n",
    "fig.show() # only here to stop ' Text(0.5, 1.0, 'Simple plot') ' from bieng printed"
   ]
  },
  {
   "cell_type": "code",
   "execution_count": 79,
   "metadata": {},
   "outputs": [
    {
     "name": "stderr",
     "output_type": "stream",
     "text": [
      "C:\\Users\\U6082174.TEN\\AppData\\Roaming\\Python\\Python37\\site-packages\\ipykernel_launcher.py:19: UserWarning: Matplotlib is currently using module://ipykernel.pylab.backend_inline, which is a non-GUI backend, so cannot show the figure.\n"
     ]
    },
    {
     "data": {
      "image/png": "[encoded data removed]",
      "text/plain": [
       "<Figure size 864x288 with 1 Axes>"
      ]
     },
     "metadata": {},
     "output_type": "display_data"
    }
   ],
   "source": [
    "# First create some toy data:\n",
    "x = numpy.linspace(0, 2*numpy.pi, 400)\n",
    "y = numpy.sin(x**2)\n",
    "\n",
    "# Create just a figure and only one subplot\n",
    "fig, ax = plt.subplots(figsize = (12,4), facecolor = \"0.25\") # Similar to ' data_proper, data_full_index = [], [] '\n",
    "ax.plot(x, y)\n",
    "ax.set_facecolor(\"0.25\") # Dark-grey color\n",
    "ax.set_title('Simple plot')\n",
    "ax.tick_params(axis = 'both', colors = 'w')\n",
    "ax.set_title(\"Simple\\nPlot\", color = 'w')\n",
    "plt.ylabel(\"USD ($)\", color = 'w')\n",
    "ax.set_xlabel(\"Year\", color = 'w')\n",
    "\n",
    "\n",
    "ax.grid(color = 'black', linewidth = 0.5)\n",
    "\n",
    "\n",
    "fig.show() # only here to stop ' Text(0.5, 1.0, 'Simple plot') ' from bieng printed"
   ]
  },
  {
   "cell_type": "code",
   "execution_count": 80,
   "metadata": {},
   "outputs": [
    {
     "data": {
      "text/plain": [
       "Timestamp('1959-02-01 00:00:00')"
      ]
     },
     "execution_count": 80,
     "metadata": {},
     "output_type": "execute_result"
    }
   ],
   "source": [
    "start_date = pandas.DataFrame(df[\"GDP Component Sum (quarterly data)\"].dropna()).iloc[:,[0]].index[0]\n",
    "start_date"
   ]
  },
  {
   "cell_type": "code",
   "execution_count": 81,
   "metadata": {},
   "outputs": [
    {
     "data": {
      "image/png": "[encoded data removed]",
      "text/plain": [
       "<Figure size 864x288 with 1 Axes>"
      ]
     },
     "metadata": {},
     "output_type": "display_data"
    }
   ],
   "source": [
    "# ylabel = \"\"\n",
    "# title = \"\"\n",
    "# xlabel = \"Year\"\n",
    "# datasubset = [0]\n",
    "# datarange = False\n",
    "# linescolor = False\n",
    "# figuresize = (12,4)\n",
    "# facecolor = \"0.25\"\n",
    "# grid = True\n",
    "\n",
    "dataset = pandas.DataFrame(df[\"GDP Component Sum (quarterly data)\"].dropna())\n",
    "\n",
    "start_date = str(dataset.iloc[:,[0]].index[0])\n",
    "end_date = str(dataset.iloc[:,[0]].index[-1])\n",
    "\n",
    "fig, ax1 = plt.subplots(figsize = (12,4), facecolor = \"0.25\") # \"0.25\" is a Dark-grey color\n",
    "ax1.tick_params(axis = 'both', colors = 'w')\n",
    "ax1.set_facecolor(\"0.25\") # Dark-grey color\n",
    "fig.autofmt_xdate()\n",
    "plt.ylabel(\"USD ($)\", color = 'w')\n",
    "ax1.set_xlabel(str(\"Year\"), color = 'w')\n",
    "\n",
    "ax1.plot(dataset.iloc[:, 0].loc[start_date : end_date], label = str(dataset.columns[0]))\n",
    "\n",
    "ax1.tick_params(axis = 'y')\n",
    "\n",
    "ax1.grid(color = 'black', linewidth = 0.5)\n",
    "\n",
    "ax1.set_title(\"Sum of USA GDP Components on a QUARTERLY BASIS\\n(Consumption, Investment, Government Investment and Net Exports)\" +\n",
    "              \" \\n\", color = 'w')\n",
    "plt.legend()\n",
    "plt.show()"
   ]
  },
  {
   "cell_type": "code",
   "execution_count": 82,
   "metadata": {},
   "outputs": [
    {
     "name": "stderr",
     "output_type": "stream",
     "text": [
      "No handles with labels found to put in legend.\n",
      "C:\\Users\\U6082174.TEN\\AppData\\Roaming\\Python\\Python37\\site-packages\\ipykernel_launcher.py:20: UserWarning: Matplotlib is currently using module://ipykernel.pylab.backend_inline, which is a non-GUI backend, so cannot show the figure.\n"
     ]
    },
    {
     "data": {
      "image/png": "[encoded data removed]",
      "text/plain": [
       "<Figure size 864x288 with 1 Axes>"
      ]
     },
     "metadata": {},
     "output_type": "display_data"
    }
   ],
   "source": [
    "# First create some toy data:\n",
    "x = numpy.linspace(0, 2*numpy.pi, 400)\n",
    "y = numpy.sin(x**2)\n",
    "\n",
    "# Create just a figure and only one subplot\n",
    "fig, ax = plt.subplots(figsize = (12,4), facecolor = \"0.25\") # Similar to ' data_proper, data_full_index = [], [] '\n",
    "ax.plot(x, y)\n",
    "ax.set_facecolor(\"0.25\") # Dark-grey color\n",
    "ax.set_title('Simple plot')\n",
    "ax.tick_params(axis = 'both', colors = 'w')\n",
    "ax.set_title(\"Simple\\nPlot\", color = 'w')\n",
    "plt.ylabel(\"USD ($)\", color = 'w')\n",
    "ax.set_xlabel(\"Year\", color = 'w')\n",
    "ax.grid(color = 'black', linewidth = 0.5)\n",
    "\n",
    "\n",
    "plt.legend()\n",
    "\n",
    "\n",
    "fig.show() # only here to stop ' Text(0.5, 1.0, 'Simple plot') ' from bieng printed"
   ]
  },
  {
   "cell_type": "code",
   "execution_count": 83,
   "metadata": {},
   "outputs": [],
   "source": [
    "pandas.plotting.register_matplotlib_converters() # Using an implicitly registered datetime converter for a matplotlib plotting method is no longer supported by matplotlib. Current versions of pandas requires explicitly registering matplotlib converters.\n",
    "def Plot1ax(dataset, ylabel = \"\", title = \"\", xlabel = \"Year\",\n",
    "            datasubset = [0], datarange = False,\n",
    "            linescolor = False, figuresize = (12,4),\n",
    "            facecolor = \"0.25\", grid = True):\n",
    "    \"\"\" Plot1ax Version 2.0:\n",
    "    This function returns a Matplotlib graph with default colours and dimensions\n",
    "    on one y axis (on the left as oppose to two, one on the left and one on the right).\n",
    "    \n",
    "    datasubset (list): Needs to be a list of the number of each column within\n",
    "    the data-set that needs to be labelled on the left.\n",
    "    \n",
    "    datarange (bool): If wanting to plot graph from and to a specific point,\n",
    "    make datarange a list of start and end date.\n",
    "    \n",
    "    linescolor (bool/list): (Default: False) This needs to be a list of the color of each\n",
    "    vector to be ploted, in order they are shown in their dataframe from left to right.\n",
    "    \n",
    "    figuresize (tuple): (Default: (12,4)) This can be changed to give graphs of different\n",
    "    proportions. It is defaulted to a 12 by 4 (ratioed) graph.\n",
    "    \n",
    "    facecolor (str): (Default: \"0.25\") This allows the user to change the\n",
    "    background color as needed.\n",
    "    \n",
    "    grid (bool): (Default: \"True\") This allows us to decide wether or\n",
    "    not to include a grid in our graphs.\n",
    "    \"\"\"\n",
    "    \n",
    "    # This function works if the dataset is specified in names of columns\n",
    "    # or their placement (first column being the '0th').\n",
    "    if type(datasubset[0]) == int:\n",
    "        if datarange == False:\n",
    "            start_date = str(dataset.iloc[:,datasubset].index[0])\n",
    "            end_date = str(dataset.iloc[:,datasubset].index[-1])\n",
    "        else:\n",
    "            start_date = str(datarange[0])\n",
    "\n",
    "            if datarange[-1] == -1:\n",
    "                end_date = str(dataset.iloc[:,datasubset].index[-1])\n",
    "            else:\n",
    "                end_date = str(datarange[-1])\n",
    "    else:\n",
    "        if datarange == False:\n",
    "            start_date = str(dataset[datasubset].index[0])\n",
    "            end_date = str(dataset[datasubset].index[-1])\n",
    "        else:\n",
    "            start_date = str(datarange[0])\n",
    "\n",
    "            if datarange[-1] == -1:\n",
    "                end_date = str(dataset[datasubset].index[-1])\n",
    "            else:\n",
    "                end_date = str(datarange[-1])\n",
    "        \n",
    "    \n",
    "    fig, ax1 = plt.subplots(figsize = figuresize, facecolor = facecolor)\n",
    "    ax1.tick_params(axis = 'both', colors = 'w')\n",
    "    ax1.set_facecolor(facecolor)\n",
    "    fig.autofmt_xdate()\n",
    "    plt.ylabel(ylabel, color = 'w')\n",
    "    ax1.set_xlabel(str(xlabel), color = 'w')\n",
    "    \n",
    "    if type(datasubset[0]) == int:\n",
    "        if linescolor == False:\n",
    "            for i in datasubset: # This is to label all the lines in order to allow matplot lib to create a legend\n",
    "                ax1.plot(dataset.iloc[:, i].loc[start_date : end_date],\n",
    "                         label = str(dataset.columns[i]))\n",
    "        else:\n",
    "            for i in datasubset: # This is to label all the lines in order to allow matplot lib to create a legend\n",
    "                ax1.plot(dataset.iloc[:, i].loc[start_date : end_date],\n",
    "                         label = str(dataset.columns[i]),\n",
    "                         color = linescolor)\n",
    "    else:\n",
    "        if linescolor == False:\n",
    "            for i in datasubset: # This is to label all the lines in order to allow matplot lib to create a legend\n",
    "                ax1.plot(dataset[i].loc[start_date : end_date],\n",
    "                         label = i)\n",
    "        else:\n",
    "            for i in datasubset: # This is to label all the lines in order to allow matplot lib to create a legend\n",
    "                ax1.plot(dataset[i].loc[start_date : end_date],\n",
    "                         label = i,\n",
    "                         color = linescolor)\n",
    "    \n",
    "    ax1.tick_params(axis = 'y')\n",
    "    \n",
    "    if grid == True:\n",
    "        ax1.grid(color='black', linewidth = 0.5)\n",
    "    \n",
    "    ax1.set_title(str(title) + \" \\n\", color = 'w')\n",
    "    plt.legend()\n",
    "    plt.show()"
   ]
  },
  {
   "cell_type": "code",
   "execution_count": 84,
   "metadata": {},
   "outputs": [
    {
     "data": {
      "image/png": "[encoded data removed]",
      "text/plain": [
       "<Figure size 864x288 with 1 Axes>"
      ]
     },
     "metadata": {},
     "output_type": "display_data"
    }
   ],
   "source": [
    "Plot1ax(dataset = pandas.DataFrame(df[\"GDP Component Sum (monthly step data)\"].dropna()),\n",
    "        title = \"Sum of USA GDP Components on a MONTHLY BASIS\\n(Consumption, Investment, Government Investment and Net Exports)\")"
   ]
  },
  {
   "cell_type": "markdown",
   "metadata": {},
   "source": [
    "$$ \\\\ $$\n",
    "### [U.S.A.'s G.D.P.](http://product.datastream.com/browse/search.aspx?dsid=ZRQW955&AppGroup=DSAddin&q=USGDP...B&prev=99_USA+GDP&nav_category=12)\n",
    "\n",
    "To check our model, we can use ['United States, National Product Account, Gross Domestic Product, Overall, Total, Current Prices, AR, SA, USD'](http://product.datastream.com/browse/search.aspx?dsid=ZRQW955&AppGroup=DSAddin&q=USGDP...B&prev=99_USA+GDP&nav_category=12)."
   ]
  },
  {
   "cell_type": "code",
   "execution_count": 85,
   "metadata": {},
   "outputs": [],
   "source": [
    "Add_to_df(data = ds.get_data(tickers = 'USGDP...B',\n",
    "                             fields = \"X\",\n",
    "                             start = '1950-02-01',\n",
    "                             freq = 'M') * 1000000000,\n",
    "          dataname = \"GDP (every quarter)\")"
   ]
  },
  {
   "cell_type": "code",
   "execution_count": 86,
   "metadata": {},
   "outputs": [
    {
     "data": {
      "text/plain": [
       "1950-02-01    2.808280e+11\n",
       "1950-03-01    2.808280e+11\n",
       "1950-04-01    2.808280e+11\n",
       "1950-05-01    2.903830e+11\n",
       "1950-06-01    2.903830e+11\n",
       "                  ...     \n",
       "2020-12-01             NaN\n",
       "2021-01-01             NaN\n",
       "2021-02-01             NaN\n",
       "2021-03-01             NaN\n",
       "2021-04-01             NaN\n",
       "Name: GDP (monthly step data), Length: 855, dtype: float64"
      ]
     },
     "execution_count": 86,
     "metadata": {},
     "output_type": "execute_result"
    }
   ],
   "source": [
    "df[\"GDP (monthly step data)\"] = Quarterly_To_Monthly(data = df[\"GDP (every quarter)\"],\n",
    "                                                     dataname = \"GDP (monthly step data)\").dropna()\n",
    "df[\"GDP (monthly step data)\"]"
   ]
  },
  {
   "cell_type": "markdown",
   "metadata": {},
   "source": [
    "$$ \\\\ $$\n",
    "### Data Résumé"
   ]
  },
  {
   "cell_type": "code",
   "execution_count": 87,
   "metadata": {},
   "outputs": [
    {
     "data": {
      "image/png": "[encoded data removed]",
      "text/plain": [
       "<Figure size 864x288 with 1 Axes>"
      ]
     },
     "metadata": {},
     "output_type": "display_data"
    }
   ],
   "source": [
    "Plot1ax(title = \"USA GDP and its components (quarterly data)\",\n",
    "        dataset = df.dropna(), ylabel = \"Today's $\",\n",
    "        datasubset = [\"Investment (quarterly data)\",\n",
    "                      \"Government Investment (quarterly data)\",\n",
    "                      \"Net Exports (quarterly data)\",\n",
    "                      \"Net Exports (quarterly data)\",\n",
    "                      \"GDP Component Sum (quarterly data)\",\n",
    "                      \"GDP (every quarter)\"])"
   ]
  },
  {
   "cell_type": "markdown",
   "metadata": {},
   "source": [
    "Note that the GDP and GDP Component Sum datapoints align so well that they are indistinguishable in the graph above"
   ]
  },
  {
   "cell_type": "markdown",
   "metadata": {},
   "source": [
    "$$ \\\\ $$\n",
    "## Part 5: The [Holt-Winters (HW) method](https://medium.com/datadriveninvestor/how-to-build-exponential-smoothing-models-using-python-simple-exponential-smoothing-holt-and-da371189e1a1) for Positive Data"
   ]
  },
  {
   "cell_type": "code",
   "execution_count": 89,
   "metadata": {
    "collapsed": true,
    "jupyter": {
     "outputs_hidden": true
    }
   },
   "outputs": [
    {
     "name": "stdout",
     "output_type": "stream",
     "text": [
      "Help on class ExponentialSmoothing in module statsmodels.tsa.holtwinters:\n",
      "\n",
      "class ExponentialSmoothing(statsmodels.tsa.base.tsa_model.TimeSeriesModel)\n",
      " |  ExponentialSmoothing(endog, trend=None, damped=False, seasonal=None, seasonal_periods=None, dates=None, freq=None, missing='none')\n",
      " |  \n",
      " |  Holt Winter's Exponential Smoothing\n",
      " |  \n",
      " |  Parameters\n",
      " |  ----------\n",
      " |  endog : array_like\n",
      " |      Time series\n",
      " |  trend : {\"add\", \"mul\", \"additive\", \"multiplicative\", None}, optional\n",
      " |      Type of trend component.\n",
      " |  damped : bool, optional\n",
      " |      Should the trend component be damped.\n",
      " |  seasonal : {\"add\", \"mul\", \"additive\", \"multiplicative\", None}, optional\n",
      " |      Type of seasonal component.\n",
      " |  seasonal_periods : int, optional\n",
      " |      The number of periods in a complete seasonal cycle, e.g., 4 for\n",
      " |      quarterly data or 7 for daily data with a weekly cycle.\n",
      " |  \n",
      " |  Returns\n",
      " |  -------\n",
      " |  results : ExponentialSmoothing class\n",
      " |  \n",
      " |  Notes\n",
      " |  -----\n",
      " |  This is a full implementation of the holt winters exponential smoothing as\n",
      " |  per [1]_. This includes all the unstable methods as well as the stable\n",
      " |  methods. The implementation of the library covers the functionality of the\n",
      " |  R library as much as possible whilst still being Pythonic.\n",
      " |  \n",
      " |  References\n",
      " |  ----------\n",
      " |  .. [1] Hyndman, Rob J., and George Athanasopoulos. Forecasting: principles\n",
      " |      and practice. OTexts, 2014.\n",
      " |  \n",
      " |  Method resolution order:\n",
      " |      ExponentialSmoothing\n",
      " |      statsmodels.tsa.base.tsa_model.TimeSeriesModel\n",
      " |      statsmodels.base.model.LikelihoodModel\n",
      " |      statsmodels.base.model.Model\n",
      " |      builtins.object\n",
      " |  \n",
      " |  Methods defined here:\n",
      " |  \n",
      " |  __init__(self, endog, trend=None, damped=False, seasonal=None, seasonal_periods=None, dates=None, freq=None, missing='none')\n",
      " |      Initialize self.  See help(type(self)) for accurate signature.\n",
      " |  \n",
      " |  fit(self, smoothing_level=None, smoothing_slope=None, smoothing_seasonal=None, damping_slope=None, optimized=True, use_boxcox=False, remove_bias=False, use_basinhopping=False, start_params=None, initial_level=None, initial_slope=None, use_brute=True)\n",
      " |      Fit the model\n",
      " |      \n",
      " |      Parameters\n",
      " |      ----------\n",
      " |      smoothing_level : float, optional\n",
      " |          The alpha value of the simple exponential smoothing, if the value\n",
      " |          is set then this value will be used as the value.\n",
      " |      smoothing_slope :  float, optional\n",
      " |          The beta value of the Holt's trend method, if the value is\n",
      " |          set then this value will be used as the value.\n",
      " |      smoothing_seasonal : float, optional\n",
      " |          The gamma value of the holt winters seasonal method, if the value\n",
      " |          is set then this value will be used as the value.\n",
      " |      damping_slope : float, optional\n",
      " |          The phi value of the damped method, if the value is\n",
      " |          set then this value will be used as the value.\n",
      " |      optimized : bool, optional\n",
      " |          Estimate model parameters by maximizing the log-likelihood\n",
      " |      use_boxcox : {True, False, 'log', float}, optional\n",
      " |          Should the Box-Cox transform be applied to the data first? If 'log'\n",
      " |          then apply the log. If float then use lambda equal to float.\n",
      " |      remove_bias : bool, optional\n",
      " |          Remove bias from forecast values and fitted values by enforcing\n",
      " |          that the average residual is equal to zero.\n",
      " |      use_basinhopping : bool, optional\n",
      " |          Using Basin Hopping optimizer to find optimal values\n",
      " |      start_params : ndarray, optional\n",
      " |          Starting values to used when optimizing the fit.  If not provided,\n",
      " |          starting values are determined using a combination of grid search\n",
      " |          and reasonable values based on the initial values of the data\n",
      " |      initial_level : float, optional\n",
      " |          Value to use when initializing the fitted level.\n",
      " |      initial_slope : float, optional\n",
      " |          Value to use when initializing the fitted slope.\n",
      " |      use_brute : bool, optional\n",
      " |          Search for good starting values using a brute force (grid)\n",
      " |          optimizer. If False, a naive set of starting values is used.\n",
      " |      \n",
      " |      Returns\n",
      " |      -------\n",
      " |      results : HoltWintersResults class\n",
      " |          See statsmodels.tsa.holtwinters.HoltWintersResults\n",
      " |      \n",
      " |      Notes\n",
      " |      -----\n",
      " |      This is a full implementation of the holt winters exponential smoothing\n",
      " |      as per [1]. This includes all the unstable methods as well as the\n",
      " |      stable methods. The implementation of the library covers the\n",
      " |      functionality of the R library as much as possible whilst still\n",
      " |      being Pythonic.\n",
      " |      \n",
      " |      References\n",
      " |      ----------\n",
      " |      [1] Hyndman, Rob J., and George Athanasopoulos. Forecasting: principles\n",
      " |          and practice. OTexts, 2014.\n",
      " |  \n",
      " |  initial_values(self)\n",
      " |      Compute initial values used in the exponential smoothing recursions\n",
      " |      \n",
      " |      Returns\n",
      " |      -------\n",
      " |      initial_level : float\n",
      " |          The initial value used for the level component\n",
      " |      initial_slope : {float, None}\n",
      " |          The initial value used for the trend component\n",
      " |      initial_seasons : list\n",
      " |          The initial values used for the seasonal components\n",
      " |      \n",
      " |      Notes\n",
      " |      -----\n",
      " |      Convenience function the exposes the values used to initialize the\n",
      " |      recursions. When optimizing parameters these are used as starting\n",
      " |      values.\n",
      " |      \n",
      " |      Method used to compute the initial value depends on when components\n",
      " |      are included in the model.  In a simple exponential smoothing model\n",
      " |      without trend or a seasonal components, the initial value is set to the\n",
      " |      first observation. When a trend is added, the trend is initialized\n",
      " |      either using y[1]/y[0], if multiplicative, or y[1]-y[0]. When the\n",
      " |      seasonal component is added the initialization adapts to account for\n",
      " |      the modified structure.\n",
      " |  \n",
      " |  predict(self, params, start=None, end=None)\n",
      " |      Returns in-sample and out-of-sample prediction.\n",
      " |      \n",
      " |      Parameters\n",
      " |      ----------\n",
      " |      params : ndarray\n",
      " |          The fitted model parameters.\n",
      " |      start : int, str, or datetime\n",
      " |          Zero-indexed observation number at which to start forecasting, ie.,\n",
      " |          the first forecast is start. Can also be a date string to\n",
      " |          parse or a datetime type.\n",
      " |      end : int, str, or datetime\n",
      " |          Zero-indexed observation number at which to end forecasting, ie.,\n",
      " |          the first forecast is start. Can also be a date string to\n",
      " |          parse or a datetime type.\n",
      " |      \n",
      " |      Returns\n",
      " |      -------\n",
      " |      predicted values : ndarray\n",
      " |  \n",
      " |  ----------------------------------------------------------------------\n",
      " |  Data descriptors inherited from statsmodels.tsa.base.tsa_model.TimeSeriesModel:\n",
      " |  \n",
      " |  exog_names\n",
      " |      The names of the exogenous variables.\n",
      " |  \n",
      " |  ----------------------------------------------------------------------\n",
      " |  Methods inherited from statsmodels.base.model.LikelihoodModel:\n",
      " |  \n",
      " |  hessian(self, params)\n",
      " |      The Hessian matrix of the model.\n",
      " |      \n",
      " |      Parameters\n",
      " |      ----------\n",
      " |      params : ndarray\n",
      " |          The parameters to use when evaluating the Hessian.\n",
      " |      \n",
      " |      Returns\n",
      " |      -------\n",
      " |      ndarray\n",
      " |          The hessian evaluated at the parameters.\n",
      " |  \n",
      " |  information(self, params)\n",
      " |      Fisher information matrix of model.\n",
      " |      \n",
      " |      Returns -1 * Hessian of the log-likelihood evaluated at params.\n",
      " |      \n",
      " |      Parameters\n",
      " |      ----------\n",
      " |      params : ndarray\n",
      " |          The model parameters.\n",
      " |  \n",
      " |  initialize(self)\n",
      " |      Initialize (possibly re-initialize) a Model instance.\n",
      " |      \n",
      " |      For example, if the the design matrix of a linear model changes then\n",
      " |      initialized can be used to recompute values using the modified design\n",
      " |      matrix.\n",
      " |  \n",
      " |  loglike(self, params)\n",
      " |      Log-likelihood of model.\n",
      " |      \n",
      " |      Parameters\n",
      " |      ----------\n",
      " |      params : ndarray\n",
      " |          The model parameters used to compute the log-likelihood.\n",
      " |      \n",
      " |      Notes\n",
      " |      -----\n",
      " |      Must be overridden by subclasses.\n",
      " |  \n",
      " |  score(self, params)\n",
      " |      Score vector of model.\n",
      " |      \n",
      " |      The gradient of logL with respect to each parameter.\n",
      " |      \n",
      " |      Parameters\n",
      " |      ----------\n",
      " |      params : ndarray\n",
      " |          The parameters to use when evaluating the Hessian.\n",
      " |      \n",
      " |      Returns\n",
      " |      -------\n",
      " |      ndarray\n",
      " |          The score vector evaluated at the parameters.\n",
      " |  \n",
      " |  ----------------------------------------------------------------------\n",
      " |  Class methods inherited from statsmodels.base.model.Model:\n",
      " |  \n",
      " |  from_formula(formula, data, subset=None, drop_cols=None, *args, **kwargs) from builtins.type\n",
      " |      Create a Model from a formula and dataframe.\n",
      " |      \n",
      " |      Parameters\n",
      " |      ----------\n",
      " |      formula : str or generic Formula object\n",
      " |          The formula specifying the model.\n",
      " |      data : array_like\n",
      " |          The data for the model. See Notes.\n",
      " |      subset : array_like\n",
      " |          An array-like object of booleans, integers, or index values that\n",
      " |          indicate the subset of df to use in the model. Assumes df is a\n",
      " |          `pandas.DataFrame`.\n",
      " |      drop_cols : array_like\n",
      " |          Columns to drop from the design matrix.  Cannot be used to\n",
      " |          drop terms involving categoricals.\n",
      " |      *args\n",
      " |          Additional positional argument that are passed to the model.\n",
      " |      **kwargs\n",
      " |          These are passed to the model with one exception. The\n",
      " |          ``eval_env`` keyword is passed to patsy. It can be either a\n",
      " |          :class:`patsy:patsy.EvalEnvironment` object or an integer\n",
      " |          indicating the depth of the namespace to use. For example, the\n",
      " |          default ``eval_env=0`` uses the calling namespace. If you wish\n",
      " |          to use a \"clean\" environment set ``eval_env=-1``.\n",
      " |      \n",
      " |      Returns\n",
      " |      -------\n",
      " |      model\n",
      " |          The model instance.\n",
      " |      \n",
      " |      Notes\n",
      " |      -----\n",
      " |      data must define __getitem__ with the keys in the formula terms\n",
      " |      args and kwargs are passed on to the model instantiation. E.g.,\n",
      " |      a numpy structured or rec array, a dictionary, or a pandas DataFrame.\n",
      " |  \n",
      " |  ----------------------------------------------------------------------\n",
      " |  Data descriptors inherited from statsmodels.base.model.Model:\n",
      " |  \n",
      " |  __dict__\n",
      " |      dictionary for instance variables (if defined)\n",
      " |  \n",
      " |  __weakref__\n",
      " |      list of weak references to the object (if defined)\n",
      " |  \n",
      " |  endog_names\n",
      " |      Names of endogenous variables.\n",
      "\n"
     ]
    }
   ],
   "source": [
    "help(statsmodels.tsa.holtwinters.ExponentialSmoothing)"
   ]
  },
  {
   "cell_type": "code",
   "execution_count": 88,
   "metadata": {
    "collapsed": true,
    "jupyter": {
     "outputs_hidden": true
    }
   },
   "outputs": [
    {
     "name": "stderr",
     "output_type": "stream",
     "text": [
      "C:\\ProgramData\\Anaconda3\\envs\\r-tutorial\\lib\\site-packages\\statsmodels\\tsa\\base\\tsa_model.py:162: ValueWarning: No frequency information was provided, so inferred frequency MS will be used.\n",
      "  % freq, ValueWarning)\n",
      "C:\\ProgramData\\Anaconda3\\envs\\r-tutorial\\lib\\site-packages\\statsmodels\\tsa\\holtwinters.py:731: RuntimeWarning: invalid value encountered in greater_equal\n",
      "  loc = initial_p >= ub\n"
     ]
    }
   ],
   "source": [
    "invest_model_fit = statsmodels.tsa.holtwinters.ExponentialSmoothing(endog = df[\"Investment (monthly step data)\"].dropna(),\n",
    "                                                                    seasonal_periods = 12,\n",
    "                                                                    trend = 'add',\n",
    "                                                                    damped = True).fit(use_boxcox = True)"
   ]
  },
  {
   "cell_type": "code",
   "execution_count": 90,
   "metadata": {},
   "outputs": [
    {
     "data": {
      "text/html": [
       "<div>\n",
       "<style scoped>\n",
       "    .dataframe tbody tr th:only-of-type {\n",
       "        vertical-align: middle;\n",
       "    }\n",
       "\n",
       "    .dataframe tbody tr th {\n",
       "        vertical-align: top;\n",
       "    }\n",
       "\n",
       "    .dataframe thead th {\n",
       "        text-align: right;\n",
       "    }\n",
       "</style>\n",
       "<table border=\"1\" class=\"dataframe\">\n",
       "  <thead>\n",
       "    <tr style=\"text-align: right;\">\n",
       "      <th></th>\n",
       "      <th>Investment fitted values (monthly step data)</th>\n",
       "    </tr>\n",
       "  </thead>\n",
       "  <tbody>\n",
       "    <tr>\n",
       "      <th>1950-02-01</th>\n",
       "      <td>4.393648e+10</td>\n",
       "    </tr>\n",
       "    <tr>\n",
       "      <th>1950-03-01</th>\n",
       "      <td>4.591476e+10</td>\n",
       "    </tr>\n",
       "    <tr>\n",
       "      <th>1950-04-01</th>\n",
       "      <td>4.639369e+10</td>\n",
       "    </tr>\n",
       "    <tr>\n",
       "      <th>1950-05-01</th>\n",
       "      <td>4.619230e+10</td>\n",
       "    </tr>\n",
       "    <tr>\n",
       "      <th>1950-06-01</th>\n",
       "      <td>4.949571e+10</td>\n",
       "    </tr>\n",
       "    <tr>\n",
       "      <th>...</th>\n",
       "      <td>...</td>\n",
       "    </tr>\n",
       "    <tr>\n",
       "      <th>2020-06-01</th>\n",
       "      <td>3.492933e+12</td>\n",
       "    </tr>\n",
       "    <tr>\n",
       "      <th>2020-07-01</th>\n",
       "      <td>3.394084e+12</td>\n",
       "    </tr>\n",
       "    <tr>\n",
       "      <th>2020-08-01</th>\n",
       "      <td>3.365342e+12</td>\n",
       "    </tr>\n",
       "    <tr>\n",
       "      <th>2020-09-01</th>\n",
       "      <td>3.567545e+12</td>\n",
       "    </tr>\n",
       "    <tr>\n",
       "      <th>2020-10-01</th>\n",
       "      <td>3.672447e+12</td>\n",
       "    </tr>\n",
       "  </tbody>\n",
       "</table>\n",
       "<p>849 rows × 1 columns</p>\n",
       "</div>"
      ],
      "text/plain": [
       "            Investment fitted values (monthly step data)\n",
       "1950-02-01                                  4.393648e+10\n",
       "1950-03-01                                  4.591476e+10\n",
       "1950-04-01                                  4.639369e+10\n",
       "1950-05-01                                  4.619230e+10\n",
       "1950-06-01                                  4.949571e+10\n",
       "...                                                  ...\n",
       "2020-06-01                                  3.492933e+12\n",
       "2020-07-01                                  3.394084e+12\n",
       "2020-08-01                                  3.365342e+12\n",
       "2020-09-01                                  3.567545e+12\n",
       "2020-10-01                                  3.672447e+12\n",
       "\n",
       "[849 rows x 1 columns]"
      ]
     },
     "execution_count": 90,
     "metadata": {},
     "output_type": "execute_result"
    }
   ],
   "source": [
    "df1 = pandas.DataFrame([])\n",
    "df1[\"Investment fitted values (monthly step data)\"] = invest_model_fit.fittedvalues\n",
    "df1"
   ]
  },
  {
   "cell_type": "code",
   "execution_count": 91,
   "metadata": {},
   "outputs": [
    {
     "data": {
      "text/plain": [
       "2020-11-01    3.715717e+12\n",
       "2020-12-01    3.746697e+12\n",
       "2021-01-01    3.775462e+12\n",
       "Freq: MS, dtype: float64"
      ]
     },
     "execution_count": 91,
     "metadata": {},
     "output_type": "execute_result"
    }
   ],
   "source": [
    "invest_model_fit.forecast(3)"
   ]
  },
  {
   "cell_type": "code",
   "execution_count": 92,
   "metadata": {},
   "outputs": [
    {
     "data": {
      "text/html": [
       "<div>\n",
       "<style scoped>\n",
       "    .dataframe tbody tr th:only-of-type {\n",
       "        vertical-align: middle;\n",
       "    }\n",
       "\n",
       "    .dataframe tbody tr th {\n",
       "        vertical-align: top;\n",
       "    }\n",
       "\n",
       "    .dataframe thead th {\n",
       "        text-align: right;\n",
       "    }\n",
       "</style>\n",
       "<table border=\"1\" class=\"dataframe\">\n",
       "  <thead>\n",
       "    <tr style=\"text-align: right;\">\n",
       "      <th></th>\n",
       "      <th>Investment fitted values (monthly step data)</th>\n",
       "      <th>Investment forecasts (monthly step data)</th>\n",
       "    </tr>\n",
       "  </thead>\n",
       "  <tbody>\n",
       "    <tr>\n",
       "      <th>1950-02-01</th>\n",
       "      <td>4.393648e+10</td>\n",
       "      <td>NaN</td>\n",
       "    </tr>\n",
       "    <tr>\n",
       "      <th>1950-03-01</th>\n",
       "      <td>4.591476e+10</td>\n",
       "      <td>NaN</td>\n",
       "    </tr>\n",
       "    <tr>\n",
       "      <th>1950-04-01</th>\n",
       "      <td>4.639369e+10</td>\n",
       "      <td>NaN</td>\n",
       "    </tr>\n",
       "    <tr>\n",
       "      <th>1950-05-01</th>\n",
       "      <td>4.619230e+10</td>\n",
       "      <td>NaN</td>\n",
       "    </tr>\n",
       "    <tr>\n",
       "      <th>1950-06-01</th>\n",
       "      <td>4.949571e+10</td>\n",
       "      <td>NaN</td>\n",
       "    </tr>\n",
       "    <tr>\n",
       "      <th>...</th>\n",
       "      <td>...</td>\n",
       "      <td>...</td>\n",
       "    </tr>\n",
       "    <tr>\n",
       "      <th>2020-06-01</th>\n",
       "      <td>3.492933e+12</td>\n",
       "      <td>NaN</td>\n",
       "    </tr>\n",
       "    <tr>\n",
       "      <th>2020-07-01</th>\n",
       "      <td>3.394084e+12</td>\n",
       "      <td>NaN</td>\n",
       "    </tr>\n",
       "    <tr>\n",
       "      <th>2020-08-01</th>\n",
       "      <td>3.365342e+12</td>\n",
       "      <td>NaN</td>\n",
       "    </tr>\n",
       "    <tr>\n",
       "      <th>2020-09-01</th>\n",
       "      <td>3.567545e+12</td>\n",
       "      <td>NaN</td>\n",
       "    </tr>\n",
       "    <tr>\n",
       "      <th>2020-10-01</th>\n",
       "      <td>3.672447e+12</td>\n",
       "      <td>NaN</td>\n",
       "    </tr>\n",
       "  </tbody>\n",
       "</table>\n",
       "<p>849 rows × 2 columns</p>\n",
       "</div>"
      ],
      "text/plain": [
       "            Investment fitted values (monthly step data)  \\\n",
       "1950-02-01                                  4.393648e+10   \n",
       "1950-03-01                                  4.591476e+10   \n",
       "1950-04-01                                  4.639369e+10   \n",
       "1950-05-01                                  4.619230e+10   \n",
       "1950-06-01                                  4.949571e+10   \n",
       "...                                                  ...   \n",
       "2020-06-01                                  3.492933e+12   \n",
       "2020-07-01                                  3.394084e+12   \n",
       "2020-08-01                                  3.365342e+12   \n",
       "2020-09-01                                  3.567545e+12   \n",
       "2020-10-01                                  3.672447e+12   \n",
       "\n",
       "            Investment forecasts (monthly step data)  \n",
       "1950-02-01                                       NaN  \n",
       "1950-03-01                                       NaN  \n",
       "1950-04-01                                       NaN  \n",
       "1950-05-01                                       NaN  \n",
       "1950-06-01                                       NaN  \n",
       "...                                              ...  \n",
       "2020-06-01                                       NaN  \n",
       "2020-07-01                                       NaN  \n",
       "2020-08-01                                       NaN  \n",
       "2020-09-01                                       NaN  \n",
       "2020-10-01                                       NaN  \n",
       "\n",
       "[849 rows x 2 columns]"
      ]
     },
     "execution_count": 92,
     "metadata": {},
     "output_type": "execute_result"
    }
   ],
   "source": [
    "df1[\"Investment forecasts (monthly step data)\"] = invest_model_fit.forecast(3)\n",
    "df1"
   ]
  },
  {
   "cell_type": "code",
   "execution_count": 93,
   "metadata": {},
   "outputs": [
    {
     "data": {
      "text/plain": [
       "nan"
      ]
     },
     "execution_count": 93,
     "metadata": {},
     "output_type": "execute_result"
    }
   ],
   "source": [
    "# Add nan to df 1:\n",
    "numpy.nan"
   ]
  },
  {
   "cell_type": "code",
   "execution_count": 94,
   "metadata": {},
   "outputs": [
    {
     "data": {
      "text/html": [
       "<div>\n",
       "<style scoped>\n",
       "    .dataframe tbody tr th:only-of-type {\n",
       "        vertical-align: middle;\n",
       "    }\n",
       "\n",
       "    .dataframe tbody tr th {\n",
       "        vertical-align: top;\n",
       "    }\n",
       "\n",
       "    .dataframe thead th {\n",
       "        text-align: right;\n",
       "    }\n",
       "</style>\n",
       "<table border=\"1\" class=\"dataframe\">\n",
       "  <thead>\n",
       "    <tr style=\"text-align: right;\">\n",
       "      <th></th>\n",
       "      <th>Investment fitted values (monthly step data)</th>\n",
       "      <th>Investment forecasts (monthly step data)</th>\n",
       "    </tr>\n",
       "  </thead>\n",
       "  <tbody>\n",
       "    <tr>\n",
       "      <th>1950-02-01</th>\n",
       "      <td>4.393648e+10</td>\n",
       "      <td>NaN</td>\n",
       "    </tr>\n",
       "    <tr>\n",
       "      <th>1950-03-01</th>\n",
       "      <td>4.591476e+10</td>\n",
       "      <td>NaN</td>\n",
       "    </tr>\n",
       "    <tr>\n",
       "      <th>1950-04-01</th>\n",
       "      <td>4.639369e+10</td>\n",
       "      <td>NaN</td>\n",
       "    </tr>\n",
       "    <tr>\n",
       "      <th>1950-05-01</th>\n",
       "      <td>4.619230e+10</td>\n",
       "      <td>NaN</td>\n",
       "    </tr>\n",
       "    <tr>\n",
       "      <th>1950-06-01</th>\n",
       "      <td>4.949571e+10</td>\n",
       "      <td>NaN</td>\n",
       "    </tr>\n",
       "    <tr>\n",
       "      <th>...</th>\n",
       "      <td>...</td>\n",
       "      <td>...</td>\n",
       "    </tr>\n",
       "    <tr>\n",
       "      <th>2020-07-01</th>\n",
       "      <td>3.394084e+12</td>\n",
       "      <td>NaN</td>\n",
       "    </tr>\n",
       "    <tr>\n",
       "      <th>2020-08-01</th>\n",
       "      <td>3.365342e+12</td>\n",
       "      <td>NaN</td>\n",
       "    </tr>\n",
       "    <tr>\n",
       "      <th>2020-09-01</th>\n",
       "      <td>3.567545e+12</td>\n",
       "      <td>NaN</td>\n",
       "    </tr>\n",
       "    <tr>\n",
       "      <th>2020-10-01</th>\n",
       "      <td>3.672447e+12</td>\n",
       "      <td>NaN</td>\n",
       "    </tr>\n",
       "    <tr>\n",
       "      <th>2020-11-01</th>\n",
       "      <td>NaN</td>\n",
       "      <td>NaN</td>\n",
       "    </tr>\n",
       "  </tbody>\n",
       "</table>\n",
       "<p>850 rows × 2 columns</p>\n",
       "</div>"
      ],
      "text/plain": [
       "            Investment fitted values (monthly step data)  \\\n",
       "1950-02-01                                  4.393648e+10   \n",
       "1950-03-01                                  4.591476e+10   \n",
       "1950-04-01                                  4.639369e+10   \n",
       "1950-05-01                                  4.619230e+10   \n",
       "1950-06-01                                  4.949571e+10   \n",
       "...                                                  ...   \n",
       "2020-07-01                                  3.394084e+12   \n",
       "2020-08-01                                  3.365342e+12   \n",
       "2020-09-01                                  3.567545e+12   \n",
       "2020-10-01                                  3.672447e+12   \n",
       "2020-11-01                                           NaN   \n",
       "\n",
       "            Investment forecasts (monthly step data)  \n",
       "1950-02-01                                       NaN  \n",
       "1950-03-01                                       NaN  \n",
       "1950-04-01                                       NaN  \n",
       "1950-05-01                                       NaN  \n",
       "1950-06-01                                       NaN  \n",
       "...                                              ...  \n",
       "2020-07-01                                       NaN  \n",
       "2020-08-01                                       NaN  \n",
       "2020-09-01                                       NaN  \n",
       "2020-10-01                                       NaN  \n",
       "2020-11-01                                       NaN  \n",
       "\n",
       "[850 rows x 2 columns]"
      ]
     },
     "execution_count": 94,
     "metadata": {},
     "output_type": "execute_result"
    }
   ],
   "source": [
    "# Add nan to df 2:\n",
    "df1 = df1.append(pandas.DataFrame([[numpy.nan, numpy.nan]],\n",
    "                            columns = df1.columns,\n",
    "                            index = [df1.index[-1] + dateutil.relativedelta.relativedelta(months =+ 1)]))\n",
    "df1"
   ]
  },
  {
   "cell_type": "code",
   "execution_count": 95,
   "metadata": {},
   "outputs": [
    {
     "data": {
      "text/html": [
       "<div>\n",
       "<style scoped>\n",
       "    .dataframe tbody tr th:only-of-type {\n",
       "        vertical-align: middle;\n",
       "    }\n",
       "\n",
       "    .dataframe tbody tr th {\n",
       "        vertical-align: top;\n",
       "    }\n",
       "\n",
       "    .dataframe thead th {\n",
       "        text-align: right;\n",
       "    }\n",
       "</style>\n",
       "<table border=\"1\" class=\"dataframe\">\n",
       "  <thead>\n",
       "    <tr style=\"text-align: right;\">\n",
       "      <th></th>\n",
       "      <th>Investment fitted values (monthly step data)</th>\n",
       "      <th>Investment forecasts (monthly step data)</th>\n",
       "    </tr>\n",
       "  </thead>\n",
       "  <tbody>\n",
       "    <tr>\n",
       "      <th>2020-12-01</th>\n",
       "      <td>NaN</td>\n",
       "      <td>NaN</td>\n",
       "    </tr>\n",
       "  </tbody>\n",
       "</table>\n",
       "</div>"
      ],
      "text/plain": [
       "            Investment fitted values (monthly step data)  \\\n",
       "2020-12-01                                           NaN   \n",
       "\n",
       "            Investment forecasts (monthly step data)  \n",
       "2020-12-01                                       NaN  "
      ]
     },
     "execution_count": 95,
     "metadata": {},
     "output_type": "execute_result"
    }
   ],
   "source": [
    "# Add nan to df 3:\n",
    "pandas.DataFrame([[numpy.nan, numpy.nan]],\n",
    "                 columns = df1.columns,\n",
    "                 index = [df1.index[-1] + dateutil.relativedelta.relativedelta(months =+ 1)])"
   ]
  },
  {
   "cell_type": "code",
   "execution_count": 96,
   "metadata": {},
   "outputs": [
    {
     "data": {
      "text/html": [
       "<div>\n",
       "<style scoped>\n",
       "    .dataframe tbody tr th:only-of-type {\n",
       "        vertical-align: middle;\n",
       "    }\n",
       "\n",
       "    .dataframe tbody tr th {\n",
       "        vertical-align: top;\n",
       "    }\n",
       "\n",
       "    .dataframe thead th {\n",
       "        text-align: right;\n",
       "    }\n",
       "</style>\n",
       "<table border=\"1\" class=\"dataframe\">\n",
       "  <thead>\n",
       "    <tr style=\"text-align: right;\">\n",
       "      <th></th>\n",
       "      <th>Investment fitted values (monthly step data)</th>\n",
       "      <th>Investment forecasts (monthly step data)</th>\n",
       "    </tr>\n",
       "  </thead>\n",
       "  <tbody>\n",
       "    <tr>\n",
       "      <th>1950-02-01</th>\n",
       "      <td>4.393648e+10</td>\n",
       "      <td>NaN</td>\n",
       "    </tr>\n",
       "    <tr>\n",
       "      <th>1950-03-01</th>\n",
       "      <td>4.591476e+10</td>\n",
       "      <td>NaN</td>\n",
       "    </tr>\n",
       "    <tr>\n",
       "      <th>1950-04-01</th>\n",
       "      <td>4.639369e+10</td>\n",
       "      <td>NaN</td>\n",
       "    </tr>\n",
       "    <tr>\n",
       "      <th>1950-05-01</th>\n",
       "      <td>4.619230e+10</td>\n",
       "      <td>NaN</td>\n",
       "    </tr>\n",
       "    <tr>\n",
       "      <th>1950-06-01</th>\n",
       "      <td>4.949571e+10</td>\n",
       "      <td>NaN</td>\n",
       "    </tr>\n",
       "    <tr>\n",
       "      <th>...</th>\n",
       "      <td>...</td>\n",
       "      <td>...</td>\n",
       "    </tr>\n",
       "    <tr>\n",
       "      <th>2020-07-01</th>\n",
       "      <td>3.394084e+12</td>\n",
       "      <td>NaN</td>\n",
       "    </tr>\n",
       "    <tr>\n",
       "      <th>2020-08-01</th>\n",
       "      <td>3.365342e+12</td>\n",
       "      <td>NaN</td>\n",
       "    </tr>\n",
       "    <tr>\n",
       "      <th>2020-09-01</th>\n",
       "      <td>3.567545e+12</td>\n",
       "      <td>NaN</td>\n",
       "    </tr>\n",
       "    <tr>\n",
       "      <th>2020-10-01</th>\n",
       "      <td>3.672447e+12</td>\n",
       "      <td>NaN</td>\n",
       "    </tr>\n",
       "    <tr>\n",
       "      <th>2020-11-01</th>\n",
       "      <td>NaN</td>\n",
       "      <td>3.715717e+12</td>\n",
       "    </tr>\n",
       "  </tbody>\n",
       "</table>\n",
       "<p>850 rows × 2 columns</p>\n",
       "</div>"
      ],
      "text/plain": [
       "            Investment fitted values (monthly step data)  \\\n",
       "1950-02-01                                  4.393648e+10   \n",
       "1950-03-01                                  4.591476e+10   \n",
       "1950-04-01                                  4.639369e+10   \n",
       "1950-05-01                                  4.619230e+10   \n",
       "1950-06-01                                  4.949571e+10   \n",
       "...                                                  ...   \n",
       "2020-07-01                                  3.394084e+12   \n",
       "2020-08-01                                  3.365342e+12   \n",
       "2020-09-01                                  3.567545e+12   \n",
       "2020-10-01                                  3.672447e+12   \n",
       "2020-11-01                                           NaN   \n",
       "\n",
       "            Investment forecasts (monthly step data)  \n",
       "1950-02-01                                       NaN  \n",
       "1950-03-01                                       NaN  \n",
       "1950-04-01                                       NaN  \n",
       "1950-05-01                                       NaN  \n",
       "1950-06-01                                       NaN  \n",
       "...                                              ...  \n",
       "2020-07-01                                       NaN  \n",
       "2020-08-01                                       NaN  \n",
       "2020-09-01                                       NaN  \n",
       "2020-10-01                                       NaN  \n",
       "2020-11-01                              3.715717e+12  \n",
       "\n",
       "[850 rows x 2 columns]"
      ]
     },
     "execution_count": 96,
     "metadata": {},
     "output_type": "execute_result"
    }
   ],
   "source": [
    "df1[\"Investment forecasts (monthly step data)\"] = invest_model_fit.forecast(1)\n",
    "# df1[\"Investment fitted values' real errors (monthly step data)\"] = df1[\"Investment fitted values (monthly step data)\"] - df[\"Investment (monthly step data)\"]\n",
    "df1"
   ]
  },
  {
   "cell_type": "code",
   "execution_count": 97,
   "metadata": {},
   "outputs": [
    {
     "data": {
      "text/html": [
       "<div>\n",
       "<style scoped>\n",
       "    .dataframe tbody tr th:only-of-type {\n",
       "        vertical-align: middle;\n",
       "    }\n",
       "\n",
       "    .dataframe tbody tr th {\n",
       "        vertical-align: top;\n",
       "    }\n",
       "\n",
       "    .dataframe thead th {\n",
       "        text-align: right;\n",
       "    }\n",
       "</style>\n",
       "<table border=\"1\" class=\"dataframe\">\n",
       "  <thead>\n",
       "    <tr style=\"text-align: right;\">\n",
       "      <th></th>\n",
       "      <th>Investment fitted values (monthly step data)</th>\n",
       "      <th>Investment forecasts (monthly step data)</th>\n",
       "    </tr>\n",
       "  </thead>\n",
       "  <tbody>\n",
       "    <tr>\n",
       "      <th>1950-02-01</th>\n",
       "      <td>4.393648e+10</td>\n",
       "      <td>NaN</td>\n",
       "    </tr>\n",
       "    <tr>\n",
       "      <th>1950-03-01</th>\n",
       "      <td>4.591476e+10</td>\n",
       "      <td>NaN</td>\n",
       "    </tr>\n",
       "    <tr>\n",
       "      <th>1950-04-01</th>\n",
       "      <td>4.639369e+10</td>\n",
       "      <td>NaN</td>\n",
       "    </tr>\n",
       "    <tr>\n",
       "      <th>1950-05-01</th>\n",
       "      <td>4.619230e+10</td>\n",
       "      <td>NaN</td>\n",
       "    </tr>\n",
       "    <tr>\n",
       "      <th>1950-06-01</th>\n",
       "      <td>4.949571e+10</td>\n",
       "      <td>NaN</td>\n",
       "    </tr>\n",
       "    <tr>\n",
       "      <th>...</th>\n",
       "      <td>...</td>\n",
       "      <td>...</td>\n",
       "    </tr>\n",
       "    <tr>\n",
       "      <th>2020-09-01</th>\n",
       "      <td>3.567545e+12</td>\n",
       "      <td>NaN</td>\n",
       "    </tr>\n",
       "    <tr>\n",
       "      <th>2020-10-01</th>\n",
       "      <td>3.672447e+12</td>\n",
       "      <td>NaN</td>\n",
       "    </tr>\n",
       "    <tr>\n",
       "      <th>2020-11-01</th>\n",
       "      <td>NaN</td>\n",
       "      <td>3.715717e+12</td>\n",
       "    </tr>\n",
       "    <tr>\n",
       "      <th>2020-12-01</th>\n",
       "      <td>NaN</td>\n",
       "      <td>3.746697e+12</td>\n",
       "    </tr>\n",
       "    <tr>\n",
       "      <th>2021-01-01</th>\n",
       "      <td>NaN</td>\n",
       "      <td>3.775462e+12</td>\n",
       "    </tr>\n",
       "  </tbody>\n",
       "</table>\n",
       "<p>852 rows × 2 columns</p>\n",
       "</div>"
      ],
      "text/plain": [
       "            Investment fitted values (monthly step data)  \\\n",
       "1950-02-01                                  4.393648e+10   \n",
       "1950-03-01                                  4.591476e+10   \n",
       "1950-04-01                                  4.639369e+10   \n",
       "1950-05-01                                  4.619230e+10   \n",
       "1950-06-01                                  4.949571e+10   \n",
       "...                                                  ...   \n",
       "2020-09-01                                  3.567545e+12   \n",
       "2020-10-01                                  3.672447e+12   \n",
       "2020-11-01                                           NaN   \n",
       "2020-12-01                                           NaN   \n",
       "2021-01-01                                           NaN   \n",
       "\n",
       "            Investment forecasts (monthly step data)  \n",
       "1950-02-01                                       NaN  \n",
       "1950-03-01                                       NaN  \n",
       "1950-04-01                                       NaN  \n",
       "1950-05-01                                       NaN  \n",
       "1950-06-01                                       NaN  \n",
       "...                                              ...  \n",
       "2020-09-01                                       NaN  \n",
       "2020-10-01                                       NaN  \n",
       "2020-11-01                              3.715717e+12  \n",
       "2020-12-01                              3.746697e+12  \n",
       "2021-01-01                              3.775462e+12  \n",
       "\n",
       "[852 rows x 2 columns]"
      ]
     },
     "execution_count": 97,
     "metadata": {},
     "output_type": "execute_result"
    }
   ],
   "source": [
    "for i in range(2):\n",
    "    df1 = df1.append(pandas.DataFrame([[numpy.nan, numpy.nan]], columns = df1.columns,\n",
    "                                      index = [df1.index[-1] + dateutil.relativedelta.relativedelta(months =+ 1)]))\n",
    "df1[\"Investment forecasts (monthly step data)\"] = invest_model_fit.forecast(3) # Notice that it's 3 here but 2 in the range function above since we already appended df1 with 1 forecast.\n",
    "df1"
   ]
  },
  {
   "cell_type": "code",
   "execution_count": 98,
   "metadata": {},
   "outputs": [
    {
     "data": {
      "text/html": [
       "<div>\n",
       "<style scoped>\n",
       "    .dataframe tbody tr th:only-of-type {\n",
       "        vertical-align: middle;\n",
       "    }\n",
       "\n",
       "    .dataframe tbody tr th {\n",
       "        vertical-align: top;\n",
       "    }\n",
       "\n",
       "    .dataframe thead th {\n",
       "        text-align: right;\n",
       "    }\n",
       "</style>\n",
       "<table border=\"1\" class=\"dataframe\">\n",
       "  <thead>\n",
       "    <tr style=\"text-align: right;\">\n",
       "      <th></th>\n",
       "      <th>Mean</th>\n",
       "      <th>Mean of Absolute Values</th>\n",
       "      <th>Standard Deviation</th>\n",
       "      <th>Median</th>\n",
       "      <th>Skewness</th>\n",
       "      <th>Kurtosis</th>\n",
       "      <th>Single Period Growth Geometric Average</th>\n",
       "    </tr>\n",
       "  </thead>\n",
       "  <tbody>\n",
       "    <tr>\n",
       "      <th>Investment fitted values (monthly step data)</th>\n",
       "      <td>NaN</td>\n",
       "      <td>NaN</td>\n",
       "      <td>NaN</td>\n",
       "      <td>NaN</td>\n",
       "      <td>NaN</td>\n",
       "      <td>NaN</td>\n",
       "      <td>NaN</td>\n",
       "    </tr>\n",
       "    <tr>\n",
       "      <th>Investment forecasts (monthly step data)</th>\n",
       "      <td>NaN</td>\n",
       "      <td>NaN</td>\n",
       "      <td>NaN</td>\n",
       "      <td>NaN</td>\n",
       "      <td>NaN</td>\n",
       "      <td>NaN</td>\n",
       "      <td>NaN</td>\n",
       "    </tr>\n",
       "  </tbody>\n",
       "</table>\n",
       "</div>"
      ],
      "text/plain": [
       "                                             Mean Mean of Absolute Values  \\\n",
       "Investment fitted values (monthly step data)  NaN                     NaN   \n",
       "Investment forecasts (monthly step data)      NaN                     NaN   \n",
       "\n",
       "                                             Standard Deviation Median  \\\n",
       "Investment fitted values (monthly step data)                NaN    NaN   \n",
       "Investment forecasts (monthly step data)                    NaN    NaN   \n",
       "\n",
       "                                             Skewness Kurtosis  \\\n",
       "Investment fitted values (monthly step data)      NaN      NaN   \n",
       "Investment forecasts (monthly step data)          NaN      NaN   \n",
       "\n",
       "                                             Single Period Growth Geometric Average  \n",
       "Investment fitted values (monthly step data)                                    NaN  \n",
       "Investment forecasts (monthly step data)                                        NaN  "
      ]
     },
     "execution_count": 98,
     "metadata": {},
     "output_type": "execute_result"
    }
   ],
   "source": [
    "Statistics_Table = pandas.DataFrame(columns = [\"Mean\", \"Mean of Absolute Values\",\n",
    "                                               \"Standard Deviation\",\n",
    "                                               \"Median\", \"Skewness\",\n",
    "                                               \"Kurtosis\",\n",
    "                                               \"Single Period Growth Geometric Average\"],\n",
    "                                    index = [c for c in df1.columns])\n",
    "Statistics_Table"
   ]
  },
  {
   "cell_type": "code",
   "execution_count": 99,
   "metadata": {},
   "outputs": [
    {
     "data": {
      "text/plain": [
       "Index(['Investment fitted values (monthly step data)', 'Investment forecasts (monthly step data)'], dtype='object')"
      ]
     },
     "execution_count": 99,
     "metadata": {},
     "output_type": "execute_result"
    }
   ],
   "source": [
    "df1.columns"
   ]
  },
  {
   "cell_type": "code",
   "execution_count": 100,
   "metadata": {},
   "outputs": [
    {
     "data": {
      "text/plain": [
       "'Investment fitted values (monthly step data)'"
      ]
     },
     "execution_count": 100,
     "metadata": {},
     "output_type": "execute_result"
    }
   ],
   "source": [
    "df1.columns[0]"
   ]
  },
  {
   "cell_type": "code",
   "execution_count": 101,
   "metadata": {},
   "outputs": [
    {
     "data": {
      "text/plain": [
       "1950-02-01    4.393648e+10\n",
       "1950-03-01    4.591476e+10\n",
       "1950-04-01    4.639369e+10\n",
       "1950-05-01    4.619230e+10\n",
       "1950-06-01    4.949571e+10\n",
       "                  ...     \n",
       "2020-09-01    3.567545e+12\n",
       "2020-10-01    3.672447e+12\n",
       "2020-11-01             NaN\n",
       "2020-12-01             NaN\n",
       "2021-01-01             NaN\n",
       "Name: Investment fitted values (monthly step data), Length: 852, dtype: float64"
      ]
     },
     "execution_count": 101,
     "metadata": {},
     "output_type": "execute_result"
    }
   ],
   "source": [
    "df1[df1.columns[0]]"
   ]
  },
  {
   "cell_type": "code",
   "execution_count": 102,
   "metadata": {},
   "outputs": [
    {
     "data": {
      "text/plain": [
       "1950-02-01    4.393648e+10\n",
       "1950-03-01    4.591476e+10\n",
       "1950-04-01    4.639369e+10\n",
       "1950-05-01    4.619230e+10\n",
       "1950-06-01    4.949571e+10\n",
       "                  ...     \n",
       "2020-06-01    3.492933e+12\n",
       "2020-07-01    3.394084e+12\n",
       "2020-08-01    3.365342e+12\n",
       "2020-09-01    3.567545e+12\n",
       "2020-10-01    3.672447e+12\n",
       "Name: Investment fitted values (monthly step data), Length: 849, dtype: float64"
      ]
     },
     "execution_count": 102,
     "metadata": {},
     "output_type": "execute_result"
    }
   ],
   "source": [
    "df1[str(df1.columns[0])].dropna()"
   ]
  },
  {
   "cell_type": "code",
   "execution_count": 103,
   "metadata": {},
   "outputs": [
    {
     "data": {
      "text/plain": [
       "1127912784145.3772"
      ]
     },
     "execution_count": 103,
     "metadata": {},
     "output_type": "execute_result"
    }
   ],
   "source": [
    "numpy.mean(df1[str(str(df1.columns[0]))].dropna())"
   ]
  },
  {
   "cell_type": "code",
   "execution_count": 104,
   "metadata": {},
   "outputs": [],
   "source": [
    "Statistics_Table[\"Mean\"][str(df1.columns[0])] = numpy.mean(df1[str(str(df1.columns[0]))].dropna())"
   ]
  },
  {
   "cell_type": "code",
   "execution_count": 105,
   "metadata": {},
   "outputs": [
    {
     "data": {
      "text/html": [
       "<div>\n",
       "<style scoped>\n",
       "    .dataframe tbody tr th:only-of-type {\n",
       "        vertical-align: middle;\n",
       "    }\n",
       "\n",
       "    .dataframe tbody tr th {\n",
       "        vertical-align: top;\n",
       "    }\n",
       "\n",
       "    .dataframe thead th {\n",
       "        text-align: right;\n",
       "    }\n",
       "</style>\n",
       "<table border=\"1\" class=\"dataframe\">\n",
       "  <thead>\n",
       "    <tr style=\"text-align: right;\">\n",
       "      <th></th>\n",
       "      <th>Mean</th>\n",
       "      <th>Mean of Absolute Values</th>\n",
       "      <th>Standard Deviation</th>\n",
       "      <th>Median</th>\n",
       "      <th>Skewness</th>\n",
       "      <th>Kurtosis</th>\n",
       "      <th>Single Period Growth Geometric Average</th>\n",
       "    </tr>\n",
       "  </thead>\n",
       "  <tbody>\n",
       "    <tr>\n",
       "      <th>Investment fitted values (monthly step data)</th>\n",
       "      <td>1.12791e+12</td>\n",
       "      <td>NaN</td>\n",
       "      <td>NaN</td>\n",
       "      <td>NaN</td>\n",
       "      <td>NaN</td>\n",
       "      <td>NaN</td>\n",
       "      <td>NaN</td>\n",
       "    </tr>\n",
       "    <tr>\n",
       "      <th>Investment forecasts (monthly step data)</th>\n",
       "      <td>NaN</td>\n",
       "      <td>NaN</td>\n",
       "      <td>NaN</td>\n",
       "      <td>NaN</td>\n",
       "      <td>NaN</td>\n",
       "      <td>NaN</td>\n",
       "      <td>NaN</td>\n",
       "    </tr>\n",
       "  </tbody>\n",
       "</table>\n",
       "</div>"
      ],
      "text/plain": [
       "                                                     Mean  \\\n",
       "Investment fitted values (monthly step data)  1.12791e+12   \n",
       "Investment forecasts (monthly step data)              NaN   \n",
       "\n",
       "                                             Mean of Absolute Values  \\\n",
       "Investment fitted values (monthly step data)                     NaN   \n",
       "Investment forecasts (monthly step data)                         NaN   \n",
       "\n",
       "                                             Standard Deviation Median  \\\n",
       "Investment fitted values (monthly step data)                NaN    NaN   \n",
       "Investment forecasts (monthly step data)                    NaN    NaN   \n",
       "\n",
       "                                             Skewness Kurtosis  \\\n",
       "Investment fitted values (monthly step data)      NaN      NaN   \n",
       "Investment forecasts (monthly step data)          NaN      NaN   \n",
       "\n",
       "                                             Single Period Growth Geometric Average  \n",
       "Investment fitted values (monthly step data)                                    NaN  \n",
       "Investment forecasts (monthly step data)                                        NaN  "
      ]
     },
     "execution_count": 105,
     "metadata": {},
     "output_type": "execute_result"
    }
   ],
   "source": [
    "Statistics_Table"
   ]
  },
  {
   "cell_type": "code",
   "execution_count": 106,
   "metadata": {},
   "outputs": [
    {
     "data": {
      "text/html": [
       "<div>\n",
       "<style scoped>\n",
       "    .dataframe tbody tr th:only-of-type {\n",
       "        vertical-align: middle;\n",
       "    }\n",
       "\n",
       "    .dataframe tbody tr th {\n",
       "        vertical-align: top;\n",
       "    }\n",
       "\n",
       "    .dataframe thead th {\n",
       "        text-align: right;\n",
       "    }\n",
       "</style>\n",
       "<table border=\"1\" class=\"dataframe\">\n",
       "  <thead>\n",
       "    <tr style=\"text-align: right;\">\n",
       "      <th></th>\n",
       "      <th>Mean</th>\n",
       "      <th>Mean of Absolute Values</th>\n",
       "      <th>Standard Deviation</th>\n",
       "      <th>Median</th>\n",
       "      <th>Skewness</th>\n",
       "      <th>Kurtosis</th>\n",
       "      <th>Single Period Growth Geometric Average</th>\n",
       "    </tr>\n",
       "  </thead>\n",
       "  <tbody>\n",
       "    <tr>\n",
       "      <th>Investment fitted values (monthly step data)</th>\n",
       "      <td>1.12791e+12</td>\n",
       "      <td>1.12791e+12</td>\n",
       "      <td>NaN</td>\n",
       "      <td>NaN</td>\n",
       "      <td>NaN</td>\n",
       "      <td>NaN</td>\n",
       "      <td>NaN</td>\n",
       "    </tr>\n",
       "    <tr>\n",
       "      <th>Investment forecasts (monthly step data)</th>\n",
       "      <td>NaN</td>\n",
       "      <td>NaN</td>\n",
       "      <td>NaN</td>\n",
       "      <td>NaN</td>\n",
       "      <td>NaN</td>\n",
       "      <td>NaN</td>\n",
       "      <td>NaN</td>\n",
       "    </tr>\n",
       "  </tbody>\n",
       "</table>\n",
       "</div>"
      ],
      "text/plain": [
       "                                                     Mean  \\\n",
       "Investment fitted values (monthly step data)  1.12791e+12   \n",
       "Investment forecasts (monthly step data)              NaN   \n",
       "\n",
       "                                             Mean of Absolute Values  \\\n",
       "Investment fitted values (monthly step data)             1.12791e+12   \n",
       "Investment forecasts (monthly step data)                         NaN   \n",
       "\n",
       "                                             Standard Deviation Median  \\\n",
       "Investment fitted values (monthly step data)                NaN    NaN   \n",
       "Investment forecasts (monthly step data)                    NaN    NaN   \n",
       "\n",
       "                                             Skewness Kurtosis  \\\n",
       "Investment fitted values (monthly step data)      NaN      NaN   \n",
       "Investment forecasts (monthly step data)          NaN      NaN   \n",
       "\n",
       "                                             Single Period Growth Geometric Average  \n",
       "Investment fitted values (monthly step data)                                    NaN  \n",
       "Investment forecasts (monthly step data)                                        NaN  "
      ]
     },
     "execution_count": 106,
     "metadata": {},
     "output_type": "execute_result"
    }
   ],
   "source": [
    "Statistics_Table[\"Mean of Absolute Values\"][str(df1.columns[0])] = numpy.mean(abs(df1[str(str(df1.columns[0]))].dropna()))\n",
    "Statistics_Table"
   ]
  },
  {
   "cell_type": "code",
   "execution_count": 107,
   "metadata": {},
   "outputs": [],
   "source": [
    "for c in df1.columns:\n",
    "    Statistics_Table[\"Mean\"][str(c)] = numpy.mean(df1[str(c)].dropna())\n",
    "    Statistics_Table[\"Mean of Absolute Values\"][str(c)] = numpy.mean(abs(df1[str(c)].dropna()))\n",
    "    Statistics_Table[\"Standard Deviation\"][str(c)] = numpy.std(df1[str(c)].dropna())\n",
    "    Statistics_Table[\"Median\"][str(c)] = numpy.median(df1[str(c)].dropna())\n",
    "    Statistics_Table[\"Skewness\"][str(c)] = scipy.stats.skew(df1[str(c)].dropna())\n",
    "    Statistics_Table[\"Kurtosis\"][str(c)] = scipy.stats.kurtosis(df1[str(c)].dropna())\n",
    "\n",
    "#     if len(df1[str(c)].dropna()) != 1 or df1[str(c)].dropna()[0] != 0: # This if statement is needed in case we end up asking for the computation of a value divided by 0.\n",
    "#         Statistics_Table[\"Single Period Growth Geometric Average\"][str(c)] = Single_period_Geometric_Growth(df1[str(c)].dropna())"
   ]
  },
  {
   "cell_type": "code",
   "execution_count": 108,
   "metadata": {},
   "outputs": [
    {
     "data": {
      "text/html": [
       "<div>\n",
       "<style scoped>\n",
       "    .dataframe tbody tr th:only-of-type {\n",
       "        vertical-align: middle;\n",
       "    }\n",
       "\n",
       "    .dataframe tbody tr th {\n",
       "        vertical-align: top;\n",
       "    }\n",
       "\n",
       "    .dataframe thead th {\n",
       "        text-align: right;\n",
       "    }\n",
       "</style>\n",
       "<table border=\"1\" class=\"dataframe\">\n",
       "  <thead>\n",
       "    <tr style=\"text-align: right;\">\n",
       "      <th></th>\n",
       "      <th>Mean</th>\n",
       "      <th>Mean of Absolute Values</th>\n",
       "      <th>Standard Deviation</th>\n",
       "      <th>Median</th>\n",
       "      <th>Skewness</th>\n",
       "      <th>Kurtosis</th>\n",
       "      <th>Single Period Growth Geometric Average</th>\n",
       "    </tr>\n",
       "  </thead>\n",
       "  <tbody>\n",
       "    <tr>\n",
       "      <th>Investment fitted values (monthly step data)</th>\n",
       "      <td>1.12791e+12</td>\n",
       "      <td>1.12791e+12</td>\n",
       "      <td>1.09447e+12</td>\n",
       "      <td>8.05725e+11</td>\n",
       "      <td>0.791169</td>\n",
       "      <td>-0.640657</td>\n",
       "      <td>NaN</td>\n",
       "    </tr>\n",
       "    <tr>\n",
       "      <th>Investment forecasts (monthly step data)</th>\n",
       "      <td>3.74596e+12</td>\n",
       "      <td>3.74596e+12</td>\n",
       "      <td>2.43966e+10</td>\n",
       "      <td>3.7467e+12</td>\n",
       "      <td>-0.0453627</td>\n",
       "      <td>-1.5</td>\n",
       "      <td>NaN</td>\n",
       "    </tr>\n",
       "  </tbody>\n",
       "</table>\n",
       "</div>"
      ],
      "text/plain": [
       "                                                     Mean  \\\n",
       "Investment fitted values (monthly step data)  1.12791e+12   \n",
       "Investment forecasts (monthly step data)      3.74596e+12   \n",
       "\n",
       "                                             Mean of Absolute Values  \\\n",
       "Investment fitted values (monthly step data)             1.12791e+12   \n",
       "Investment forecasts (monthly step data)                 3.74596e+12   \n",
       "\n",
       "                                             Standard Deviation       Median  \\\n",
       "Investment fitted values (monthly step data)        1.09447e+12  8.05725e+11   \n",
       "Investment forecasts (monthly step data)            2.43966e+10   3.7467e+12   \n",
       "\n",
       "                                               Skewness  Kurtosis  \\\n",
       "Investment fitted values (monthly step data)   0.791169 -0.640657   \n",
       "Investment forecasts (monthly step data)     -0.0453627      -1.5   \n",
       "\n",
       "                                             Single Period Growth Geometric Average  \n",
       "Investment fitted values (monthly step data)                                    NaN  \n",
       "Investment forecasts (monthly step data)                                        NaN  "
      ]
     },
     "execution_count": 108,
     "metadata": {},
     "output_type": "execute_result"
    }
   ],
   "source": [
    "Statistics_Table"
   ]
  },
  {
   "cell_type": "code",
   "execution_count": 109,
   "metadata": {},
   "outputs": [],
   "source": [
    "def Statistics_Table(dataset1, dataset2 = \"\"):\n",
    "    \n",
    "    Statistics_Table_Columns = list(dataset1.columns)\n",
    "    \n",
    "    if str(dataset2) != \"\":\n",
    "        [Statistics_Table_Columns.append(str(i)) for i in dataset2.columns]\n",
    "    \n",
    "    Statistics_Table = pandas.DataFrame(columns = [\"Mean\", \"Mean of Absolute Values\",\n",
    "                                                   \"Standard Deviation\",\n",
    "                                                   \"Median\", \"Skewness\",\n",
    "                                                   \"Kurtosis\",\n",
    "                                                   \"Single Period Growth Geometric Average\"],\n",
    "                                        index = [c for c in Statistics_Table_Columns])\n",
    "    \n",
    "    def Statistics_Table_function(data):\n",
    "        for c in data.columns:\n",
    "            Statistics_Table[\"Mean\"][str(c)] = numpy.mean(data[str(c)].dropna())\n",
    "            Statistics_Table[\"Mean of Absolute Values\"][str(c)] = numpy.mean(abs(data[str(c)].dropna()))\n",
    "            Statistics_Table[\"Standard Deviation\"][str(c)] = numpy.std(data[str(c)].dropna())\n",
    "            Statistics_Table[\"Median\"][str(c)] = numpy.median(data[str(c)].dropna())\n",
    "            Statistics_Table[\"Skewness\"][str(c)] = scipy.stats.skew(data[str(c)].dropna())\n",
    "            Statistics_Table[\"Kurtosis\"][str(c)] = scipy.stats.kurtosis(data[str(c)].dropna())\n",
    "            \n",
    "#             if len(data[str(c)].dropna()) != 1 or data[str(c)].dropna()[0] != 0: # This if statement is needed in case we end up asking for the computation of a value divided by 0.\n",
    "#                 Statistics_Table[\"Single Period Growth Geometric Average\"][str(c)] = Single_period_Geometric_Growth(data[str(c)].dropna())\n",
    "    \n",
    "    Statistics_Table_function(dataset1)\n",
    "    \n",
    "    if str(dataset2) != \"\":\n",
    "        Statistics_Table_function(dataset2)\n",
    "    \n",
    "    return Statistics_Table"
   ]
  },
  {
   "cell_type": "code",
   "execution_count": 110,
   "metadata": {},
   "outputs": [
    {
     "data": {
      "text/html": [
       "<div>\n",
       "<style scoped>\n",
       "    .dataframe tbody tr th:only-of-type {\n",
       "        vertical-align: middle;\n",
       "    }\n",
       "\n",
       "    .dataframe tbody tr th {\n",
       "        vertical-align: top;\n",
       "    }\n",
       "\n",
       "    .dataframe thead th {\n",
       "        text-align: right;\n",
       "    }\n",
       "</style>\n",
       "<table border=\"1\" class=\"dataframe\">\n",
       "  <thead>\n",
       "    <tr style=\"text-align: right;\">\n",
       "      <th></th>\n",
       "      <th>Mean</th>\n",
       "      <th>Mean of Absolute Values</th>\n",
       "      <th>Standard Deviation</th>\n",
       "      <th>Median</th>\n",
       "      <th>Skewness</th>\n",
       "      <th>Kurtosis</th>\n",
       "      <th>Single Period Growth Geometric Average</th>\n",
       "    </tr>\n",
       "  </thead>\n",
       "  <tbody>\n",
       "    <tr>\n",
       "      <th>Investment fitted values (monthly step data)</th>\n",
       "      <td>1.12791e+12</td>\n",
       "      <td>1.12791e+12</td>\n",
       "      <td>1.09447e+12</td>\n",
       "      <td>8.05725e+11</td>\n",
       "      <td>0.791169</td>\n",
       "      <td>-0.640657</td>\n",
       "      <td>NaN</td>\n",
       "    </tr>\n",
       "    <tr>\n",
       "      <th>Investment forecasts (monthly step data)</th>\n",
       "      <td>3.74596e+12</td>\n",
       "      <td>3.74596e+12</td>\n",
       "      <td>2.43966e+10</td>\n",
       "      <td>3.7467e+12</td>\n",
       "      <td>-0.0453627</td>\n",
       "      <td>-1.5</td>\n",
       "      <td>NaN</td>\n",
       "    </tr>\n",
       "  </tbody>\n",
       "</table>\n",
       "</div>"
      ],
      "text/plain": [
       "                                                     Mean  \\\n",
       "Investment fitted values (monthly step data)  1.12791e+12   \n",
       "Investment forecasts (monthly step data)      3.74596e+12   \n",
       "\n",
       "                                             Mean of Absolute Values  \\\n",
       "Investment fitted values (monthly step data)             1.12791e+12   \n",
       "Investment forecasts (monthly step data)                 3.74596e+12   \n",
       "\n",
       "                                             Standard Deviation       Median  \\\n",
       "Investment fitted values (monthly step data)        1.09447e+12  8.05725e+11   \n",
       "Investment forecasts (monthly step data)            2.43966e+10   3.7467e+12   \n",
       "\n",
       "                                               Skewness  Kurtosis  \\\n",
       "Investment fitted values (monthly step data)   0.791169 -0.640657   \n",
       "Investment forecasts (monthly step data)     -0.0453627      -1.5   \n",
       "\n",
       "                                             Single Period Growth Geometric Average  \n",
       "Investment fitted values (monthly step data)                                    NaN  \n",
       "Investment forecasts (monthly step data)                                        NaN  "
      ]
     },
     "execution_count": 110,
     "metadata": {},
     "output_type": "execute_result"
    }
   ],
   "source": [
    "Statistics_Table(dataset1 = df1)"
   ]
  },
  {
   "cell_type": "markdown",
   "metadata": {},
   "source": [
    "$$ \\\\ $$\n",
    "## Part 6: The [Holt-Winters (HW) method](https://medium.com/datadriveninvestor/how-to-build-exponential-smoothing-models-using-python-simple-exponential-smoothing-holt-and-da371189e1a1) for Negative Data"
   ]
  },
  {
   "cell_type": "code",
   "execution_count": 112,
   "metadata": {},
   "outputs": [
    {
     "name": "stderr",
     "output_type": "stream",
     "text": [
      "C:\\ProgramData\\Anaconda3\\envs\\r-tutorial\\lib\\site-packages\\statsmodels\\tsa\\base\\tsa_model.py:162: ValueWarning: No frequency information was provided, so inferred frequency MS will be used.\n",
      "  % freq, ValueWarning)\n"
     ]
    },
    {
     "ename": "ValueError",
     "evalue": "Data must be positive.",
     "output_type": "error",
     "traceback": [
      "\u001b[1;31m---------------------------------------------------------------------------\u001b[0m",
      "\u001b[1;31mValueError\u001b[0m                                Traceback (most recent call last)",
      "\u001b[1;32m<ipython-input-112-dabc1299c844>\u001b[0m in \u001b[0;36m<module>\u001b[1;34m\u001b[0m\n\u001b[0;32m      2\u001b[0m                                                              \u001b[0mseasonal_periods\u001b[0m \u001b[1;33m=\u001b[0m \u001b[1;36m12\u001b[0m\u001b[1;33m,\u001b[0m\u001b[1;33m\u001b[0m\u001b[1;33m\u001b[0m\u001b[0m\n\u001b[0;32m      3\u001b[0m                                                              \u001b[0mtrend\u001b[0m \u001b[1;33m=\u001b[0m \u001b[1;34m'add'\u001b[0m\u001b[1;33m,\u001b[0m\u001b[1;33m\u001b[0m\u001b[1;33m\u001b[0m\u001b[0m\n\u001b[1;32m----> 4\u001b[1;33m                                                              damped = True).fit(use_boxcox = True)\n\u001b[0m",
      "\u001b[1;32mC:\\ProgramData\\Anaconda3\\envs\\r-tutorial\\lib\\site-packages\\statsmodels\\tsa\\holtwinters.py\u001b[0m in \u001b[0;36mfit\u001b[1;34m(self, smoothing_level, smoothing_slope, smoothing_seasonal, damping_slope, optimized, use_boxcox, remove_bias, use_basinhopping, start_params, initial_level, initial_slope, use_brute)\u001b[0m\n\u001b[0;32m    639\u001b[0m             \u001b[0my\u001b[0m \u001b[1;33m=\u001b[0m \u001b[0mboxcox\u001b[0m\u001b[1;33m(\u001b[0m\u001b[0mdata\u001b[0m\u001b[1;33m,\u001b[0m \u001b[0mlamda\u001b[0m\u001b[1;33m)\u001b[0m\u001b[1;33m\u001b[0m\u001b[1;33m\u001b[0m\u001b[0m\n\u001b[0;32m    640\u001b[0m         \u001b[1;32melif\u001b[0m \u001b[0muse_boxcox\u001b[0m\u001b[1;33m:\u001b[0m\u001b[1;33m\u001b[0m\u001b[1;33m\u001b[0m\u001b[0m\n\u001b[1;32m--> 641\u001b[1;33m             \u001b[0my\u001b[0m\u001b[1;33m,\u001b[0m \u001b[0mlamda\u001b[0m \u001b[1;33m=\u001b[0m \u001b[0mboxcox\u001b[0m\u001b[1;33m(\u001b[0m\u001b[0mdata\u001b[0m\u001b[1;33m)\u001b[0m\u001b[1;33m\u001b[0m\u001b[1;33m\u001b[0m\u001b[0m\n\u001b[0m\u001b[0;32m    642\u001b[0m         \u001b[1;32melse\u001b[0m\u001b[1;33m:\u001b[0m\u001b[1;33m\u001b[0m\u001b[1;33m\u001b[0m\u001b[0m\n\u001b[0;32m    643\u001b[0m             \u001b[0mlamda\u001b[0m \u001b[1;33m=\u001b[0m \u001b[1;32mNone\u001b[0m\u001b[1;33m\u001b[0m\u001b[1;33m\u001b[0m\u001b[0m\n",
      "\u001b[1;32mC:\\ProgramData\\Anaconda3\\envs\\r-tutorial\\lib\\site-packages\\scipy\\stats\\morestats.py\u001b[0m in \u001b[0;36mboxcox\u001b[1;34m(x, lmbda, alpha)\u001b[0m\n\u001b[0;32m   1043\u001b[0m \u001b[1;33m\u001b[0m\u001b[0m\n\u001b[0;32m   1044\u001b[0m     \u001b[1;32mif\u001b[0m \u001b[0many\u001b[0m\u001b[1;33m(\u001b[0m\u001b[0mx\u001b[0m \u001b[1;33m<=\u001b[0m \u001b[1;36m0\u001b[0m\u001b[1;33m)\u001b[0m\u001b[1;33m:\u001b[0m\u001b[1;33m\u001b[0m\u001b[1;33m\u001b[0m\u001b[0m\n\u001b[1;32m-> 1045\u001b[1;33m         \u001b[1;32mraise\u001b[0m \u001b[0mValueError\u001b[0m\u001b[1;33m(\u001b[0m\u001b[1;34m\"Data must be positive.\"\u001b[0m\u001b[1;33m)\u001b[0m\u001b[1;33m\u001b[0m\u001b[1;33m\u001b[0m\u001b[0m\n\u001b[0m\u001b[0;32m   1046\u001b[0m \u001b[1;33m\u001b[0m\u001b[0m\n\u001b[0;32m   1047\u001b[0m     \u001b[1;32mif\u001b[0m \u001b[0mlmbda\u001b[0m \u001b[1;32mis\u001b[0m \u001b[1;32mnot\u001b[0m \u001b[1;32mNone\u001b[0m\u001b[1;33m:\u001b[0m  \u001b[1;31m# single transformation\u001b[0m\u001b[1;33m\u001b[0m\u001b[1;33m\u001b[0m\u001b[0m\n",
      "\u001b[1;31mValueError\u001b[0m: Data must be positive."
     ]
    }
   ],
   "source": [
    "model_fit = statsmodels.tsa.holtwinters.ExponentialSmoothing(df[\"Net Exports (monthly step data)\"].dropna(),\n",
    "                                                             seasonal_periods = 12,\n",
    "                                                             trend = 'add',\n",
    "                                                             damped = True).fit(use_boxcox = True)"
   ]
  },
  {
   "cell_type": "code",
   "execution_count": 113,
   "metadata": {},
   "outputs": [],
   "source": [
    "# First: we need to note that the Holt-Winters model only works for positive datasets.\n",
    "# the following is to account for negative values:\n",
    "_data_min_p1 = numpy.absolute(pandas.DataFrame.min(df[\"Net Exports (monthly step data)\"])) + 1\n",
    "_data = (_data_min_p1 + df[\"Net Exports (monthly step data)\"].copy()).dropna()\n",
    "\n",
    "df1[\"Net Exports (monthly step data) positive\"] = _data"
   ]
  },
  {
   "cell_type": "code",
   "execution_count": 114,
   "metadata": {},
   "outputs": [
    {
     "data": {
      "text/html": [
       "<div>\n",
       "<style scoped>\n",
       "    .dataframe tbody tr th:only-of-type {\n",
       "        vertical-align: middle;\n",
       "    }\n",
       "\n",
       "    .dataframe tbody tr th {\n",
       "        vertical-align: top;\n",
       "    }\n",
       "\n",
       "    .dataframe thead th {\n",
       "        text-align: right;\n",
       "    }\n",
       "</style>\n",
       "<table border=\"1\" class=\"dataframe\">\n",
       "  <thead>\n",
       "    <tr style=\"text-align: right;\">\n",
       "      <th></th>\n",
       "      <th>Investment fitted values (monthly step data)</th>\n",
       "      <th>Investment forecasts (monthly step data)</th>\n",
       "      <th>Investment fitted values' real errors (monthly step data)</th>\n",
       "      <th>Net Exports (monthly step data) positive</th>\n",
       "    </tr>\n",
       "  </thead>\n",
       "  <tbody>\n",
       "    <tr>\n",
       "      <th>1950-02-01</th>\n",
       "      <td>4.393648e+10</td>\n",
       "      <td>NaN</td>\n",
       "      <td>-7.885217e+08</td>\n",
       "      <td>8.078330e+11</td>\n",
       "    </tr>\n",
       "    <tr>\n",
       "      <th>1950-03-01</th>\n",
       "      <td>4.591476e+10</td>\n",
       "      <td>NaN</td>\n",
       "      <td>1.189762e+09</td>\n",
       "      <td>8.078330e+11</td>\n",
       "    </tr>\n",
       "    <tr>\n",
       "      <th>1950-04-01</th>\n",
       "      <td>4.639369e+10</td>\n",
       "      <td>NaN</td>\n",
       "      <td>1.668688e+09</td>\n",
       "      <td>8.078330e+11</td>\n",
       "    </tr>\n",
       "    <tr>\n",
       "      <th>1950-05-01</th>\n",
       "      <td>4.619230e+10</td>\n",
       "      <td>NaN</td>\n",
       "      <td>-3.265699e+09</td>\n",
       "      <td>8.072730e+11</td>\n",
       "    </tr>\n",
       "    <tr>\n",
       "      <th>1950-06-01</th>\n",
       "      <td>4.949571e+10</td>\n",
       "      <td>NaN</td>\n",
       "      <td>3.771491e+07</td>\n",
       "      <td>8.072730e+11</td>\n",
       "    </tr>\n",
       "    <tr>\n",
       "      <th>...</th>\n",
       "      <td>...</td>\n",
       "      <td>...</td>\n",
       "      <td>...</td>\n",
       "      <td>...</td>\n",
       "    </tr>\n",
       "    <tr>\n",
       "      <th>2020-09-01</th>\n",
       "      <td>3.567545e+12</td>\n",
       "      <td>NaN</td>\n",
       "      <td>-1.215020e+11</td>\n",
       "      <td>6.950600e+10</td>\n",
       "    </tr>\n",
       "    <tr>\n",
       "      <th>2020-10-01</th>\n",
       "      <td>3.672447e+12</td>\n",
       "      <td>NaN</td>\n",
       "      <td>-1.660023e+10</td>\n",
       "      <td>6.950600e+10</td>\n",
       "    </tr>\n",
       "    <tr>\n",
       "      <th>2020-11-01</th>\n",
       "      <td>NaN</td>\n",
       "      <td>3.715717e+12</td>\n",
       "      <td>NaN</td>\n",
       "      <td>NaN</td>\n",
       "    </tr>\n",
       "    <tr>\n",
       "      <th>2020-12-01</th>\n",
       "      <td>NaN</td>\n",
       "      <td>3.746697e+12</td>\n",
       "      <td>NaN</td>\n",
       "      <td>NaN</td>\n",
       "    </tr>\n",
       "    <tr>\n",
       "      <th>2021-01-01</th>\n",
       "      <td>NaN</td>\n",
       "      <td>3.775462e+12</td>\n",
       "      <td>NaN</td>\n",
       "      <td>NaN</td>\n",
       "    </tr>\n",
       "  </tbody>\n",
       "</table>\n",
       "<p>852 rows × 4 columns</p>\n",
       "</div>"
      ],
      "text/plain": [
       "            Investment fitted values (monthly step data)  \\\n",
       "1950-02-01                                  4.393648e+10   \n",
       "1950-03-01                                  4.591476e+10   \n",
       "1950-04-01                                  4.639369e+10   \n",
       "1950-05-01                                  4.619230e+10   \n",
       "1950-06-01                                  4.949571e+10   \n",
       "...                                                  ...   \n",
       "2020-09-01                                  3.567545e+12   \n",
       "2020-10-01                                  3.672447e+12   \n",
       "2020-11-01                                           NaN   \n",
       "2020-12-01                                           NaN   \n",
       "2021-01-01                                           NaN   \n",
       "\n",
       "            Investment forecasts (monthly step data)  \\\n",
       "1950-02-01                                       NaN   \n",
       "1950-03-01                                       NaN   \n",
       "1950-04-01                                       NaN   \n",
       "1950-05-01                                       NaN   \n",
       "1950-06-01                                       NaN   \n",
       "...                                              ...   \n",
       "2020-09-01                                       NaN   \n",
       "2020-10-01                                       NaN   \n",
       "2020-11-01                              3.715717e+12   \n",
       "2020-12-01                              3.746697e+12   \n",
       "2021-01-01                              3.775462e+12   \n",
       "\n",
       "            Investment fitted values' real errors (monthly step data)  \\\n",
       "1950-02-01                                      -7.885217e+08           \n",
       "1950-03-01                                       1.189762e+09           \n",
       "1950-04-01                                       1.668688e+09           \n",
       "1950-05-01                                      -3.265699e+09           \n",
       "1950-06-01                                       3.771491e+07           \n",
       "...                                                       ...           \n",
       "2020-09-01                                      -1.215020e+11           \n",
       "2020-10-01                                      -1.660023e+10           \n",
       "2020-11-01                                                NaN           \n",
       "2020-12-01                                                NaN           \n",
       "2021-01-01                                                NaN           \n",
       "\n",
       "            Net Exports (monthly step data) positive  \n",
       "1950-02-01                              8.078330e+11  \n",
       "1950-03-01                              8.078330e+11  \n",
       "1950-04-01                              8.078330e+11  \n",
       "1950-05-01                              8.072730e+11  \n",
       "1950-06-01                              8.072730e+11  \n",
       "...                                              ...  \n",
       "2020-09-01                              6.950600e+10  \n",
       "2020-10-01                              6.950600e+10  \n",
       "2020-11-01                                       NaN  \n",
       "2020-12-01                                       NaN  \n",
       "2021-01-01                                       NaN  \n",
       "\n",
       "[852 rows x 4 columns]"
      ]
     },
     "execution_count": 114,
     "metadata": {},
     "output_type": "execute_result"
    }
   ],
   "source": [
    "df1"
   ]
  },
  {
   "cell_type": "code",
   "execution_count": 115,
   "metadata": {},
   "outputs": [
    {
     "name": "stderr",
     "output_type": "stream",
     "text": [
      "C:\\ProgramData\\Anaconda3\\envs\\r-tutorial\\lib\\site-packages\\statsmodels\\tsa\\base\\tsa_model.py:162: ValueWarning: No frequency information was provided, so inferred frequency MS will be used.\n",
      "  % freq, ValueWarning)\n",
      "C:\\ProgramData\\Anaconda3\\envs\\r-tutorial\\lib\\site-packages\\statsmodels\\tsa\\holtwinters.py:731: RuntimeWarning: invalid value encountered in greater_equal\n",
      "  loc = initial_p >= ub\n"
     ]
    }
   ],
   "source": [
    "model_fit = statsmodels.tsa.holtwinters.ExponentialSmoothing(_data.dropna(),\n",
    "                                                             seasonal_periods = 12,\n",
    "                                                             trend = 'add',\n",
    "                                                             damped = True).fit(use_boxcox = True)"
   ]
  },
  {
   "cell_type": "code",
   "execution_count": 116,
   "metadata": {},
   "outputs": [
    {
     "data": {
      "text/plain": [
       "1950-02-01    8.078330e+11\n",
       "1950-03-01    8.078330e+11\n",
       "1950-04-01    8.078330e+11\n",
       "1950-05-01    8.078330e+11\n",
       "1950-06-01    8.073236e+11\n",
       "                  ...     \n",
       "2020-06-01    2.685556e+11\n",
       "2020-07-01    2.523991e+11\n",
       "2020-08-01    2.525657e+11\n",
       "2020-09-01    8.517115e+10\n",
       "2020-10-01    2.085266e+10\n",
       "Length: 849, dtype: float64"
      ]
     },
     "execution_count": 116,
     "metadata": {},
     "output_type": "execute_result"
    }
   ],
   "source": [
    "model_fit.fittedvalues"
   ]
  },
  {
   "cell_type": "code",
   "execution_count": 117,
   "metadata": {},
   "outputs": [
    {
     "data": {
      "text/html": [
       "<div>\n",
       "<style scoped>\n",
       "    .dataframe tbody tr th:only-of-type {\n",
       "        vertical-align: middle;\n",
       "    }\n",
       "\n",
       "    .dataframe tbody tr th {\n",
       "        vertical-align: top;\n",
       "    }\n",
       "\n",
       "    .dataframe thead th {\n",
       "        text-align: right;\n",
       "    }\n",
       "</style>\n",
       "<table border=\"1\" class=\"dataframe\">\n",
       "  <thead>\n",
       "    <tr style=\"text-align: right;\">\n",
       "      <th></th>\n",
       "      <th>Investment fitted values (monthly step data)</th>\n",
       "      <th>Investment forecasts (monthly step data)</th>\n",
       "      <th>Investment fitted values' real errors (monthly step data)</th>\n",
       "      <th>Net Exports (monthly step data) positive</th>\n",
       "      <th>Net Exports fitted values (monthly step data)</th>\n",
       "      <th>Net Exports forecasts (monthly step data)</th>\n",
       "      <th>Net Exports fitted values' real errors (monthly step data)</th>\n",
       "    </tr>\n",
       "  </thead>\n",
       "  <tbody>\n",
       "    <tr>\n",
       "      <th>1950-02-01</th>\n",
       "      <td>4.393648e+10</td>\n",
       "      <td>NaN</td>\n",
       "      <td>-7.885217e+08</td>\n",
       "      <td>8.078330e+11</td>\n",
       "      <td>2.203000e+09</td>\n",
       "      <td>NaN</td>\n",
       "      <td>6.103516e-04</td>\n",
       "    </tr>\n",
       "    <tr>\n",
       "      <th>1950-03-01</th>\n",
       "      <td>4.591476e+10</td>\n",
       "      <td>NaN</td>\n",
       "      <td>1.189762e+09</td>\n",
       "      <td>8.078330e+11</td>\n",
       "      <td>2.203000e+09</td>\n",
       "      <td>NaN</td>\n",
       "      <td>6.103516e-04</td>\n",
       "    </tr>\n",
       "    <tr>\n",
       "      <th>1950-04-01</th>\n",
       "      <td>4.639369e+10</td>\n",
       "      <td>NaN</td>\n",
       "      <td>1.668688e+09</td>\n",
       "      <td>8.078330e+11</td>\n",
       "      <td>2.203000e+09</td>\n",
       "      <td>NaN</td>\n",
       "      <td>6.103516e-04</td>\n",
       "    </tr>\n",
       "    <tr>\n",
       "      <th>1950-05-01</th>\n",
       "      <td>4.619230e+10</td>\n",
       "      <td>NaN</td>\n",
       "      <td>-3.265699e+09</td>\n",
       "      <td>8.072730e+11</td>\n",
       "      <td>2.203000e+09</td>\n",
       "      <td>NaN</td>\n",
       "      <td>5.600000e+08</td>\n",
       "    </tr>\n",
       "    <tr>\n",
       "      <th>1950-06-01</th>\n",
       "      <td>4.949571e+10</td>\n",
       "      <td>NaN</td>\n",
       "      <td>3.771491e+07</td>\n",
       "      <td>8.072730e+11</td>\n",
       "      <td>1.693592e+09</td>\n",
       "      <td>NaN</td>\n",
       "      <td>5.059200e+07</td>\n",
       "    </tr>\n",
       "    <tr>\n",
       "      <th>...</th>\n",
       "      <td>...</td>\n",
       "      <td>...</td>\n",
       "      <td>...</td>\n",
       "      <td>...</td>\n",
       "      <td>...</td>\n",
       "      <td>...</td>\n",
       "      <td>...</td>\n",
       "    </tr>\n",
       "    <tr>\n",
       "      <th>2020-09-01</th>\n",
       "      <td>3.567545e+12</td>\n",
       "      <td>NaN</td>\n",
       "      <td>-1.215020e+11</td>\n",
       "      <td>6.950600e+10</td>\n",
       "      <td>-7.204588e+11</td>\n",
       "      <td>NaN</td>\n",
       "      <td>1.566515e+10</td>\n",
       "    </tr>\n",
       "    <tr>\n",
       "      <th>2020-10-01</th>\n",
       "      <td>3.672447e+12</td>\n",
       "      <td>NaN</td>\n",
       "      <td>-1.660023e+10</td>\n",
       "      <td>6.950600e+10</td>\n",
       "      <td>-7.847773e+11</td>\n",
       "      <td>NaN</td>\n",
       "      <td>-4.865334e+10</td>\n",
       "    </tr>\n",
       "    <tr>\n",
       "      <th>2020-11-01</th>\n",
       "      <td>NaN</td>\n",
       "      <td>3.715717e+12</td>\n",
       "      <td>NaN</td>\n",
       "      <td>NaN</td>\n",
       "      <td>NaN</td>\n",
       "      <td>-7.752050e+11</td>\n",
       "      <td>NaN</td>\n",
       "    </tr>\n",
       "    <tr>\n",
       "      <th>2020-12-01</th>\n",
       "      <td>NaN</td>\n",
       "      <td>3.746697e+12</td>\n",
       "      <td>NaN</td>\n",
       "      <td>NaN</td>\n",
       "      <td>NaN</td>\n",
       "      <td>-7.941045e+11</td>\n",
       "      <td>NaN</td>\n",
       "    </tr>\n",
       "    <tr>\n",
       "      <th>2021-01-01</th>\n",
       "      <td>NaN</td>\n",
       "      <td>3.775462e+12</td>\n",
       "      <td>NaN</td>\n",
       "      <td>NaN</td>\n",
       "      <td>NaN</td>\n",
       "      <td>NaN</td>\n",
       "      <td>NaN</td>\n",
       "    </tr>\n",
       "  </tbody>\n",
       "</table>\n",
       "<p>852 rows × 7 columns</p>\n",
       "</div>"
      ],
      "text/plain": [
       "            Investment fitted values (monthly step data)  \\\n",
       "1950-02-01                                  4.393648e+10   \n",
       "1950-03-01                                  4.591476e+10   \n",
       "1950-04-01                                  4.639369e+10   \n",
       "1950-05-01                                  4.619230e+10   \n",
       "1950-06-01                                  4.949571e+10   \n",
       "...                                                  ...   \n",
       "2020-09-01                                  3.567545e+12   \n",
       "2020-10-01                                  3.672447e+12   \n",
       "2020-11-01                                           NaN   \n",
       "2020-12-01                                           NaN   \n",
       "2021-01-01                                           NaN   \n",
       "\n",
       "            Investment forecasts (monthly step data)  \\\n",
       "1950-02-01                                       NaN   \n",
       "1950-03-01                                       NaN   \n",
       "1950-04-01                                       NaN   \n",
       "1950-05-01                                       NaN   \n",
       "1950-06-01                                       NaN   \n",
       "...                                              ...   \n",
       "2020-09-01                                       NaN   \n",
       "2020-10-01                                       NaN   \n",
       "2020-11-01                              3.715717e+12   \n",
       "2020-12-01                              3.746697e+12   \n",
       "2021-01-01                              3.775462e+12   \n",
       "\n",
       "            Investment fitted values' real errors (monthly step data)  \\\n",
       "1950-02-01                                      -7.885217e+08           \n",
       "1950-03-01                                       1.189762e+09           \n",
       "1950-04-01                                       1.668688e+09           \n",
       "1950-05-01                                      -3.265699e+09           \n",
       "1950-06-01                                       3.771491e+07           \n",
       "...                                                       ...           \n",
       "2020-09-01                                      -1.215020e+11           \n",
       "2020-10-01                                      -1.660023e+10           \n",
       "2020-11-01                                                NaN           \n",
       "2020-12-01                                                NaN           \n",
       "2021-01-01                                                NaN           \n",
       "\n",
       "            Net Exports (monthly step data) positive  \\\n",
       "1950-02-01                              8.078330e+11   \n",
       "1950-03-01                              8.078330e+11   \n",
       "1950-04-01                              8.078330e+11   \n",
       "1950-05-01                              8.072730e+11   \n",
       "1950-06-01                              8.072730e+11   \n",
       "...                                              ...   \n",
       "2020-09-01                              6.950600e+10   \n",
       "2020-10-01                              6.950600e+10   \n",
       "2020-11-01                                       NaN   \n",
       "2020-12-01                                       NaN   \n",
       "2021-01-01                                       NaN   \n",
       "\n",
       "            Net Exports fitted values (monthly step data)  \\\n",
       "1950-02-01                                   2.203000e+09   \n",
       "1950-03-01                                   2.203000e+09   \n",
       "1950-04-01                                   2.203000e+09   \n",
       "1950-05-01                                   2.203000e+09   \n",
       "1950-06-01                                   1.693592e+09   \n",
       "...                                                   ...   \n",
       "2020-09-01                                  -7.204588e+11   \n",
       "2020-10-01                                  -7.847773e+11   \n",
       "2020-11-01                                            NaN   \n",
       "2020-12-01                                            NaN   \n",
       "2021-01-01                                            NaN   \n",
       "\n",
       "            Net Exports forecasts (monthly step data)  \\\n",
       "1950-02-01                                        NaN   \n",
       "1950-03-01                                        NaN   \n",
       "1950-04-01                                        NaN   \n",
       "1950-05-01                                        NaN   \n",
       "1950-06-01                                        NaN   \n",
       "...                                               ...   \n",
       "2020-09-01                                        NaN   \n",
       "2020-10-01                                        NaN   \n",
       "2020-11-01                              -7.752050e+11   \n",
       "2020-12-01                              -7.941045e+11   \n",
       "2021-01-01                                        NaN   \n",
       "\n",
       "            Net Exports fitted values' real errors (monthly step data)  \n",
       "1950-02-01                                       6.103516e-04           \n",
       "1950-03-01                                       6.103516e-04           \n",
       "1950-04-01                                       6.103516e-04           \n",
       "1950-05-01                                       5.600000e+08           \n",
       "1950-06-01                                       5.059200e+07           \n",
       "...                                                       ...           \n",
       "2020-09-01                                       1.566515e+10           \n",
       "2020-10-01                                      -4.865334e+10           \n",
       "2020-11-01                                                NaN           \n",
       "2020-12-01                                                NaN           \n",
       "2021-01-01                                                NaN           \n",
       "\n",
       "[852 rows x 7 columns]"
      ]
     },
     "execution_count": 117,
     "metadata": {},
     "output_type": "execute_result"
    }
   ],
   "source": [
    "df1[\"Net Exports fitted values (monthly step data)\"] = model_fit.fittedvalues - _data_min_p1\n",
    "df1[\"Net Exports forecasts (monthly step data)\"] = model_fit.forecast(3) - _data_min_p1\n",
    "df1[\"Net Exports fitted values' real errors (monthly step data)\"] = df1[\"Net Exports fitted values (monthly step data)\"] - df[\"Net Exports (monthly step data)\"]\n",
    "df1"
   ]
  },
  {
   "cell_type": "markdown",
   "metadata": {},
   "source": [
    "### Holt Winters models and graphs"
   ]
  },
  {
   "cell_type": "code",
   "execution_count": 121,
   "metadata": {},
   "outputs": [
    {
     "name": "stdout",
     "output_type": "stream",
     "text": [
      "Investment forecasts:\n"
     ]
    },
    {
     "data": {
      "text/plain": [
       "2020-11-01    3.715717e+12\n",
       "2020-12-01    3.746697e+12\n",
       "2021-01-01    3.775462e+12\n",
       "Freq: MS, dtype: float64"
      ]
     },
     "metadata": {},
     "output_type": "display_data"
    }
   ],
   "source": [
    "# See the HW model's forecasts:\n",
    "print(\"Investment forecasts:\")\n",
    "display(invest_model_fit.forecast(3))"
   ]
  },
  {
   "cell_type": "code",
   "execution_count": 122,
   "metadata": {},
   "outputs": [
    {
     "data": {
      "image/png": "[encoded data removed]",
      "text/plain": [
       "<Figure size 1296x360 with 1 Axes>"
      ]
     },
     "metadata": {},
     "output_type": "display_data"
    }
   ],
   "source": [
    "# Plot the newly created Exponential Smoothing data\n",
    "fig1, ax1 = plt.subplots(figsize = (18,5), facecolor = \"0.25\")\n",
    "df[\"Investment (monthly step data)\"].dropna().plot(style = \"--\",\n",
    "                                                color = \"blue\",\n",
    "                                                legend = True).legend([\"Investment (monthly step data)\"])\n",
    "\n",
    "invest_model_fit.fittedvalues.plot(style = \"--\",\n",
    "                            color = \"C1\",\n",
    "                            label = \"Investment model fit\",\n",
    "                            legend = True)\n",
    "\n",
    "invest_model_fit.forecast(3).plot(style = \"--\",\n",
    "                           color = \"green\",\n",
    "                           label = \"Investment model forecast\",\n",
    "                           legend = True)\n",
    "\n",
    "ax1.set_facecolor(\"0.25\")\n",
    "ax1.tick_params(axis = \"both\", colors = \"w\")\n",
    "plt.ylabel(\"$\", color = \"w\")\n",
    "ax1.set_xlabel(\"Years\", color = \"w\")\n",
    "ax1.grid(color = 'black', linewidth = 0.5)\n",
    "\n",
    "ax1.set_title(\"Forecasting U.S.A. Real G.D.P.'s \" + \"Investment component of properties\" +\n",
    "              \"\\nusing the Holt-Winters method (HW) (monthly data) (forecasts in \" +\n",
    "              \"green\" + \") \\n\", color='w')\n",
    "\n",
    "ax1.legend()\n",
    "plt.show()"
   ]
  },
  {
   "cell_type": "code",
   "execution_count": 127,
   "metadata": {},
   "outputs": [],
   "source": [
    "def Holt_Winters_Method(name, forecast_period = 3, negative_accounting = False, silence_warings = True,\n",
    "                       figure_size = (15,4), face_color = \"0.25\", point_style = \"-\", plot_color = \"blue\",\n",
    "                       fitted_point_style = \"-\", fitted_point_color = \"C1\", xlabel = \"Years\",\n",
    "                       forecasted_point_style = \"-\", forecasted_point_color = \"#328203\"):\n",
    "    \"\"\" This function was created specifically for this script/article. It uses the Holt-Winters\n",
    "    method to construct estimates and forecasts, adds it to ' df 'and plots the original data against\n",
    "    the estimates and forecasts.\n",
    "    Necessitates the function ' Quarterly_To_Monthly '\n",
    "    \n",
    "    name (str): Name of the GDP component in question. This component must be included in ' df '.\n",
    "    \n",
    "    forecast_period (int): Set to ' 3 ' as default. Number of periods we wish to display forecasts for.\n",
    "    \n",
    "    negative_accounting (bool): Set to False by default. If set to True, this accounts for negative values\n",
    "    in that it does not display forecasted values explicitly or the graph because they would be shifted up.\n",
    "    \n",
    "    figure_size, face_color, point_style, plot_color, fitted_point_style, fitted_point_color, xlabel,\n",
    "    forecasted_point_style, and forecasted_point_color are variables to modify the plot returned.\n",
    "    \"\"\"\n",
    "    global df # we are not defining our df function inside the ' Holt_Winters_Method ' (e.g.: df = pandas.DataFrame([])); instead we are using the one constructed outside the function.\n",
    "    \n",
    "    if negative_accounting == True:\n",
    "        # First: we need to note that the Holt-Winters model only works for positive datasets.\n",
    "        # the following is to account for negative values:\n",
    "        _data_min_p1 = numpy.absolute(pandas.DataFrame.min(df[name + \" (monthly step data)\"])) + 1\n",
    "        _data = (_data_min_p1 + df[name + \" (monthly step data)\"].copy()).dropna()\n",
    "        \n",
    "        df[name + \" (monthly step data) positive\"] = _data\n",
    "    else:\n",
    "        _data_min_p1 = 0\n",
    "        _data = df[name + \" (monthly step data)\"].dropna()\n",
    "    \n",
    "    if silence_warings == True:\n",
    "        # The following will throw errors informing us that the unspecified Holt-Winters Exponential Smoother\n",
    "        # parameters will be chosen by the default ' statsmodels.tsa.api.ExponentialSmoothing ' optimal ones.\n",
    "        # This is preferable and doesn't need to be stated for each iteration in the loop.\n",
    "        warnings.simplefilter(\"ignore\")\n",
    "    \n",
    "    model_fit = statsmodels.tsa.holtwinters.ExponentialSmoothing(_data.dropna(),\n",
    "                                                                 seasonal_periods = 12,\n",
    "                                                                 trend = 'add',\n",
    "                                                                 damped = True).fit(use_boxcox = True)\n",
    "    \n",
    "    df[name + \" fitted values (monthly step data)\"] = model_fit.fittedvalues - _data_min_p1\n",
    "    df[name + \" forecasts (monthly step data)\"] = model_fit.forecast(forecast_period) - _data_min_p1\n",
    "    df[name + \" fitted values' real errors (monthly step data)\"] = df[name + \" fitted values (monthly step data)\"] - df[name + \" (monthly step data)\"]\n",
    "    \n",
    "    if negative_accounting == False:\n",
    "        # See the HW model's forecasts:\n",
    "        print(name + \" forecasts:\")\n",
    "        display(model_fit.forecast(forecast_period))\n",
    "        \n",
    "        \n",
    "        # Plot the newly created Exponential Smoothing data\n",
    "        fig1, ax1 = plt.subplots(figsize = figure_size, facecolor = face_color)\n",
    "        df[name + \" (monthly step data)\"].dropna().plot(style = point_style,\n",
    "                                                        color = plot_color,\n",
    "                                                        legend = True).legend([name + \" (monthly step data)\"])\n",
    "        \n",
    "        model_fit.fittedvalues.plot(style = fitted_point_style,\n",
    "                                    color = fitted_point_color,\n",
    "                                    label = name + \" model fit\",\n",
    "                                    legend = True)\n",
    "        \n",
    "        model_fit.forecast(forecast_period).plot(style = forecasted_point_style,\n",
    "                                                 color = forecasted_point_color,\n",
    "                                                 label = name + \" model forecast\",\n",
    "                                                 legend = True)\n",
    "        \n",
    "        ax1.set_facecolor(face_color)\n",
    "        ax1.tick_params(axis = \"both\", colors = \"w\")\n",
    "        plt.ylabel(\"Ratio\", color = \"w\")\n",
    "        ax1.set_xlabel(xlabel, color = \"w\")\n",
    "        ax1.grid(color='black', linewidth = 0.5)\n",
    "        \n",
    "        # The default 'forecasted_point_color' is \"#328203\", i.e.: green\n",
    "        if forecasted_point_color == \"#328203\":\n",
    "            ax1.set_title(\"Forecasting USA Real GDP's \"+ name + \" component of properties\" +\n",
    "                      \"\\nusing the Holt-Winters method (HW) (monthly data) (forecasts in green)\" +\n",
    "                      \" \\n\", color='w')\n",
    "        else:\n",
    "            ax1.set_title(\"Forecasting U.S.A. Real G.D.P.'s \"+ name + \" component of properties\" +\n",
    "                          \"\\nusing the Holt-Winters method (HW) (monthly data) (forecasts in \" +\n",
    "                          forecasted_point_color + \") \\n\", color = 'w')\n",
    "\n",
    "        ax1.legend()\n",
    "        plt.show()\n",
    "    \n",
    "    if silence_warings == True:\n",
    "        # We want our program to let us know of warnings from now on; they were only disabled for the for loop above.\n",
    "        warnings.simplefilter(\"default\")"
   ]
  },
  {
   "cell_type": "code",
   "execution_count": 128,
   "metadata": {},
   "outputs": [
    {
     "name": "stdout",
     "output_type": "stream",
     "text": [
      "Investment forecasts:\n"
     ]
    },
    {
     "data": {
      "text/plain": [
       "2020-11-01    3.707934e+12\n",
       "2020-12-01    3.738244e+12\n",
       "2021-01-01    3.766364e+12\n",
       "Freq: MS, dtype: float64"
      ]
     },
     "metadata": {},
     "output_type": "display_data"
    },
    {
     "data": {
      "image/png": "[encoded data removed]",
      "text/plain": [
       "<Figure size 1080x288 with 1 Axes>"
      ]
     },
     "metadata": {},
     "output_type": "display_data"
    }
   ],
   "source": [
    "Holt_Winters_Method(name = \"Investment\")"
   ]
  },
  {
   "cell_type": "code",
   "execution_count": 129,
   "metadata": {},
   "outputs": [
    {
     "data": {
      "text/html": [
       "<div>\n",
       "<style scoped>\n",
       "    .dataframe tbody tr th:only-of-type {\n",
       "        vertical-align: middle;\n",
       "    }\n",
       "\n",
       "    .dataframe tbody tr th {\n",
       "        vertical-align: top;\n",
       "    }\n",
       "\n",
       "    .dataframe thead th {\n",
       "        text-align: right;\n",
       "    }\n",
       "</style>\n",
       "<table border=\"1\" class=\"dataframe\">\n",
       "  <thead>\n",
       "    <tr style=\"text-align: right;\">\n",
       "      <th></th>\n",
       "      <th>Mean of Absolute Values</th>\n",
       "    </tr>\n",
       "  </thead>\n",
       "  <tbody>\n",
       "    <tr>\n",
       "      <th>Investment forecasts (monthly step data)</th>\n",
       "      <td>3.73751e+12</td>\n",
       "    </tr>\n",
       "    <tr>\n",
       "      <th>Investment fitted values' real errors (monthly step data)</th>\n",
       "      <td>8.82226e+09</td>\n",
       "    </tr>\n",
       "  </tbody>\n",
       "</table>\n",
       "</div>"
      ],
      "text/plain": [
       "                                                   Mean of Absolute Values\n",
       "Investment forecasts (monthly step data)                       3.73751e+12\n",
       "Investment fitted values' real errors (monthly ...             8.82226e+09"
      ]
     },
     "execution_count": 129,
     "metadata": {},
     "output_type": "execute_result"
    }
   ],
   "source": [
    "# the ' pandas.DataFrame ' here is only there to make Jupyter return a Markdown table that looks better than the raw ' print ' output.\n",
    "pandas.DataFrame(Statistics_Table(dataset1 = df).loc[[\"Investment forecasts (monthly step data)\",\n",
    "                                                      \"Investment fitted values' real errors (monthly step data)\"]][\"Mean of Absolute Values\"])"
   ]
  },
  {
   "cell_type": "code",
   "execution_count": 130,
   "metadata": {},
   "outputs": [
    {
     "name": "stdout",
     "output_type": "stream",
     "text": [
      "Government Investment forecasts:\n"
     ]
    },
    {
     "data": {
      "text/plain": [
       "2020-11-01    3.813987e+12\n",
       "2020-12-01    3.810236e+12\n",
       "2021-01-01    3.806607e+12\n",
       "Freq: MS, dtype: float64"
      ]
     },
     "metadata": {},
     "output_type": "display_data"
    },
    {
     "data": {
      "image/png": "[encoded data removed]",
      "text/plain": [
       "<Figure size 1080x288 with 1 Axes>"
      ]
     },
     "metadata": {},
     "output_type": "display_data"
    }
   ],
   "source": [
    "Holt_Winters_Method(name = \"Government Investment\")"
   ]
  },
  {
   "cell_type": "code",
   "execution_count": 131,
   "metadata": {},
   "outputs": [],
   "source": [
    "Holt_Winters_Method(name = \"Net Exports\", negative_accounting = True)"
   ]
  },
  {
   "cell_type": "markdown",
   "metadata": {},
   "source": [
    "$$ \\\\ $$\n",
    "## Part 7: Back-testing our Method"
   ]
  },
  {
   "cell_type": "code",
   "execution_count": null,
   "metadata": {},
   "outputs": [],
   "source": []
  }
 ],
 "metadata": {
  "kernelspec": {
   "display_name": "Python 3",
   "language": "python",
   "name": "python3"
  },
  "language_info": {
   "codemirror_mode": {
    "name": "ipython",
    "version": 3
   },
   "file_extension": ".py",
   "mimetype": "text/x-python",
   "name": "python",
   "nbconvert_exporter": "python",
   "pygments_lexer": "ipython3",
   "version": "3.8.2"
  }
 },
 "nbformat": 4,
 "nbformat_minor": 4
}
